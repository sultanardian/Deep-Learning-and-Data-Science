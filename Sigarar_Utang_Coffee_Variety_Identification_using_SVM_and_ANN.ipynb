{
  "cells": [
    {
      "cell_type": "markdown",
      "metadata": {
        "id": "view-in-github",
        "colab_type": "text"
      },
      "source": [
        "<a href=\"https://colab.research.google.com/github/sultanardian/Deep-Learning-and-Data-Science/blob/main/Sigarar_Utang_Coffee_Variety_Identification_using_SVM_and_ANN.ipynb\" target=\"_parent\"><img src=\"https://colab.research.google.com/assets/colab-badge.svg\" alt=\"Open In Colab\"/></a>"
      ]
    },
    {
      "cell_type": "markdown",
      "metadata": {
        "id": "Y9v-w08rUWyn"
      },
      "source": [
        "# Import Library"
      ]
    },
    {
      "cell_type": "code",
      "source": [
        "from google.colab.patches import cv2_imshow"
      ],
      "metadata": {
        "id": "8dMXZDHBMr2D"
      },
      "execution_count": null,
      "outputs": []
    },
    {
      "cell_type": "code",
      "execution_count": null,
      "metadata": {
        "id": "TsZfQmDEn2Os"
      },
      "outputs": [],
      "source": [
        "# import library\n",
        "import os\n",
        "import numpy as np\n",
        "import random\n",
        "from tqdm import tqdm\n",
        "import pandas as pd\n",
        "from random import seed\n",
        "from random import randint\n",
        "\n",
        "import cv2\n",
        "import matplotlib.pyplot as plt\n",
        "\n",
        "from sklearn.preprocessing import LabelEncoder\n",
        "from sklearn.model_selection import train_test_split, GridSearchCV\n",
        "from sklearn.svm import SVC\n",
        "from sklearn.metrics import ConfusionMatrixDisplay, classification_report, confusion_matrix, accuracy_score\n",
        "\n",
        "from skimage.feature import greycomatrix, greycoprops\n",
        "from skimage.io import imread\n",
        "import skimage\n",
        "\n",
        "import tensorflow as tf\n",
        "from tensorflow import keras\n",
        "from tensorflow.keras.preprocessing.image import img_to_array, array_to_img\n",
        "from tensorflow.keras.models import Sequential\n",
        "from tensorflow.keras.layers import Dense, Flatten\n",
        "\n",
        "# import keras_tuner as kt"
      ]
    },
    {
      "cell_type": "markdown",
      "source": [
        "# Preparing datasets"
      ],
      "metadata": {
        "id": "Zosf29wFx415"
      }
    },
    {
      "cell_type": "code",
      "source": [
        "from google.colab import drive\n",
        "drive.mount('/content/drive')"
      ],
      "metadata": {
        "id": "fRNANm2xOITd",
        "colab": {
          "base_uri": "https://localhost:8080/"
        },
        "outputId": "15f85b1f-42d8-4749-9301-7389f2636838"
      },
      "execution_count": null,
      "outputs": [
        {
          "output_type": "stream",
          "name": "stdout",
          "text": [
            "Mounted at /content/drive\n"
          ]
        }
      ]
    },
    {
      "cell_type": "code",
      "source": [
        "PATH = '/content/drive/MyDrive/Job/projects.co.id/dataset/Dataset'\n",
        "CATS = ['cacat', 'tidak_cacat']"
      ],
      "metadata": {
        "id": "wwQio02pMrDX"
      },
      "execution_count": null,
      "outputs": []
    },
    {
      "cell_type": "code",
      "source": [
        "asset = []\n",
        "\n",
        "for cat in CATS:\n",
        "    img_path = os.path.join(PATH, cat, 'original')\n",
        "    for files in tqdm(sorted(os.listdir(img_path))):\n",
        "        dir = os.path.join(img_path, files)\n",
        "        img = cv2.imread(dir)\n",
        "        asset.append({\n",
        "            'img' : img,\n",
        "            'label' : cat,\n",
        "            'filename' : files\n",
        "        })"
      ],
      "metadata": {
        "id": "1dsuQgFau7a9",
        "colab": {
          "base_uri": "https://localhost:8080/"
        },
        "outputId": "3d4d7221-4bd8-4ac5-8a0a-1e72f771a556"
      },
      "execution_count": null,
      "outputs": [
        {
          "output_type": "stream",
          "name": "stderr",
          "text": [
            "100%|██████████| 160/160 [00:25<00:00,  6.26it/s]\n",
            "100%|██████████| 160/160 [00:22<00:00,  7.23it/s]\n"
          ]
        }
      ]
    },
    {
      "cell_type": "code",
      "source": [
        "len(asset)"
      ],
      "metadata": {
        "colab": {
          "base_uri": "https://localhost:8080/"
        },
        "id": "CxxbRqGEyUSf",
        "outputId": "91966734-6955-4f42-acb3-d5b51853b3ad"
      },
      "execution_count": null,
      "outputs": [
        {
          "output_type": "execute_result",
          "data": {
            "text/plain": [
              "320"
            ]
          },
          "metadata": {},
          "execution_count": 5
        }
      ]
    },
    {
      "cell_type": "markdown",
      "source": [
        "# Define some functions"
      ],
      "metadata": {
        "id": "w8jGh2h3x-XR"
      }
    },
    {
      "cell_type": "markdown",
      "source": [
        "### Preprocessing functions"
      ],
      "metadata": {
        "id": "S89E7IAYyFw-"
      }
    },
    {
      "cell_type": "code",
      "source": [
        "def rotate_augmentation(data, angles = []):\n",
        "    img = data['img']\n",
        "    label = data['label']\n",
        "    filename = data['filename'].split('.')[0]\n",
        "\n",
        "    new_asset = []\n",
        "    angles = angles\n",
        "\n",
        "    if angles.count(0) == 0:\n",
        "        angles.append(0)\n",
        "\n",
        "    for angle in angles:\n",
        "\n",
        "        (h, w) = img.shape[:2]\n",
        "        center = (w / 2, h / 2)\n",
        "        scale = 1\n",
        "\n",
        "        M = cv2.getRotationMatrix2D(center, angle, scale)\n",
        "        result = cv2.warpAffine(img, M, (w, h), borderValue=(255,255,255))\n",
        "\n",
        "        file_name = '{}-{}.png'.format(filename, angle)\n",
        "        file_loc = os.path.join(PATH, label, 'augmentation')\n",
        "        save_img(result, file_loc, file_name)\n",
        "\n",
        "        new_asset.append({\n",
        "            'img' : result,\n",
        "            'label' : label,\n",
        "            'filename' : file_name\n",
        "        })\n",
        "       \n",
        "    return new_asset\n",
        "\n",
        "def cropping(data):\n",
        "    img = data['img']\n",
        "    label = data['label']\n",
        "    filename = data['filename'].split('.')[0]\n",
        "\n",
        "    if round(img.shape[0]/img.shape[1],1) == 0.8:\n",
        "        y = int((img.shape[0]/2)-(img.shape[0]/5))\n",
        "        x = int((img.shape[1]/2)-((img.shape[1]/40)*3))\n",
        "        h = int(img.shape[0]/3)\n",
        "        w = int(img.shape[0]/3)\n",
        "        result = img[y:y+h,x:x+w]\n",
        "    elif round(img.shape[0]/img.shape[1],1) == 2.2:\n",
        "        y = int((img.shape[0]/2)-(img.shape[0]/5))\n",
        "        x = int((img.shape[1]/2)-((img.shape[1]/8)*4))\n",
        "        h = int(img.shape[0]/2)\n",
        "        w = int(img.shape[0]/2)\n",
        "        result = img[y:y+h,x:x+w]\n",
        "    else:\n",
        "        y = int((img.shape[0]/2)-(img.shape[0]/4))\n",
        "        x = int((img.shape[1]/2)-((img.shape[1]/30)*3))\n",
        "        h = int(img.shape[0]/2)\n",
        "        w = int(img.shape[0]/2)\n",
        "        result = img[y:y+h,x:x+w]\n",
        "\n",
        "    file_name = '{}.png'.format(filename)\n",
        "    file_loc = os.path.join(PATH, label, 'cropping')\n",
        "    save_img(result, file_loc, file_name)\n",
        "\n",
        "    cropped_img = {\n",
        "        'img' : result,\n",
        "        'label' : label,\n",
        "        'filename' : file_name\n",
        "    }\n",
        "\n",
        "    return cropped_img\n",
        "\n",
        "def resize(data, height, width):\n",
        "    img = data['img']\n",
        "    label = data['label']\n",
        "    filename = data['filename'].split('.')[0]\n",
        "\n",
        "    result = cv2.resize(img, (height, width))\n",
        "\n",
        "    file_name = '{}.png'.format(filename)\n",
        "    file_loc = os.path.join(PATH, label, 'resize')\n",
        "    save_img(result, file_loc, file_name)\n",
        "\n",
        "    resize_img = {\n",
        "        'img' : result,\n",
        "        'label' : label,\n",
        "        'filename' : file_name\n",
        "    }\n",
        "\n",
        "    return resize_img\n",
        "\n",
        "def extract_foreground(data):\n",
        "    img = data['img']\n",
        "    label = data['label']\n",
        "    filename = data['filename'].split('.')[0]\n",
        "\n",
        "    # convert BGR to HSV\n",
        "    hsv = cv2.cvtColor(img, cv2.COLOR_BGR2HSV)\n",
        "\n",
        "    # convert BGR to YUV for check image contrast\n",
        "    Y = cv2.cvtColor(img, cv2.COLOR_BGR2YUV)[:,:,0]\n",
        "\n",
        "    # compute min and max of Y\n",
        "    min_Y = np.min(Y)\n",
        "    max_Y = np.max(Y)\n",
        "\n",
        "    # compute contrast\n",
        "    contrast = (max_Y-min_Y)/(max_Y+min_Y)\n",
        "\n",
        "    if contrast < 1.0:\n",
        "        hsv_lower = np.array([0,0,150])\n",
        "        hsv_upper = np.array([179,255,255])\n",
        "        X = 0\n",
        "        y = 255\n",
        "    elif 1.0 <= contrast < 10.0:\n",
        "        hsv_lower = np.array([0,0,215])\n",
        "        hsv_upper = np.array([179,255,255])\n",
        "        X = 125\n",
        "        y = 255\n",
        "    elif 10.0 < contrast < 12.0:\n",
        "        hsv_lower = np.array([0,0,155])\n",
        "        hsv_upper = np.array([179,255,255])\n",
        "        X = 185\n",
        "        y = 255\n",
        "    else:\n",
        "        hsv_lower = np.array([0,0,155])\n",
        "        hsv_upper = np.array([179,255,255])\n",
        "        X = 0\n",
        "        y = 255\n",
        "\n",
        "    mask = cv2.inRange(hsv, hsv_lower, hsv_upper)\n",
        "    result = cv2.bitwise_and(img, img, mask=mask)\n",
        "\n",
        "    result_gray = cv2.cvtColor(result, cv2.COLOR_BGR2GRAY)\n",
        "    \n",
        "    (thresh, result_bnw) = cv2.threshold(result_gray, X, y, cv2.THRESH_BINARY)\n",
        "\n",
        "    file_name = '{}.png'.format(filename)\n",
        "    file_loc = os.path.join(PATH, label, 'foreground')\n",
        "    save_img(result_bnw, file_loc, file_name)\n",
        "\n",
        "    foreground_img = {\n",
        "        'img' : result_bnw,\n",
        "        'label' : label,\n",
        "        'filename' : file_name\n",
        "    }\n",
        "    \n",
        "    return foreground_img"
      ],
      "metadata": {
        "id": "6956kcPDj3oi"
      },
      "execution_count": null,
      "outputs": []
    },
    {
      "cell_type": "markdown",
      "source": [
        "### Feature extraction functions"
      ],
      "metadata": {
        "id": "5qJRycnvyJJb"
      }
    },
    {
      "cell_type": "code",
      "source": [
        "def geometry_features(img):\n",
        "        img = cv2.GaussianBlur(img,(5,5),0)\n",
        "        img = cv2.Canny(img, 10, 150)\n",
        "\n",
        "        contours, _ = cv2.findContours(img, cv2.RETR_TREE, cv2.CHAIN_APPROX_SIMPLE)\n",
        "\n",
        "        # get diameters\n",
        "        diameters = []\n",
        "        for i in contours:\n",
        "            for j in i:\n",
        "                diameters.append(j[0][1] - j[0][0])\n",
        "        diameter = max([abs(d) for d in diameters])\n",
        "        \n",
        "        cnt = contours[0]\n",
        "\n",
        "        area = cv2.contourArea(cnt)\n",
        "        perimeter = cv2.arcLength(cnt,True)\n",
        "        x,y,w,l = cv2.boundingRect(cnt)\n",
        "        return {\n",
        "            'area' : round(area, 2),\n",
        "            'perimeter' : round(perimeter, 2),\n",
        "            'width' : round(w, 2),\n",
        "            'length' : round(l, 2),\n",
        "            'diameter' : round(diameter, 2)\n",
        "        }\n",
        "\n",
        "\n",
        "def morphology_features(img):\n",
        "    geom_feats = geometry_features(img)\n",
        "    \n",
        "    return {\n",
        "        'Ar' : round(geom_feats['length']/geom_feats['width'], 2),\n",
        "        'F' : 0 if geom_feats['area'] == 0 else round(4*3.14*geom_feats['area']/geom_feats['perimeter']**2, 2),\n",
        "        'Rect' : 0 if geom_feats['area'] == 0 else round(geom_feats['length']*geom_feats['width']/geom_feats['area'], 2),\n",
        "        'N' : round(geom_feats['diameter']/geom_feats['length'], 2),\n",
        "        'Pd' : round(geom_feats['perimeter']/geom_feats['diameter'], 2),\n",
        "        'Pplf' : round(geom_feats['perimeter']/(geom_feats['length']+geom_feats['width']), 2)\n",
        "    }"
      ],
      "metadata": {
        "id": "o9qpcxpKboTD"
      },
      "execution_count": null,
      "outputs": []
    },
    {
      "cell_type": "markdown",
      "source": [
        "### Additional function"
      ],
      "metadata": {
        "id": "Env9Z3qZEJFo"
      }
    },
    {
      "cell_type": "code",
      "source": [
        "def save_img(img, dir, filename):\n",
        "    while True:\n",
        "        if os.path.isdir(dir):\n",
        "            path = os.path.join(dir, filename)\n",
        "            cv2.imwrite(path, img)\n",
        "            break\n",
        "        else:\n",
        "            os.mkdir(dir)"
      ],
      "metadata": {
        "id": "fAspkO19EIje"
      },
      "execution_count": null,
      "outputs": []
    },
    {
      "cell_type": "markdown",
      "source": [
        "# Image preprocessing"
      ],
      "metadata": {
        "id": "mLMXeWlLWUK2"
      }
    },
    {
      "cell_type": "code",
      "source": [
        "crop_img = []\n",
        "for data in asset:\n",
        "    result = cropping(data)\n",
        "    crop_img.append(result)\n",
        "\n",
        "\n",
        "res_img = []\n",
        "for data in crop_img:\n",
        "    result = resize(data, 256, 256)\n",
        "    res_img.append(result)\n",
        "\n",
        "\n",
        "aug_img = []\n",
        "for data in res_img:\n",
        "    results = rotate_augmentation(data, [30, 40, 60, 90])\n",
        "    for result in results:\n",
        "        aug_img.append(result)\n",
        "\n",
        "\n",
        "fore_img = []\n",
        "for data in aug_img:\n",
        "    result = extract_foreground(data)\n",
        "    fore_img.append(result)"
      ],
      "metadata": {
        "id": "2lngxGy_zw0h",
        "colab": {
          "base_uri": "https://localhost:8080/"
        },
        "outputId": "7869c5a9-aeea-4e09-87a3-ad7e52e0fbc7"
      },
      "execution_count": null,
      "outputs": [
        {
          "output_type": "stream",
          "name": "stderr",
          "text": [
            "/usr/local/lib/python3.7/dist-packages/ipykernel_launcher.py:104: RuntimeWarning: overflow encountered in ubyte_scalars\n",
            "/usr/local/lib/python3.7/dist-packages/ipykernel_launcher.py:104: RuntimeWarning: divide by zero encountered in ubyte_scalars\n"
          ]
        }
      ]
    },
    {
      "cell_type": "markdown",
      "source": [
        "# Feature extraction"
      ],
      "metadata": {
        "id": "bOf4FobPyQwC"
      }
    },
    {
      "cell_type": "code",
      "source": [
        "labels = [data['label'] for data in fore_img]"
      ],
      "metadata": {
        "id": "BCF3eg_DYgG6"
      },
      "execution_count": null,
      "outputs": []
    },
    {
      "cell_type": "code",
      "source": [
        "geoms = pd.DataFrame([geometry_features(data['img']) for data in fore_img])\n",
        "morphs = pd.DataFrame([morphology_features(data['img']) for data in fore_img])\n",
        "labels = pd.DataFrame(labels, columns = ['Label'])"
      ],
      "metadata": {
        "id": "UCv4OV-iWvtG"
      },
      "execution_count": null,
      "outputs": []
    },
    {
      "cell_type": "markdown",
      "source": [
        "# Define dataframe"
      ],
      "metadata": {
        "id": "OgdPKKWDyVOq"
      }
    },
    {
      "cell_type": "code",
      "source": [
        "df_raw = pd.concat([geoms, morphs, labels], axis=1, join='inner')"
      ],
      "metadata": {
        "id": "3lHVmvBjMPrg"
      },
      "execution_count": null,
      "outputs": []
    },
    {
      "cell_type": "code",
      "source": [
        "df_raw"
      ],
      "metadata": {
        "colab": {
          "base_uri": "https://localhost:8080/",
          "height": 423
        },
        "id": "39ulyWHeLx2F",
        "outputId": "67514664-1d0c-4bc9-e6bc-9d127f808ef1"
      },
      "execution_count": null,
      "outputs": [
        {
          "output_type": "execute_result",
          "data": {
            "text/plain": [
              "        area  perimeter  width  length  diameter    Ar     F   Rect       N  \\\n",
              "0        0.0       0.00      1       1       124  1.00  0.00   0.00  124.00   \n",
              "1        0.0       6.00      4       1       130  0.25  0.00   0.00  130.00   \n",
              "2        1.5       6.24      3       3       135  1.00  0.48   6.00   45.00   \n",
              "3        0.5       6.24      3       2       141  0.67  0.16  12.00   70.50   \n",
              "4        6.0      10.00      3       4        94  1.33  0.75   2.00   23.50   \n",
              "...      ...        ...    ...     ...       ...   ...   ...    ...     ...   \n",
              "1595  8381.0     354.05     98     115       100  1.17  0.84   1.34    0.87   \n",
              "1596     3.0      18.49      5       4       171  0.80  0.11   6.67   42.75   \n",
              "1597  8376.5     352.98     88     123        84  1.40  0.84   1.29    0.68   \n",
              "1598  8387.5     351.40    101     118        89  1.17  0.85   1.42    0.75   \n",
              "1599  8360.5     350.58    118     100       111  0.85  0.85   1.41    1.11   \n",
              "\n",
              "        Pd  Pplf        Label  \n",
              "0     0.00  0.00        cacat  \n",
              "1     0.05  1.20        cacat  \n",
              "2     0.05  1.04        cacat  \n",
              "3     0.04  1.25        cacat  \n",
              "4     0.11  1.43        cacat  \n",
              "...    ...   ...          ...  \n",
              "1595  3.54  1.66  tidak_cacat  \n",
              "1596  0.11  2.05  tidak_cacat  \n",
              "1597  4.20  1.67  tidak_cacat  \n",
              "1598  3.95  1.60  tidak_cacat  \n",
              "1599  3.16  1.61  tidak_cacat  \n",
              "\n",
              "[1600 rows x 12 columns]"
            ],
            "text/html": [
              "\n",
              "  <div id=\"df-78dde5a9-c02c-4f0b-83e7-1fcd414b7b52\">\n",
              "    <div class=\"colab-df-container\">\n",
              "      <div>\n",
              "<style scoped>\n",
              "    .dataframe tbody tr th:only-of-type {\n",
              "        vertical-align: middle;\n",
              "    }\n",
              "\n",
              "    .dataframe tbody tr th {\n",
              "        vertical-align: top;\n",
              "    }\n",
              "\n",
              "    .dataframe thead th {\n",
              "        text-align: right;\n",
              "    }\n",
              "</style>\n",
              "<table border=\"1\" class=\"dataframe\">\n",
              "  <thead>\n",
              "    <tr style=\"text-align: right;\">\n",
              "      <th></th>\n",
              "      <th>area</th>\n",
              "      <th>perimeter</th>\n",
              "      <th>width</th>\n",
              "      <th>length</th>\n",
              "      <th>diameter</th>\n",
              "      <th>Ar</th>\n",
              "      <th>F</th>\n",
              "      <th>Rect</th>\n",
              "      <th>N</th>\n",
              "      <th>Pd</th>\n",
              "      <th>Pplf</th>\n",
              "      <th>Label</th>\n",
              "    </tr>\n",
              "  </thead>\n",
              "  <tbody>\n",
              "    <tr>\n",
              "      <th>0</th>\n",
              "      <td>0.0</td>\n",
              "      <td>0.00</td>\n",
              "      <td>1</td>\n",
              "      <td>1</td>\n",
              "      <td>124</td>\n",
              "      <td>1.00</td>\n",
              "      <td>0.00</td>\n",
              "      <td>0.00</td>\n",
              "      <td>124.00</td>\n",
              "      <td>0.00</td>\n",
              "      <td>0.00</td>\n",
              "      <td>cacat</td>\n",
              "    </tr>\n",
              "    <tr>\n",
              "      <th>1</th>\n",
              "      <td>0.0</td>\n",
              "      <td>6.00</td>\n",
              "      <td>4</td>\n",
              "      <td>1</td>\n",
              "      <td>130</td>\n",
              "      <td>0.25</td>\n",
              "      <td>0.00</td>\n",
              "      <td>0.00</td>\n",
              "      <td>130.00</td>\n",
              "      <td>0.05</td>\n",
              "      <td>1.20</td>\n",
              "      <td>cacat</td>\n",
              "    </tr>\n",
              "    <tr>\n",
              "      <th>2</th>\n",
              "      <td>1.5</td>\n",
              "      <td>6.24</td>\n",
              "      <td>3</td>\n",
              "      <td>3</td>\n",
              "      <td>135</td>\n",
              "      <td>1.00</td>\n",
              "      <td>0.48</td>\n",
              "      <td>6.00</td>\n",
              "      <td>45.00</td>\n",
              "      <td>0.05</td>\n",
              "      <td>1.04</td>\n",
              "      <td>cacat</td>\n",
              "    </tr>\n",
              "    <tr>\n",
              "      <th>3</th>\n",
              "      <td>0.5</td>\n",
              "      <td>6.24</td>\n",
              "      <td>3</td>\n",
              "      <td>2</td>\n",
              "      <td>141</td>\n",
              "      <td>0.67</td>\n",
              "      <td>0.16</td>\n",
              "      <td>12.00</td>\n",
              "      <td>70.50</td>\n",
              "      <td>0.04</td>\n",
              "      <td>1.25</td>\n",
              "      <td>cacat</td>\n",
              "    </tr>\n",
              "    <tr>\n",
              "      <th>4</th>\n",
              "      <td>6.0</td>\n",
              "      <td>10.00</td>\n",
              "      <td>3</td>\n",
              "      <td>4</td>\n",
              "      <td>94</td>\n",
              "      <td>1.33</td>\n",
              "      <td>0.75</td>\n",
              "      <td>2.00</td>\n",
              "      <td>23.50</td>\n",
              "      <td>0.11</td>\n",
              "      <td>1.43</td>\n",
              "      <td>cacat</td>\n",
              "    </tr>\n",
              "    <tr>\n",
              "      <th>...</th>\n",
              "      <td>...</td>\n",
              "      <td>...</td>\n",
              "      <td>...</td>\n",
              "      <td>...</td>\n",
              "      <td>...</td>\n",
              "      <td>...</td>\n",
              "      <td>...</td>\n",
              "      <td>...</td>\n",
              "      <td>...</td>\n",
              "      <td>...</td>\n",
              "      <td>...</td>\n",
              "      <td>...</td>\n",
              "    </tr>\n",
              "    <tr>\n",
              "      <th>1595</th>\n",
              "      <td>8381.0</td>\n",
              "      <td>354.05</td>\n",
              "      <td>98</td>\n",
              "      <td>115</td>\n",
              "      <td>100</td>\n",
              "      <td>1.17</td>\n",
              "      <td>0.84</td>\n",
              "      <td>1.34</td>\n",
              "      <td>0.87</td>\n",
              "      <td>3.54</td>\n",
              "      <td>1.66</td>\n",
              "      <td>tidak_cacat</td>\n",
              "    </tr>\n",
              "    <tr>\n",
              "      <th>1596</th>\n",
              "      <td>3.0</td>\n",
              "      <td>18.49</td>\n",
              "      <td>5</td>\n",
              "      <td>4</td>\n",
              "      <td>171</td>\n",
              "      <td>0.80</td>\n",
              "      <td>0.11</td>\n",
              "      <td>6.67</td>\n",
              "      <td>42.75</td>\n",
              "      <td>0.11</td>\n",
              "      <td>2.05</td>\n",
              "      <td>tidak_cacat</td>\n",
              "    </tr>\n",
              "    <tr>\n",
              "      <th>1597</th>\n",
              "      <td>8376.5</td>\n",
              "      <td>352.98</td>\n",
              "      <td>88</td>\n",
              "      <td>123</td>\n",
              "      <td>84</td>\n",
              "      <td>1.40</td>\n",
              "      <td>0.84</td>\n",
              "      <td>1.29</td>\n",
              "      <td>0.68</td>\n",
              "      <td>4.20</td>\n",
              "      <td>1.67</td>\n",
              "      <td>tidak_cacat</td>\n",
              "    </tr>\n",
              "    <tr>\n",
              "      <th>1598</th>\n",
              "      <td>8387.5</td>\n",
              "      <td>351.40</td>\n",
              "      <td>101</td>\n",
              "      <td>118</td>\n",
              "      <td>89</td>\n",
              "      <td>1.17</td>\n",
              "      <td>0.85</td>\n",
              "      <td>1.42</td>\n",
              "      <td>0.75</td>\n",
              "      <td>3.95</td>\n",
              "      <td>1.60</td>\n",
              "      <td>tidak_cacat</td>\n",
              "    </tr>\n",
              "    <tr>\n",
              "      <th>1599</th>\n",
              "      <td>8360.5</td>\n",
              "      <td>350.58</td>\n",
              "      <td>118</td>\n",
              "      <td>100</td>\n",
              "      <td>111</td>\n",
              "      <td>0.85</td>\n",
              "      <td>0.85</td>\n",
              "      <td>1.41</td>\n",
              "      <td>1.11</td>\n",
              "      <td>3.16</td>\n",
              "      <td>1.61</td>\n",
              "      <td>tidak_cacat</td>\n",
              "    </tr>\n",
              "  </tbody>\n",
              "</table>\n",
              "<p>1600 rows × 12 columns</p>\n",
              "</div>\n",
              "      <button class=\"colab-df-convert\" onclick=\"convertToInteractive('df-78dde5a9-c02c-4f0b-83e7-1fcd414b7b52')\"\n",
              "              title=\"Convert this dataframe to an interactive table.\"\n",
              "              style=\"display:none;\">\n",
              "        \n",
              "  <svg xmlns=\"http://www.w3.org/2000/svg\" height=\"24px\"viewBox=\"0 0 24 24\"\n",
              "       width=\"24px\">\n",
              "    <path d=\"M0 0h24v24H0V0z\" fill=\"none\"/>\n",
              "    <path d=\"M18.56 5.44l.94 2.06.94-2.06 2.06-.94-2.06-.94-.94-2.06-.94 2.06-2.06.94zm-11 1L8.5 8.5l.94-2.06 2.06-.94-2.06-.94L8.5 2.5l-.94 2.06-2.06.94zm10 10l.94 2.06.94-2.06 2.06-.94-2.06-.94-.94-2.06-.94 2.06-2.06.94z\"/><path d=\"M17.41 7.96l-1.37-1.37c-.4-.4-.92-.59-1.43-.59-.52 0-1.04.2-1.43.59L10.3 9.45l-7.72 7.72c-.78.78-.78 2.05 0 2.83L4 21.41c.39.39.9.59 1.41.59.51 0 1.02-.2 1.41-.59l7.78-7.78 2.81-2.81c.8-.78.8-2.07 0-2.86zM5.41 20L4 18.59l7.72-7.72 1.47 1.35L5.41 20z\"/>\n",
              "  </svg>\n",
              "      </button>\n",
              "      \n",
              "  <style>\n",
              "    .colab-df-container {\n",
              "      display:flex;\n",
              "      flex-wrap:wrap;\n",
              "      gap: 12px;\n",
              "    }\n",
              "\n",
              "    .colab-df-convert {\n",
              "      background-color: #E8F0FE;\n",
              "      border: none;\n",
              "      border-radius: 50%;\n",
              "      cursor: pointer;\n",
              "      display: none;\n",
              "      fill: #1967D2;\n",
              "      height: 32px;\n",
              "      padding: 0 0 0 0;\n",
              "      width: 32px;\n",
              "    }\n",
              "\n",
              "    .colab-df-convert:hover {\n",
              "      background-color: #E2EBFA;\n",
              "      box-shadow: 0px 1px 2px rgba(60, 64, 67, 0.3), 0px 1px 3px 1px rgba(60, 64, 67, 0.15);\n",
              "      fill: #174EA6;\n",
              "    }\n",
              "\n",
              "    [theme=dark] .colab-df-convert {\n",
              "      background-color: #3B4455;\n",
              "      fill: #D2E3FC;\n",
              "    }\n",
              "\n",
              "    [theme=dark] .colab-df-convert:hover {\n",
              "      background-color: #434B5C;\n",
              "      box-shadow: 0px 1px 3px 1px rgba(0, 0, 0, 0.15);\n",
              "      filter: drop-shadow(0px 1px 2px rgba(0, 0, 0, 0.3));\n",
              "      fill: #FFFFFF;\n",
              "    }\n",
              "  </style>\n",
              "\n",
              "      <script>\n",
              "        const buttonEl =\n",
              "          document.querySelector('#df-78dde5a9-c02c-4f0b-83e7-1fcd414b7b52 button.colab-df-convert');\n",
              "        buttonEl.style.display =\n",
              "          google.colab.kernel.accessAllowed ? 'block' : 'none';\n",
              "\n",
              "        async function convertToInteractive(key) {\n",
              "          const element = document.querySelector('#df-78dde5a9-c02c-4f0b-83e7-1fcd414b7b52');\n",
              "          const dataTable =\n",
              "            await google.colab.kernel.invokeFunction('convertToInteractive',\n",
              "                                                     [key], {});\n",
              "          if (!dataTable) return;\n",
              "\n",
              "          const docLinkHtml = 'Like what you see? Visit the ' +\n",
              "            '<a target=\"_blank\" href=https://colab.research.google.com/notebooks/data_table.ipynb>data table notebook</a>'\n",
              "            + ' to learn more about interactive tables.';\n",
              "          element.innerHTML = '';\n",
              "          dataTable['output_type'] = 'display_data';\n",
              "          await google.colab.output.renderOutput(dataTable, element);\n",
              "          const docLink = document.createElement('div');\n",
              "          docLink.innerHTML = docLinkHtml;\n",
              "          element.appendChild(docLink);\n",
              "        }\n",
              "      </script>\n",
              "    </div>\n",
              "  </div>\n",
              "  "
            ]
          },
          "metadata": {},
          "execution_count": 14
        }
      ]
    },
    {
      "cell_type": "code",
      "source": [
        "df_raw.to_csv(os.path.join(PATH, 'dataset.csv'), index = False)"
      ],
      "metadata": {
        "id": "9A6XnuIDH8cG"
      },
      "execution_count": null,
      "outputs": []
    },
    {
      "cell_type": "code",
      "source": [
        "df_raw = pd.read_csv(os.path.join(PATH, 'dataset.csv'))"
      ],
      "metadata": {
        "id": "txMSIxH2MicI"
      },
      "execution_count": null,
      "outputs": []
    },
    {
      "cell_type": "markdown",
      "source": [
        "# Modelling"
      ],
      "metadata": {
        "id": "qEd1XcUQIhi1"
      }
    },
    {
      "cell_type": "code",
      "source": [
        "df = df_raw.copy()"
      ],
      "metadata": {
        "id": "x2KFoYavI5UG"
      },
      "execution_count": null,
      "outputs": []
    },
    {
      "cell_type": "markdown",
      "source": [
        "### Splitting dataset"
      ],
      "metadata": {
        "id": "UxNL-VGoIouc"
      }
    },
    {
      "cell_type": "code",
      "source": [
        "X = df.drop('Label', axis = 1)\n",
        "y = df['Label']"
      ],
      "metadata": {
        "id": "Re9GEfmHJGBP"
      },
      "execution_count": null,
      "outputs": []
    },
    {
      "cell_type": "markdown",
      "source": [
        "#### 10:90"
      ],
      "metadata": {
        "id": "NMGS9g4aIsDn"
      }
    },
    {
      "cell_type": "code",
      "source": [
        "X_train_10_90, X_test_10_90, y_train_10_90, y_test_10_90 = train_test_split(X, y, test_size = 0.9, random_state = 42, stratify = y)"
      ],
      "metadata": {
        "id": "6WurSFaJIg1U"
      },
      "execution_count": null,
      "outputs": []
    },
    {
      "cell_type": "markdown",
      "source": [
        "#### 20:80"
      ],
      "metadata": {
        "id": "tgg7lCvmJXts"
      }
    },
    {
      "cell_type": "code",
      "source": [
        "X_train_20_80, X_test_20_80, y_train_20_80, y_test_20_80 = train_test_split(X, y, test_size = 0.8, random_state = 42, stratify = y)"
      ],
      "metadata": {
        "id": "TdvIVFonJaqC"
      },
      "execution_count": null,
      "outputs": []
    },
    {
      "cell_type": "markdown",
      "source": [
        "#### 30:70"
      ],
      "metadata": {
        "id": "71R87DATJc_M"
      }
    },
    {
      "cell_type": "code",
      "source": [
        "X_train_30_70, X_test_30_70, y_train_30_70, y_test_30_70 = train_test_split(X, y, test_size = 0.7, random_state = 42, stratify = y)"
      ],
      "metadata": {
        "id": "i0f8gFbIJewE"
      },
      "execution_count": null,
      "outputs": []
    },
    {
      "cell_type": "markdown",
      "source": [
        "#### 40:60"
      ],
      "metadata": {
        "id": "yxSbS_waJgIs"
      }
    },
    {
      "cell_type": "code",
      "source": [
        "X_train_40_60, X_test_40_60, y_train_40_60, y_test_40_60 = train_test_split(X, y, test_size = 0.6, random_state = 42, stratify = y)"
      ],
      "metadata": {
        "id": "f84N5g6rJiJy"
      },
      "execution_count": null,
      "outputs": []
    },
    {
      "cell_type": "markdown",
      "source": [
        "#### 50:50"
      ],
      "metadata": {
        "id": "X3-GwH4OJj9D"
      }
    },
    {
      "cell_type": "code",
      "source": [
        "X_train_50_50, X_test_50_50, y_train_50_50, y_test_50_50 = train_test_split(X, y, test_size = 0.5, random_state = 42, stratify = y)"
      ],
      "metadata": {
        "id": "ZspKC5yLJla_"
      },
      "execution_count": null,
      "outputs": []
    },
    {
      "cell_type": "markdown",
      "source": [
        "#### 60:40"
      ],
      "metadata": {
        "id": "x4Px-deJJnOt"
      }
    },
    {
      "cell_type": "code",
      "source": [
        "X_train_60_40, X_test_60_40, y_train_60_40, y_test_60_40 = train_test_split(X, y, test_size = 0.4, random_state = 42, stratify = y)"
      ],
      "metadata": {
        "id": "G7inmAx8Jm0Z"
      },
      "execution_count": null,
      "outputs": []
    },
    {
      "cell_type": "markdown",
      "source": [
        "#### 70:30"
      ],
      "metadata": {
        "id": "BpBomUgoJrqz"
      }
    },
    {
      "cell_type": "code",
      "source": [
        "X_train_70_30, X_test_70_30, y_train_70_30, y_test_70_30 = train_test_split(X, y, test_size = 0.3, random_state = 42, stratify = y)"
      ],
      "metadata": {
        "id": "r3q2XMoYJqxF"
      },
      "execution_count": null,
      "outputs": []
    },
    {
      "cell_type": "markdown",
      "source": [
        "#### 80:20"
      ],
      "metadata": {
        "id": "8rLpjUa7Ju1e"
      }
    },
    {
      "cell_type": "code",
      "source": [
        "X_train_80_20, X_test_80_20, y_train_80_20, y_test_80_20 = train_test_split(X, y, test_size = 0.2, random_state = 42, stratify = y)"
      ],
      "metadata": {
        "id": "8zYR-G18Jxpp"
      },
      "execution_count": null,
      "outputs": []
    },
    {
      "cell_type": "markdown",
      "source": [
        "#### 90:10"
      ],
      "metadata": {
        "id": "2DeupgZ2Jw6B"
      }
    },
    {
      "cell_type": "code",
      "source": [
        "X_train_90_10, X_test_90_10, y_train_90_10, y_test_90_10 = train_test_split(X, y, test_size = 0.1, random_state = 42, stratify = y)"
      ],
      "metadata": {
        "id": "F34AfTDL6MtC"
      },
      "execution_count": null,
      "outputs": []
    },
    {
      "cell_type": "markdown",
      "source": [
        "### Training (SVM) models"
      ],
      "metadata": {
        "id": "AqaLayrWLodh"
      }
    },
    {
      "cell_type": "markdown",
      "source": [
        "#### 10:90"
      ],
      "metadata": {
        "id": "FbckXiqeLvhP"
      }
    },
    {
      "cell_type": "markdown",
      "source": [
        "##### Kernel RBF"
      ],
      "metadata": {
        "id": "q711WaqDL5xk"
      }
    },
    {
      "cell_type": "code",
      "source": [
        "SVM_10_90_RBF = SVC(kernel = 'rbf')\n",
        "SVM_10_90_RBF.fit(X_train_10_90, y_train_10_90)"
      ],
      "metadata": {
        "colab": {
          "base_uri": "https://localhost:8080/"
        },
        "id": "ARbrqvX5LvhP",
        "outputId": "19842354-8205-4a96-d5df-0f12b4fcfcef"
      },
      "execution_count": null,
      "outputs": [
        {
          "output_type": "execute_result",
          "data": {
            "text/plain": [
              "SVC()"
            ]
          },
          "metadata": {},
          "execution_count": 19
        }
      ]
    },
    {
      "cell_type": "markdown",
      "source": [
        "##### Kernel Polynomial"
      ],
      "metadata": {
        "id": "68gVPJ1UMsQC"
      }
    },
    {
      "cell_type": "code",
      "source": [
        "SVM_10_90_poly = SVC(kernel = 'poly')\n",
        "SVM_10_90_poly.fit(X_train_10_90, y_train_10_90)"
      ],
      "metadata": {
        "colab": {
          "base_uri": "https://localhost:8080/"
        },
        "id": "MFyjI35nMri3",
        "outputId": "4e312400-fca4-436c-b2ff-1cf52180c210"
      },
      "execution_count": null,
      "outputs": [
        {
          "output_type": "execute_result",
          "data": {
            "text/plain": [
              "SVC(kernel='poly')"
            ]
          },
          "metadata": {},
          "execution_count": 20
        }
      ]
    },
    {
      "cell_type": "markdown",
      "source": [
        "##### Kernel Sigmoid"
      ],
      "metadata": {
        "id": "pQccwRDWM4Bm"
      }
    },
    {
      "cell_type": "code",
      "source": [
        "SVM_10_90_sigmoid = SVC(kernel = 'sigmoid')\n",
        "SVM_10_90_sigmoid.fit(X_train_10_90, y_train_10_90)"
      ],
      "metadata": {
        "colab": {
          "base_uri": "https://localhost:8080/"
        },
        "id": "8b4xe3AAM-fk",
        "outputId": "61895abc-3a34-4d28-931d-4f7b6a5f5651"
      },
      "execution_count": null,
      "outputs": [
        {
          "output_type": "execute_result",
          "data": {
            "text/plain": [
              "SVC(kernel='sigmoid')"
            ]
          },
          "metadata": {},
          "execution_count": 21
        }
      ]
    },
    {
      "cell_type": "markdown",
      "source": [
        "#### 20:80"
      ],
      "metadata": {
        "id": "os1-V1OpLvhP"
      }
    },
    {
      "cell_type": "markdown",
      "source": [
        "##### Kernel RBF"
      ],
      "metadata": {
        "id": "pWNWX1fgNS3P"
      }
    },
    {
      "cell_type": "code",
      "source": [
        "SVM_20_80_RBF = SVC(kernel = 'rbf')\n",
        "SVM_20_80_RBF.fit(X_train_20_80, y_train_20_80)"
      ],
      "metadata": {
        "colab": {
          "base_uri": "https://localhost:8080/"
        },
        "outputId": "aa5b27f0-76dd-4194-ac6a-a216d637d1ca",
        "id": "zc1aywafNS3P"
      },
      "execution_count": null,
      "outputs": [
        {
          "output_type": "execute_result",
          "data": {
            "text/plain": [
              "SVC()"
            ]
          },
          "metadata": {},
          "execution_count": 22
        }
      ]
    },
    {
      "cell_type": "markdown",
      "source": [
        "##### Kernel Polynomial"
      ],
      "metadata": {
        "id": "BcpTirTONS3P"
      }
    },
    {
      "cell_type": "code",
      "source": [
        "SVM_20_80_poly = SVC(kernel = 'poly')\n",
        "SVM_20_80_poly.fit(X_train_20_80, y_train_20_80)"
      ],
      "metadata": {
        "colab": {
          "base_uri": "https://localhost:8080/"
        },
        "outputId": "ee726472-1038-4599-8ffd-f66aaf8b8c9b",
        "id": "QH4t1y1UNS3P"
      },
      "execution_count": null,
      "outputs": [
        {
          "output_type": "execute_result",
          "data": {
            "text/plain": [
              "SVC(kernel='poly')"
            ]
          },
          "metadata": {},
          "execution_count": 23
        }
      ]
    },
    {
      "cell_type": "markdown",
      "source": [
        "##### Kernel Sigmoid"
      ],
      "metadata": {
        "id": "8pKOrlY6NS3P"
      }
    },
    {
      "cell_type": "code",
      "source": [
        "SVM_20_80_sigmoid = SVC(kernel = 'sigmoid')\n",
        "SVM_20_80_sigmoid.fit(X_train_20_80, y_train_20_80)"
      ],
      "metadata": {
        "colab": {
          "base_uri": "https://localhost:8080/"
        },
        "outputId": "16dd5092-b870-4010-ebc1-e98794840090",
        "id": "aTkdHEXeNS3P"
      },
      "execution_count": null,
      "outputs": [
        {
          "output_type": "execute_result",
          "data": {
            "text/plain": [
              "SVC(kernel='sigmoid')"
            ]
          },
          "metadata": {},
          "execution_count": 24
        }
      ]
    },
    {
      "cell_type": "markdown",
      "source": [
        "#### 30:70"
      ],
      "metadata": {
        "id": "gqdaJHJKLvhQ"
      }
    },
    {
      "cell_type": "markdown",
      "source": [
        "##### Kernel RBF"
      ],
      "metadata": {
        "id": "lUKyjJHjNl6l"
      }
    },
    {
      "cell_type": "code",
      "source": [
        "SVM_30_70_RBF = SVC(kernel = 'rbf')\n",
        "SVM_30_70_RBF.fit(X_train_30_70, y_train_30_70)"
      ],
      "metadata": {
        "colab": {
          "base_uri": "https://localhost:8080/"
        },
        "outputId": "a9db5400-f839-4d81-89b4-98f5bb9dab6e",
        "id": "NoAd2jnBNl6l"
      },
      "execution_count": null,
      "outputs": [
        {
          "output_type": "execute_result",
          "data": {
            "text/plain": [
              "SVC()"
            ]
          },
          "metadata": {},
          "execution_count": 25
        }
      ]
    },
    {
      "cell_type": "markdown",
      "source": [
        "##### Kernel Polynomial"
      ],
      "metadata": {
        "id": "-mpaGfcZNl6l"
      }
    },
    {
      "cell_type": "code",
      "source": [
        "SVM_30_70_poly = SVC(kernel = 'poly')\n",
        "SVM_30_70_poly.fit(X_train_30_70, y_train_30_70)"
      ],
      "metadata": {
        "colab": {
          "base_uri": "https://localhost:8080/"
        },
        "outputId": "aa35194a-9ba0-419c-9a1d-9bb28fb5d818",
        "id": "2rY6x8y5Nl6l"
      },
      "execution_count": null,
      "outputs": [
        {
          "output_type": "execute_result",
          "data": {
            "text/plain": [
              "SVC(kernel='poly')"
            ]
          },
          "metadata": {},
          "execution_count": 26
        }
      ]
    },
    {
      "cell_type": "markdown",
      "source": [
        "##### Kernel Sigmoid"
      ],
      "metadata": {
        "id": "tLJNRkpkNl6m"
      }
    },
    {
      "cell_type": "code",
      "source": [
        "SVM_30_70_sigmoid = SVC(kernel = 'sigmoid')\n",
        "SVM_30_70_sigmoid.fit(X_train_30_70, y_train_30_70)"
      ],
      "metadata": {
        "colab": {
          "base_uri": "https://localhost:8080/"
        },
        "outputId": "5c2462a8-6fe5-4929-8b71-0992fea5ba24",
        "id": "ZaubDXtTNl6m"
      },
      "execution_count": null,
      "outputs": [
        {
          "output_type": "execute_result",
          "data": {
            "text/plain": [
              "SVC(kernel='sigmoid')"
            ]
          },
          "metadata": {},
          "execution_count": 27
        }
      ]
    },
    {
      "cell_type": "markdown",
      "source": [
        "#### 40:60"
      ],
      "metadata": {
        "id": "EypmaL92LvhQ"
      }
    },
    {
      "cell_type": "markdown",
      "source": [
        "##### Kernel RBF"
      ],
      "metadata": {
        "id": "KsW4oQtGNnlM"
      }
    },
    {
      "cell_type": "code",
      "source": [
        "SVM_40_60_RBF = SVC(kernel = 'rbf')\n",
        "SVM_40_60_RBF.fit(X_train_40_60, y_train_40_60)"
      ],
      "metadata": {
        "colab": {
          "base_uri": "https://localhost:8080/"
        },
        "outputId": "a32638ec-4afe-4d92-e07b-f6ba4b0b2535",
        "id": "dEYHKFPTNnlM"
      },
      "execution_count": null,
      "outputs": [
        {
          "output_type": "execute_result",
          "data": {
            "text/plain": [
              "SVC()"
            ]
          },
          "metadata": {},
          "execution_count": 28
        }
      ]
    },
    {
      "cell_type": "markdown",
      "source": [
        "##### Kernel Polynomial"
      ],
      "metadata": {
        "id": "U58KnM8yNnlN"
      }
    },
    {
      "cell_type": "code",
      "source": [
        "SVM_40_60_poly = SVC(kernel = 'poly')\n",
        "SVM_40_60_poly.fit(X_train_40_60, y_train_40_60)"
      ],
      "metadata": {
        "colab": {
          "base_uri": "https://localhost:8080/"
        },
        "outputId": "722f0ec6-d156-4b1d-dc92-7a338921c4ef",
        "id": "k-Yc7GIlNnlN"
      },
      "execution_count": null,
      "outputs": [
        {
          "output_type": "execute_result",
          "data": {
            "text/plain": [
              "SVC(kernel='poly')"
            ]
          },
          "metadata": {},
          "execution_count": 29
        }
      ]
    },
    {
      "cell_type": "markdown",
      "source": [
        "##### Kernel Sigmoid"
      ],
      "metadata": {
        "id": "JBO93Vw0NnlN"
      }
    },
    {
      "cell_type": "code",
      "source": [
        "SVM_40_60_sigmoid = SVC(kernel = 'sigmoid')\n",
        "SVM_40_60_sigmoid.fit(X_train_40_60, y_train_40_60)"
      ],
      "metadata": {
        "colab": {
          "base_uri": "https://localhost:8080/"
        },
        "outputId": "7a323be4-5a26-44f2-8139-9e950c312ac0",
        "id": "75r3hKqvNnlN"
      },
      "execution_count": null,
      "outputs": [
        {
          "output_type": "execute_result",
          "data": {
            "text/plain": [
              "SVC(kernel='sigmoid')"
            ]
          },
          "metadata": {},
          "execution_count": 30
        }
      ]
    },
    {
      "cell_type": "markdown",
      "source": [
        "#### 50:50"
      ],
      "metadata": {
        "id": "IbHD05wrLvhQ"
      }
    },
    {
      "cell_type": "markdown",
      "source": [
        "##### Kernel RBF"
      ],
      "metadata": {
        "id": "rA9AYxZDNpMz"
      }
    },
    {
      "cell_type": "code",
      "source": [
        "SVM_50_50_RBF = SVC(kernel = 'rbf')\n",
        "SVM_50_50_RBF.fit(X_train_50_50, y_train_50_50)"
      ],
      "metadata": {
        "colab": {
          "base_uri": "https://localhost:8080/"
        },
        "outputId": "0233ec35-c54f-4582-fbef-f45b2ea090ef",
        "id": "5lFQfMnFNpMz"
      },
      "execution_count": null,
      "outputs": [
        {
          "output_type": "execute_result",
          "data": {
            "text/plain": [
              "SVC()"
            ]
          },
          "metadata": {},
          "execution_count": 31
        }
      ]
    },
    {
      "cell_type": "markdown",
      "source": [
        "##### Kernel Polynomial"
      ],
      "metadata": {
        "id": "CUpXj2NINpMz"
      }
    },
    {
      "cell_type": "code",
      "source": [
        "SVM_50_50_poly = SVC(kernel = 'poly')\n",
        "SVM_50_50_poly.fit(X_train_50_50, y_train_50_50)"
      ],
      "metadata": {
        "colab": {
          "base_uri": "https://localhost:8080/"
        },
        "outputId": "a849d96b-ce05-4645-84af-10615a03d679",
        "id": "Vga6dzB0NpMz"
      },
      "execution_count": null,
      "outputs": [
        {
          "output_type": "execute_result",
          "data": {
            "text/plain": [
              "SVC(kernel='poly')"
            ]
          },
          "metadata": {},
          "execution_count": 32
        }
      ]
    },
    {
      "cell_type": "markdown",
      "source": [
        "##### Kernel Sigmoid"
      ],
      "metadata": {
        "id": "kU_Hu6KiNpM0"
      }
    },
    {
      "cell_type": "code",
      "source": [
        "SVM_50_50_sigmoid = SVC(kernel = 'sigmoid')\n",
        "SVM_50_50_sigmoid.fit(X_train_50_50, y_train_50_50)"
      ],
      "metadata": {
        "colab": {
          "base_uri": "https://localhost:8080/"
        },
        "outputId": "0e5b8ef0-9d89-4d5a-b315-c1187c27651e",
        "id": "mCDtXmUGNpM0"
      },
      "execution_count": null,
      "outputs": [
        {
          "output_type": "execute_result",
          "data": {
            "text/plain": [
              "SVC(kernel='sigmoid')"
            ]
          },
          "metadata": {},
          "execution_count": 33
        }
      ]
    },
    {
      "cell_type": "markdown",
      "source": [
        "#### 60:40"
      ],
      "metadata": {
        "id": "YJbO4bbULvhQ"
      }
    },
    {
      "cell_type": "markdown",
      "source": [
        "##### Kernel RBF"
      ],
      "metadata": {
        "id": "NpfhK_xlNqcU"
      }
    },
    {
      "cell_type": "code",
      "source": [
        "SVM_60_40_RBF = SVC(kernel = 'rbf')\n",
        "SVM_60_40_RBF.fit(X_train_60_40, y_train_60_40)"
      ],
      "metadata": {
        "colab": {
          "base_uri": "https://localhost:8080/"
        },
        "outputId": "30323102-fc71-423a-87cd-3f2f1e305154",
        "id": "68qXvZniNqcU"
      },
      "execution_count": null,
      "outputs": [
        {
          "output_type": "execute_result",
          "data": {
            "text/plain": [
              "SVC()"
            ]
          },
          "metadata": {},
          "execution_count": 34
        }
      ]
    },
    {
      "cell_type": "markdown",
      "source": [
        "##### Kernel Polynomial"
      ],
      "metadata": {
        "id": "G_efjQ-XNqcU"
      }
    },
    {
      "cell_type": "code",
      "source": [
        "SVM_60_40_poly = SVC(kernel = 'poly')\n",
        "SVM_60_40_poly.fit(X_train_60_40, y_train_60_40)"
      ],
      "metadata": {
        "colab": {
          "base_uri": "https://localhost:8080/"
        },
        "outputId": "5c28d016-1f93-4232-d93e-1d9944488278",
        "id": "KVXa2tANNqcU"
      },
      "execution_count": null,
      "outputs": [
        {
          "output_type": "execute_result",
          "data": {
            "text/plain": [
              "SVC(kernel='poly')"
            ]
          },
          "metadata": {},
          "execution_count": 35
        }
      ]
    },
    {
      "cell_type": "markdown",
      "source": [
        "##### Kernel Sigmoid"
      ],
      "metadata": {
        "id": "z_P-DPqONqcU"
      }
    },
    {
      "cell_type": "code",
      "source": [
        "SVM_60_40_sigmoid = SVC(kernel = 'sigmoid')\n",
        "SVM_60_40_sigmoid.fit(X_train_60_40, y_train_60_40)"
      ],
      "metadata": {
        "colab": {
          "base_uri": "https://localhost:8080/"
        },
        "outputId": "a163a700-5298-4712-e270-3617e88680e0",
        "id": "FBAtCHb7NqcU"
      },
      "execution_count": null,
      "outputs": [
        {
          "output_type": "execute_result",
          "data": {
            "text/plain": [
              "SVC(kernel='sigmoid')"
            ]
          },
          "metadata": {},
          "execution_count": 36
        }
      ]
    },
    {
      "cell_type": "markdown",
      "source": [
        "#### 70:30"
      ],
      "metadata": {
        "id": "0BJf1ZuLLvhQ"
      }
    },
    {
      "cell_type": "markdown",
      "source": [
        "##### Kernel RBF"
      ],
      "metadata": {
        "id": "fvDSxxMqNrz7"
      }
    },
    {
      "cell_type": "code",
      "source": [
        "SVM_70_30_RBF = SVC(kernel = 'rbf')\n",
        "SVM_70_30_RBF.fit(X_train_70_30, y_train_70_30)"
      ],
      "metadata": {
        "colab": {
          "base_uri": "https://localhost:8080/"
        },
        "outputId": "93197deb-acac-43dc-e5d8-309e2fe87ad8",
        "id": "ONNljmUZNrz8"
      },
      "execution_count": null,
      "outputs": [
        {
          "output_type": "execute_result",
          "data": {
            "text/plain": [
              "SVC()"
            ]
          },
          "metadata": {},
          "execution_count": 37
        }
      ]
    },
    {
      "cell_type": "markdown",
      "source": [
        "##### Kernel Polynomial"
      ],
      "metadata": {
        "id": "bSeAP8jzNrz8"
      }
    },
    {
      "cell_type": "code",
      "source": [
        "SVM_70_30_poly = SVC(kernel = 'poly')\n",
        "SVM_70_30_poly.fit(X_train_70_30, y_train_70_30)"
      ],
      "metadata": {
        "colab": {
          "base_uri": "https://localhost:8080/"
        },
        "outputId": "b1493131-8f15-45bd-add1-e0ae3730d5fc",
        "id": "wUpntJ-jNrz8"
      },
      "execution_count": null,
      "outputs": [
        {
          "output_type": "execute_result",
          "data": {
            "text/plain": [
              "SVC(kernel='poly')"
            ]
          },
          "metadata": {},
          "execution_count": 38
        }
      ]
    },
    {
      "cell_type": "markdown",
      "source": [
        "##### Kernel Sigmoid"
      ],
      "metadata": {
        "id": "RVDNvD1ANrz9"
      }
    },
    {
      "cell_type": "code",
      "source": [
        "SVM_70_30_sigmoid = SVC(kernel = 'sigmoid')\n",
        "SVM_70_30_sigmoid.fit(X_train_70_30, y_train_70_30)"
      ],
      "metadata": {
        "colab": {
          "base_uri": "https://localhost:8080/"
        },
        "outputId": "c7daf9d0-1c53-4c0e-e4ad-91aed397cf9c",
        "id": "F6TPEBb5Nrz9"
      },
      "execution_count": null,
      "outputs": [
        {
          "output_type": "execute_result",
          "data": {
            "text/plain": [
              "SVC(kernel='sigmoid')"
            ]
          },
          "metadata": {},
          "execution_count": 39
        }
      ]
    },
    {
      "cell_type": "markdown",
      "source": [
        "#### 80:20"
      ],
      "metadata": {
        "id": "-U3COLFCLvhQ"
      }
    },
    {
      "cell_type": "markdown",
      "source": [
        "##### Kernel RBF"
      ],
      "metadata": {
        "id": "uUfE6UCmNtTi"
      }
    },
    {
      "cell_type": "code",
      "source": [
        "SVM_80_20_RBF = SVC(kernel = 'rbf')\n",
        "SVM_80_20_RBF.fit(X_train_80_20, y_train_80_20)"
      ],
      "metadata": {
        "colab": {
          "base_uri": "https://localhost:8080/"
        },
        "outputId": "153525de-29e0-4182-b185-f25b4aca2208",
        "id": "cD0IMw-DNtTj"
      },
      "execution_count": null,
      "outputs": [
        {
          "output_type": "execute_result",
          "data": {
            "text/plain": [
              "SVC()"
            ]
          },
          "metadata": {},
          "execution_count": 40
        }
      ]
    },
    {
      "cell_type": "markdown",
      "source": [
        "##### Kernel Polynomial"
      ],
      "metadata": {
        "id": "MzFmeBLWNtTj"
      }
    },
    {
      "cell_type": "code",
      "source": [
        "SVM_80_20_poly = SVC(kernel = 'poly')\n",
        "SVM_80_20_poly.fit(X_train_80_20, y_train_80_20)"
      ],
      "metadata": {
        "colab": {
          "base_uri": "https://localhost:8080/"
        },
        "outputId": "364419ad-7ef2-43f9-8f60-13d1d7fe1639",
        "id": "OkcBy2ZUNtTj"
      },
      "execution_count": null,
      "outputs": [
        {
          "output_type": "execute_result",
          "data": {
            "text/plain": [
              "SVC(kernel='poly')"
            ]
          },
          "metadata": {},
          "execution_count": 41
        }
      ]
    },
    {
      "cell_type": "markdown",
      "source": [
        "##### Kernel Sigmoid"
      ],
      "metadata": {
        "id": "1UdTxzEtNtTj"
      }
    },
    {
      "cell_type": "code",
      "source": [
        "SVM_80_20_sigmoid = SVC(kernel = 'sigmoid')\n",
        "SVM_80_20_sigmoid.fit(X_train_80_20, y_train_80_20)"
      ],
      "metadata": {
        "colab": {
          "base_uri": "https://localhost:8080/"
        },
        "outputId": "9dd1eabe-7b37-4d70-91d1-d57bf826327c",
        "id": "kAZxSHThNtTj"
      },
      "execution_count": null,
      "outputs": [
        {
          "output_type": "execute_result",
          "data": {
            "text/plain": [
              "SVC(kernel='sigmoid')"
            ]
          },
          "metadata": {},
          "execution_count": 42
        }
      ]
    },
    {
      "cell_type": "markdown",
      "source": [
        "#### 90:10"
      ],
      "metadata": {
        "id": "vtCuUBVYLvhQ"
      }
    },
    {
      "cell_type": "markdown",
      "source": [
        "##### Kernel RBF"
      ],
      "metadata": {
        "id": "8Rp46FalNuVy"
      }
    },
    {
      "cell_type": "code",
      "source": [
        "SVM_90_10_RBF = SVC(kernel = 'rbf')\n",
        "SVM_90_10_RBF.fit(X_train_90_10, y_train_90_10)"
      ],
      "metadata": {
        "colab": {
          "base_uri": "https://localhost:8080/"
        },
        "outputId": "9941d27a-9126-40bd-a6f6-55fbd15d70c7",
        "id": "KgwfX2j0NuVz"
      },
      "execution_count": null,
      "outputs": [
        {
          "output_type": "execute_result",
          "data": {
            "text/plain": [
              "SVC()"
            ]
          },
          "metadata": {},
          "execution_count": 43
        }
      ]
    },
    {
      "cell_type": "markdown",
      "source": [
        "##### Kernel Polynomial"
      ],
      "metadata": {
        "id": "XnBsFPShNuVz"
      }
    },
    {
      "cell_type": "code",
      "source": [
        "SVM_90_10_poly = SVC(kernel = 'poly')\n",
        "SVM_90_10_poly.fit(X_train_90_10, y_train_90_10)"
      ],
      "metadata": {
        "colab": {
          "base_uri": "https://localhost:8080/"
        },
        "outputId": "cc442a88-6983-42f1-dd41-82e2001c9693",
        "id": "2T3_6pNMNuVz"
      },
      "execution_count": null,
      "outputs": [
        {
          "output_type": "execute_result",
          "data": {
            "text/plain": [
              "SVC(kernel='poly')"
            ]
          },
          "metadata": {},
          "execution_count": 44
        }
      ]
    },
    {
      "cell_type": "markdown",
      "source": [
        "##### Kernel Sigmoid"
      ],
      "metadata": {
        "id": "DzbS9navNuV0"
      }
    },
    {
      "cell_type": "code",
      "source": [
        "SVM_90_10_sigmoid = SVC(kernel = 'sigmoid')\n",
        "SVM_90_10_sigmoid.fit(X_train_90_10, y_train_90_10)"
      ],
      "metadata": {
        "colab": {
          "base_uri": "https://localhost:8080/"
        },
        "outputId": "fc39c112-5215-4c8b-edc8-30ef82731646",
        "id": "PcVMOtR6NuV0"
      },
      "execution_count": null,
      "outputs": [
        {
          "output_type": "execute_result",
          "data": {
            "text/plain": [
              "SVC(kernel='sigmoid')"
            ]
          },
          "metadata": {},
          "execution_count": 45
        }
      ]
    },
    {
      "cell_type": "markdown",
      "source": [
        "### Training (ANN) models"
      ],
      "metadata": {
        "id": "AAnFRoMXUnde"
      }
    },
    {
      "cell_type": "markdown",
      "source": [
        "#### 10:90"
      ],
      "metadata": {
        "id": "pVlGo_ZsRvz1"
      }
    },
    {
      "cell_type": "code",
      "source": [
        "X_train_10_90_np = np.array(X_train_10_90)\n",
        "X_test_10_90_np = np.array(X_test_10_90)\n",
        "\n",
        "LE = LabelEncoder()\n",
        "y_train_10_90_enc = LE.fit_transform(y_train_10_90)\n",
        "y_test_10_90_enc = LE.fit_transform(y_test_10_90)"
      ],
      "metadata": {
        "id": "tt5zJKrqWRah"
      },
      "execution_count": null,
      "outputs": []
    },
    {
      "cell_type": "code",
      "source": [
        "ANN_10_90 = Sequential()\n",
        "\n",
        "ANN_10_90.add(Dense(units = 16, activation = 'relu', input_shape = (df.shape[1]-1,)))\n",
        "ANN_10_90.add(Dense(units = 16, activation = 'relu'))\n",
        "ANN_10_90.add(Dense(units = 1, activation = 'sigmoid'))\n",
        "ANN_10_90.compile(optimizer = \"adam\", loss = \"binary_crossentropy\", metrics = ['accuracy'])\n",
        "\n",
        "ANN_10_90.summary()"
      ],
      "metadata": {
        "id": "nRua5eXLUuW1",
        "colab": {
          "base_uri": "https://localhost:8080/"
        },
        "outputId": "4818ee99-8df9-42fd-bb5b-bbd2393d0765"
      },
      "execution_count": null,
      "outputs": [
        {
          "output_type": "stream",
          "name": "stdout",
          "text": [
            "Model: \"sequential_9\"\n",
            "_________________________________________________________________\n",
            " Layer (type)                Output Shape              Param #   \n",
            "=================================================================\n",
            " dense_25 (Dense)            (None, 16)                192       \n",
            "                                                                 \n",
            " dense_26 (Dense)            (None, 16)                272       \n",
            "                                                                 \n",
            " dense_27 (Dense)            (None, 1)                 17        \n",
            "                                                                 \n",
            "=================================================================\n",
            "Total params: 481\n",
            "Trainable params: 481\n",
            "Non-trainable params: 0\n",
            "_________________________________________________________________\n"
          ]
        }
      ]
    },
    {
      "cell_type": "code",
      "source": [
        "ANN_10_90.fit(X_train_10_90_np, y_train_10_90_enc, epochs = 100, validation_split = 0.2)"
      ],
      "metadata": {
        "colab": {
          "base_uri": "https://localhost:8080/"
        },
        "id": "vSkrb09bQPW0",
        "outputId": "6eb66df9-67fc-487a-c7ab-23c1559e9401"
      },
      "execution_count": null,
      "outputs": [
        {
          "output_type": "stream",
          "name": "stdout",
          "text": [
            "Epoch 1/100\n",
            "4/4 [==============================] - 1s 98ms/step - loss: 144.5197 - accuracy: 0.5312 - val_loss: 117.6429 - val_accuracy: 0.4688\n",
            "Epoch 2/100\n",
            "4/4 [==============================] - 0s 14ms/step - loss: 120.4804 - accuracy: 0.5469 - val_loss: 96.3179 - val_accuracy: 0.5000\n",
            "Epoch 3/100\n",
            "4/4 [==============================] - 0s 17ms/step - loss: 97.9818 - accuracy: 0.5547 - val_loss: 75.7249 - val_accuracy: 0.6250\n",
            "Epoch 4/100\n",
            "4/4 [==============================] - 0s 15ms/step - loss: 74.9416 - accuracy: 0.6016 - val_loss: 56.1033 - val_accuracy: 0.5938\n",
            "Epoch 5/100\n",
            "4/4 [==============================] - 0s 14ms/step - loss: 52.7180 - accuracy: 0.6328 - val_loss: 36.8701 - val_accuracy: 0.6250\n",
            "Epoch 6/100\n",
            "4/4 [==============================] - 0s 13ms/step - loss: 30.4875 - accuracy: 0.6641 - val_loss: 17.9480 - val_accuracy: 0.6250\n",
            "Epoch 7/100\n",
            "4/4 [==============================] - 0s 15ms/step - loss: 12.1538 - accuracy: 0.5781 - val_loss: 7.6382 - val_accuracy: 0.5625\n",
            "Epoch 8/100\n",
            "4/4 [==============================] - 0s 16ms/step - loss: 8.6793 - accuracy: 0.5000 - val_loss: 5.4520 - val_accuracy: 0.6562\n",
            "Epoch 9/100\n",
            "4/4 [==============================] - 0s 13ms/step - loss: 6.1321 - accuracy: 0.6875 - val_loss: 7.1389 - val_accuracy: 0.6562\n",
            "Epoch 10/100\n",
            "4/4 [==============================] - 0s 13ms/step - loss: 6.4393 - accuracy: 0.6875 - val_loss: 4.6591 - val_accuracy: 0.6562\n",
            "Epoch 11/100\n",
            "4/4 [==============================] - 0s 13ms/step - loss: 4.3058 - accuracy: 0.5938 - val_loss: 4.0223 - val_accuracy: 0.5000\n",
            "Epoch 12/100\n",
            "4/4 [==============================] - 0s 13ms/step - loss: 5.1769 - accuracy: 0.6172 - val_loss: 5.6481 - val_accuracy: 0.6250\n",
            "Epoch 13/100\n",
            "4/4 [==============================] - 0s 16ms/step - loss: 5.0017 - accuracy: 0.6875 - val_loss: 3.5114 - val_accuracy: 0.6250\n",
            "Epoch 14/100\n",
            "4/4 [==============================] - 0s 15ms/step - loss: 2.9893 - accuracy: 0.6484 - val_loss: 2.5208 - val_accuracy: 0.5938\n",
            "Epoch 15/100\n",
            "4/4 [==============================] - 0s 23ms/step - loss: 2.8799 - accuracy: 0.6719 - val_loss: 3.0887 - val_accuracy: 0.6250\n",
            "Epoch 16/100\n",
            "4/4 [==============================] - 0s 20ms/step - loss: 2.6943 - accuracy: 0.6484 - val_loss: 2.3215 - val_accuracy: 0.5625\n",
            "Epoch 17/100\n",
            "4/4 [==============================] - 0s 15ms/step - loss: 2.5489 - accuracy: 0.6641 - val_loss: 3.1195 - val_accuracy: 0.6250\n",
            "Epoch 18/100\n",
            "4/4 [==============================] - 0s 14ms/step - loss: 2.3663 - accuracy: 0.6953 - val_loss: 1.7907 - val_accuracy: 0.5625\n",
            "Epoch 19/100\n",
            "4/4 [==============================] - 0s 14ms/step - loss: 2.0566 - accuracy: 0.6250 - val_loss: 2.2211 - val_accuracy: 0.6250\n",
            "Epoch 20/100\n",
            "4/4 [==============================] - 0s 14ms/step - loss: 1.9858 - accuracy: 0.6719 - val_loss: 1.1953 - val_accuracy: 0.6875\n",
            "Epoch 21/100\n",
            "4/4 [==============================] - 0s 15ms/step - loss: 1.2366 - accuracy: 0.7109 - val_loss: 1.1965 - val_accuracy: 0.6875\n",
            "Epoch 22/100\n",
            "4/4 [==============================] - 0s 14ms/step - loss: 1.2157 - accuracy: 0.7422 - val_loss: 0.8474 - val_accuracy: 0.7188\n",
            "Epoch 23/100\n",
            "4/4 [==============================] - 0s 16ms/step - loss: 0.9600 - accuracy: 0.7656 - val_loss: 0.8980 - val_accuracy: 0.7188\n",
            "Epoch 24/100\n",
            "4/4 [==============================] - 0s 15ms/step - loss: 0.9022 - accuracy: 0.8047 - val_loss: 0.6192 - val_accuracy: 0.8125\n",
            "Epoch 25/100\n",
            "4/4 [==============================] - 0s 15ms/step - loss: 0.8034 - accuracy: 0.7656 - val_loss: 0.7152 - val_accuracy: 0.7188\n",
            "Epoch 26/100\n",
            "4/4 [==============================] - 0s 16ms/step - loss: 0.8234 - accuracy: 0.7891 - val_loss: 0.5470 - val_accuracy: 0.8125\n",
            "Epoch 27/100\n",
            "4/4 [==============================] - 0s 15ms/step - loss: 0.6626 - accuracy: 0.8203 - val_loss: 0.4432 - val_accuracy: 0.8125\n",
            "Epoch 28/100\n",
            "4/4 [==============================] - 0s 16ms/step - loss: 0.5597 - accuracy: 0.8359 - val_loss: 0.4349 - val_accuracy: 0.8125\n",
            "Epoch 29/100\n",
            "4/4 [==============================] - 0s 15ms/step - loss: 0.5810 - accuracy: 0.8281 - val_loss: 0.3836 - val_accuracy: 0.8438\n",
            "Epoch 30/100\n",
            "4/4 [==============================] - 0s 16ms/step - loss: 0.5190 - accuracy: 0.8594 - val_loss: 0.4209 - val_accuracy: 0.8125\n",
            "Epoch 31/100\n",
            "4/4 [==============================] - 0s 12ms/step - loss: 0.5379 - accuracy: 0.8203 - val_loss: 0.3691 - val_accuracy: 0.8438\n",
            "Epoch 32/100\n",
            "4/4 [==============================] - 0s 10ms/step - loss: 0.5154 - accuracy: 0.8438 - val_loss: 0.4086 - val_accuracy: 0.8125\n",
            "Epoch 33/100\n",
            "4/4 [==============================] - 0s 11ms/step - loss: 0.4895 - accuracy: 0.8359 - val_loss: 0.3803 - val_accuracy: 0.7812\n",
            "Epoch 34/100\n",
            "4/4 [==============================] - 0s 11ms/step - loss: 0.4537 - accuracy: 0.8438 - val_loss: 0.3746 - val_accuracy: 0.8125\n",
            "Epoch 35/100\n",
            "4/4 [==============================] - 0s 10ms/step - loss: 0.4797 - accuracy: 0.8359 - val_loss: 0.3244 - val_accuracy: 0.8750\n",
            "Epoch 36/100\n",
            "4/4 [==============================] - 0s 10ms/step - loss: 0.4353 - accuracy: 0.8438 - val_loss: 0.3536 - val_accuracy: 0.7812\n",
            "Epoch 37/100\n",
            "4/4 [==============================] - 0s 10ms/step - loss: 0.4915 - accuracy: 0.8203 - val_loss: 0.3877 - val_accuracy: 0.7500\n",
            "Epoch 38/100\n",
            "4/4 [==============================] - 0s 14ms/step - loss: 0.4000 - accuracy: 0.8359 - val_loss: 0.4342 - val_accuracy: 0.7812\n",
            "Epoch 39/100\n",
            "4/4 [==============================] - 0s 10ms/step - loss: 0.4327 - accuracy: 0.8281 - val_loss: 0.3392 - val_accuracy: 0.8438\n",
            "Epoch 40/100\n",
            "4/4 [==============================] - 0s 11ms/step - loss: 0.4378 - accuracy: 0.8359 - val_loss: 0.3142 - val_accuracy: 0.8125\n",
            "Epoch 41/100\n",
            "4/4 [==============================] - 0s 10ms/step - loss: 0.4004 - accuracy: 0.8359 - val_loss: 0.3203 - val_accuracy: 0.8125\n",
            "Epoch 42/100\n",
            "4/4 [==============================] - 0s 11ms/step - loss: 0.3576 - accuracy: 0.8828 - val_loss: 0.3111 - val_accuracy: 0.9062\n",
            "Epoch 43/100\n",
            "4/4 [==============================] - 0s 9ms/step - loss: 0.3788 - accuracy: 0.8594 - val_loss: 0.3683 - val_accuracy: 0.8125\n",
            "Epoch 44/100\n",
            "4/4 [==============================] - 0s 10ms/step - loss: 0.3635 - accuracy: 0.8828 - val_loss: 0.3058 - val_accuracy: 0.9062\n",
            "Epoch 45/100\n",
            "4/4 [==============================] - 0s 12ms/step - loss: 0.3559 - accuracy: 0.8672 - val_loss: 0.3164 - val_accuracy: 0.8438\n",
            "Epoch 46/100\n",
            "4/4 [==============================] - 0s 10ms/step - loss: 0.3516 - accuracy: 0.8672 - val_loss: 0.3196 - val_accuracy: 0.8438\n",
            "Epoch 47/100\n",
            "4/4 [==============================] - 0s 9ms/step - loss: 0.3458 - accuracy: 0.8672 - val_loss: 0.3086 - val_accuracy: 0.8438\n",
            "Epoch 48/100\n",
            "4/4 [==============================] - 0s 11ms/step - loss: 0.3624 - accuracy: 0.8828 - val_loss: 0.3062 - val_accuracy: 0.8438\n",
            "Epoch 49/100\n",
            "4/4 [==============================] - 0s 10ms/step - loss: 0.3743 - accuracy: 0.8672 - val_loss: 0.3224 - val_accuracy: 0.8438\n",
            "Epoch 50/100\n",
            "4/4 [==============================] - 0s 9ms/step - loss: 0.3482 - accuracy: 0.8750 - val_loss: 0.3059 - val_accuracy: 0.9062\n",
            "Epoch 51/100\n",
            "4/4 [==============================] - 0s 10ms/step - loss: 0.3570 - accuracy: 0.8594 - val_loss: 0.3407 - val_accuracy: 0.8438\n",
            "Epoch 52/100\n",
            "4/4 [==============================] - 0s 10ms/step - loss: 0.3521 - accuracy: 0.8672 - val_loss: 0.2996 - val_accuracy: 0.9062\n",
            "Epoch 53/100\n",
            "4/4 [==============================] - 0s 12ms/step - loss: 0.3845 - accuracy: 0.8359 - val_loss: 0.3259 - val_accuracy: 0.8438\n",
            "Epoch 54/100\n",
            "4/4 [==============================] - 0s 11ms/step - loss: 0.3688 - accuracy: 0.8438 - val_loss: 0.3117 - val_accuracy: 0.9062\n",
            "Epoch 55/100\n",
            "4/4 [==============================] - 0s 9ms/step - loss: 0.3351 - accuracy: 0.8750 - val_loss: 0.3834 - val_accuracy: 0.8125\n",
            "Epoch 56/100\n",
            "4/4 [==============================] - 0s 9ms/step - loss: 0.3548 - accuracy: 0.8516 - val_loss: 0.2993 - val_accuracy: 0.9062\n",
            "Epoch 57/100\n",
            "4/4 [==============================] - 0s 12ms/step - loss: 0.4030 - accuracy: 0.8359 - val_loss: 0.3003 - val_accuracy: 0.8438\n",
            "Epoch 58/100\n",
            "4/4 [==============================] - 0s 9ms/step - loss: 0.3778 - accuracy: 0.8359 - val_loss: 0.3077 - val_accuracy: 0.8438\n",
            "Epoch 59/100\n",
            "4/4 [==============================] - 0s 9ms/step - loss: 0.3883 - accuracy: 0.8594 - val_loss: 0.3216 - val_accuracy: 0.8750\n",
            "Epoch 60/100\n",
            "4/4 [==============================] - 0s 10ms/step - loss: 0.3401 - accuracy: 0.8828 - val_loss: 0.4096 - val_accuracy: 0.8125\n",
            "Epoch 61/100\n",
            "4/4 [==============================] - 0s 10ms/step - loss: 0.3555 - accuracy: 0.8594 - val_loss: 0.2933 - val_accuracy: 0.9062\n",
            "Epoch 62/100\n",
            "4/4 [==============================] - 0s 9ms/step - loss: 0.4230 - accuracy: 0.8594 - val_loss: 0.3191 - val_accuracy: 0.8438\n",
            "Epoch 63/100\n",
            "4/4 [==============================] - 0s 10ms/step - loss: 0.4364 - accuracy: 0.8203 - val_loss: 0.2853 - val_accuracy: 0.9062\n",
            "Epoch 64/100\n",
            "4/4 [==============================] - 0s 12ms/step - loss: 0.4116 - accuracy: 0.8359 - val_loss: 0.2848 - val_accuracy: 0.9062\n",
            "Epoch 65/100\n",
            "4/4 [==============================] - 0s 10ms/step - loss: 0.3122 - accuracy: 0.8828 - val_loss: 0.3650 - val_accuracy: 0.8125\n",
            "Epoch 66/100\n",
            "4/4 [==============================] - 0s 11ms/step - loss: 0.3770 - accuracy: 0.8594 - val_loss: 0.2927 - val_accuracy: 0.9062\n",
            "Epoch 67/100\n",
            "4/4 [==============================] - 0s 10ms/step - loss: 0.3174 - accuracy: 0.8750 - val_loss: 0.3335 - val_accuracy: 0.8750\n",
            "Epoch 68/100\n",
            "4/4 [==============================] - 0s 11ms/step - loss: 0.3981 - accuracy: 0.8516 - val_loss: 0.2805 - val_accuracy: 0.9062\n",
            "Epoch 69/100\n",
            "4/4 [==============================] - 0s 11ms/step - loss: 0.3145 - accuracy: 0.8828 - val_loss: 0.2782 - val_accuracy: 0.9062\n",
            "Epoch 70/100\n",
            "4/4 [==============================] - 0s 9ms/step - loss: 0.3459 - accuracy: 0.8594 - val_loss: 0.3007 - val_accuracy: 0.8438\n",
            "Epoch 71/100\n",
            "4/4 [==============================] - 0s 12ms/step - loss: 0.2980 - accuracy: 0.8906 - val_loss: 0.2839 - val_accuracy: 0.9062\n",
            "Epoch 72/100\n",
            "4/4 [==============================] - 0s 9ms/step - loss: 0.3193 - accuracy: 0.8750 - val_loss: 0.2926 - val_accuracy: 0.8750\n",
            "Epoch 73/100\n",
            "4/4 [==============================] - 0s 10ms/step - loss: 0.3182 - accuracy: 0.8672 - val_loss: 0.2863 - val_accuracy: 0.9062\n",
            "Epoch 74/100\n",
            "4/4 [==============================] - 0s 9ms/step - loss: 0.3178 - accuracy: 0.8672 - val_loss: 0.3054 - val_accuracy: 0.8438\n",
            "Epoch 75/100\n",
            "4/4 [==============================] - 0s 10ms/step - loss: 0.3189 - accuracy: 0.8750 - val_loss: 0.2829 - val_accuracy: 0.9062\n",
            "Epoch 76/100\n",
            "4/4 [==============================] - 0s 12ms/step - loss: 0.2995 - accuracy: 0.8906 - val_loss: 0.3580 - val_accuracy: 0.8438\n",
            "Epoch 77/100\n",
            "4/4 [==============================] - 0s 11ms/step - loss: 0.3107 - accuracy: 0.8672 - val_loss: 0.2756 - val_accuracy: 0.9062\n",
            "Epoch 78/100\n",
            "4/4 [==============================] - 0s 10ms/step - loss: 0.3196 - accuracy: 0.8672 - val_loss: 0.2781 - val_accuracy: 0.9062\n",
            "Epoch 79/100\n",
            "4/4 [==============================] - 0s 10ms/step - loss: 0.3252 - accuracy: 0.8516 - val_loss: 0.3179 - val_accuracy: 0.8438\n",
            "Epoch 80/100\n",
            "4/4 [==============================] - 0s 10ms/step - loss: 0.2954 - accuracy: 0.8828 - val_loss: 0.2838 - val_accuracy: 0.9062\n",
            "Epoch 81/100\n",
            "4/4 [==============================] - 0s 10ms/step - loss: 0.3189 - accuracy: 0.8828 - val_loss: 0.3555 - val_accuracy: 0.8750\n",
            "Epoch 82/100\n",
            "4/4 [==============================] - 0s 11ms/step - loss: 0.3174 - accuracy: 0.8672 - val_loss: 0.3024 - val_accuracy: 0.8750\n",
            "Epoch 83/100\n",
            "4/4 [==============================] - 0s 11ms/step - loss: 0.3497 - accuracy: 0.8672 - val_loss: 0.3206 - val_accuracy: 0.8438\n",
            "Epoch 84/100\n",
            "4/4 [==============================] - 0s 15ms/step - loss: 0.3012 - accuracy: 0.8594 - val_loss: 0.2805 - val_accuracy: 0.9062\n",
            "Epoch 85/100\n",
            "4/4 [==============================] - 0s 10ms/step - loss: 0.2983 - accuracy: 0.8906 - val_loss: 0.2826 - val_accuracy: 0.8750\n",
            "Epoch 86/100\n",
            "4/4 [==============================] - 0s 11ms/step - loss: 0.3015 - accuracy: 0.8750 - val_loss: 0.2773 - val_accuracy: 0.9062\n",
            "Epoch 87/100\n",
            "4/4 [==============================] - 0s 11ms/step - loss: 0.3861 - accuracy: 0.8516 - val_loss: 0.3095 - val_accuracy: 0.8125\n",
            "Epoch 88/100\n",
            "4/4 [==============================] - 0s 11ms/step - loss: 0.2693 - accuracy: 0.8906 - val_loss: 0.3191 - val_accuracy: 0.9062\n",
            "Epoch 89/100\n",
            "4/4 [==============================] - 0s 9ms/step - loss: 0.3320 - accuracy: 0.8672 - val_loss: 0.3365 - val_accuracy: 0.8750\n",
            "Epoch 90/100\n",
            "4/4 [==============================] - 0s 10ms/step - loss: 0.3248 - accuracy: 0.8516 - val_loss: 0.2754 - val_accuracy: 0.8750\n",
            "Epoch 91/100\n",
            "4/4 [==============================] - 0s 10ms/step - loss: 0.3110 - accuracy: 0.8750 - val_loss: 0.2913 - val_accuracy: 0.8438\n",
            "Epoch 92/100\n",
            "4/4 [==============================] - 0s 9ms/step - loss: 0.3510 - accuracy: 0.8438 - val_loss: 0.2740 - val_accuracy: 0.9062\n",
            "Epoch 93/100\n",
            "4/4 [==============================] - 0s 10ms/step - loss: 0.2920 - accuracy: 0.8672 - val_loss: 0.3395 - val_accuracy: 0.8750\n",
            "Epoch 94/100\n",
            "4/4 [==============================] - 0s 10ms/step - loss: 0.2832 - accuracy: 0.8828 - val_loss: 0.2738 - val_accuracy: 0.9062\n",
            "Epoch 95/100\n",
            "4/4 [==============================] - 0s 11ms/step - loss: 0.2993 - accuracy: 0.8828 - val_loss: 0.2780 - val_accuracy: 0.8750\n",
            "Epoch 96/100\n",
            "4/4 [==============================] - 0s 10ms/step - loss: 0.2974 - accuracy: 0.8906 - val_loss: 0.2911 - val_accuracy: 0.8438\n",
            "Epoch 97/100\n",
            "4/4 [==============================] - 0s 10ms/step - loss: 0.3181 - accuracy: 0.8672 - val_loss: 0.2806 - val_accuracy: 0.8750\n",
            "Epoch 98/100\n",
            "4/4 [==============================] - 0s 11ms/step - loss: 0.2707 - accuracy: 0.8906 - val_loss: 0.3011 - val_accuracy: 0.8438\n",
            "Epoch 99/100\n",
            "4/4 [==============================] - 0s 11ms/step - loss: 0.2993 - accuracy: 0.8750 - val_loss: 0.2766 - val_accuracy: 0.8750\n",
            "Epoch 100/100\n",
            "4/4 [==============================] - 0s 10ms/step - loss: 0.2734 - accuracy: 0.8906 - val_loss: 0.2908 - val_accuracy: 0.8125\n"
          ]
        },
        {
          "output_type": "execute_result",
          "data": {
            "text/plain": [
              "<keras.callbacks.History at 0x7f1c3d6c3a10>"
            ]
          },
          "metadata": {},
          "execution_count": 136
        }
      ]
    },
    {
      "cell_type": "markdown",
      "source": [
        "#### 20:80"
      ],
      "metadata": {
        "id": "zp2Q8nTYXVPa"
      }
    },
    {
      "cell_type": "code",
      "source": [
        "X_train_20_80_np = np.array(X_train_20_80)\n",
        "X_test_20_80_np = np.array(X_test_20_80)\n",
        "\n",
        "LE = LabelEncoder()\n",
        "y_train_20_80_enc = LE.fit_transform(y_train_20_80)\n",
        "y_test_20_80_enc = LE.fit_transform(y_test_20_80)"
      ],
      "metadata": {
        "id": "CT7zQYu-XVPb"
      },
      "execution_count": null,
      "outputs": []
    },
    {
      "cell_type": "code",
      "source": [
        "ANN_20_80 = Sequential()\n",
        "\n",
        "ANN_20_80.add(Dense(units = 16, activation = 'relu', input_shape = (df.shape[1]-1,)))\n",
        "ANN_20_80.add(Dense(units = 16, activation = 'relu'))\n",
        "ANN_20_80.add(Dense(units = 1, activation = 'sigmoid'))\n",
        "ANN_20_80.compile(optimizer = \"adam\", loss = \"binary_crossentropy\", metrics = ['accuracy'])\n",
        "\n",
        "ANN_20_80.summary()"
      ],
      "metadata": {
        "colab": {
          "base_uri": "https://localhost:8080/"
        },
        "outputId": "4837d107-7a5d-47d9-fbc2-0e3d4b514829",
        "id": "I_y6ysCxXVPc"
      },
      "execution_count": null,
      "outputs": [
        {
          "output_type": "stream",
          "name": "stdout",
          "text": [
            "Model: \"sequential_8\"\n",
            "_________________________________________________________________\n",
            " Layer (type)                Output Shape              Param #   \n",
            "=================================================================\n",
            " dense_22 (Dense)            (None, 16)                192       \n",
            "                                                                 \n",
            " dense_23 (Dense)            (None, 16)                272       \n",
            "                                                                 \n",
            " dense_24 (Dense)            (None, 1)                 17        \n",
            "                                                                 \n",
            "=================================================================\n",
            "Total params: 481\n",
            "Trainable params: 481\n",
            "Non-trainable params: 0\n",
            "_________________________________________________________________\n"
          ]
        }
      ]
    },
    {
      "cell_type": "code",
      "source": [
        "ANN_20_80.fit(X_train_20_80_np, y_train_20_80_enc, epochs = 100, validation_split = 0.2)"
      ],
      "metadata": {
        "colab": {
          "base_uri": "https://localhost:8080/"
        },
        "outputId": "943f244e-4d51-4dd0-be9a-62ebcd68f920",
        "id": "KqbmkjKsXVPc"
      },
      "execution_count": null,
      "outputs": [
        {
          "output_type": "stream",
          "name": "stdout",
          "text": [
            "Epoch 1/100\n",
            "8/8 [==============================] - 0s 15ms/step - loss: 0.6484 - accuracy: 0.9023 - val_loss: 0.3804 - val_accuracy: 0.8906\n",
            "Epoch 2/100\n",
            "8/8 [==============================] - 0s 10ms/step - loss: 0.6074 - accuracy: 0.9258 - val_loss: 0.3873 - val_accuracy: 0.8906\n",
            "Epoch 3/100\n",
            "8/8 [==============================] - 0s 11ms/step - loss: 0.5937 - accuracy: 0.9180 - val_loss: 0.3414 - val_accuracy: 0.8906\n",
            "Epoch 4/100\n",
            "8/8 [==============================] - 0s 12ms/step - loss: 0.5494 - accuracy: 0.9219 - val_loss: 0.3535 - val_accuracy: 0.8906\n",
            "Epoch 5/100\n",
            "8/8 [==============================] - 0s 10ms/step - loss: 0.5294 - accuracy: 0.9219 - val_loss: 0.3488 - val_accuracy: 0.8906\n",
            "Epoch 6/100\n",
            "8/8 [==============================] - 0s 17ms/step - loss: 0.4978 - accuracy: 0.9336 - val_loss: 0.3371 - val_accuracy: 0.8906\n",
            "Epoch 7/100\n",
            "8/8 [==============================] - 0s 12ms/step - loss: 0.4650 - accuracy: 0.9180 - val_loss: 0.3414 - val_accuracy: 0.8906\n",
            "Epoch 8/100\n",
            "8/8 [==============================] - 0s 9ms/step - loss: 0.4453 - accuracy: 0.9180 - val_loss: 0.3666 - val_accuracy: 0.8906\n",
            "Epoch 9/100\n",
            "8/8 [==============================] - 0s 12ms/step - loss: 0.3935 - accuracy: 0.9297 - val_loss: 0.3184 - val_accuracy: 0.8906\n",
            "Epoch 10/100\n",
            "8/8 [==============================] - 0s 13ms/step - loss: 0.3890 - accuracy: 0.9297 - val_loss: 0.3143 - val_accuracy: 0.8906\n",
            "Epoch 11/100\n",
            "8/8 [==============================] - 0s 17ms/step - loss: 0.3509 - accuracy: 0.9336 - val_loss: 0.3352 - val_accuracy: 0.8906\n",
            "Epoch 12/100\n",
            "8/8 [==============================] - 0s 10ms/step - loss: 0.3458 - accuracy: 0.9297 - val_loss: 0.3156 - val_accuracy: 0.8750\n",
            "Epoch 13/100\n",
            "8/8 [==============================] - 0s 10ms/step - loss: 0.3148 - accuracy: 0.9336 - val_loss: 0.4155 - val_accuracy: 0.8750\n",
            "Epoch 14/100\n",
            "8/8 [==============================] - 0s 8ms/step - loss: 0.3115 - accuracy: 0.9297 - val_loss: 0.4030 - val_accuracy: 0.8750\n",
            "Epoch 15/100\n",
            "8/8 [==============================] - 0s 10ms/step - loss: 0.2621 - accuracy: 0.9336 - val_loss: 0.5172 - val_accuracy: 0.8750\n",
            "Epoch 16/100\n",
            "8/8 [==============================] - 0s 8ms/step - loss: 0.2509 - accuracy: 0.9297 - val_loss: 0.5189 - val_accuracy: 0.8750\n",
            "Epoch 17/100\n",
            "8/8 [==============================] - 0s 10ms/step - loss: 0.2188 - accuracy: 0.9375 - val_loss: 0.5219 - val_accuracy: 0.8750\n",
            "Epoch 18/100\n",
            "8/8 [==============================] - 0s 7ms/step - loss: 0.2102 - accuracy: 0.9336 - val_loss: 0.5833 - val_accuracy: 0.8750\n",
            "Epoch 19/100\n",
            "8/8 [==============================] - 0s 8ms/step - loss: 0.1918 - accuracy: 0.9414 - val_loss: 0.6715 - val_accuracy: 0.8750\n",
            "Epoch 20/100\n",
            "8/8 [==============================] - 0s 11ms/step - loss: 0.2050 - accuracy: 0.9336 - val_loss: 0.6042 - val_accuracy: 0.8750\n",
            "Epoch 21/100\n",
            "8/8 [==============================] - 0s 12ms/step - loss: 0.1846 - accuracy: 0.9336 - val_loss: 0.6329 - val_accuracy: 0.8750\n",
            "Epoch 22/100\n",
            "8/8 [==============================] - 0s 18ms/step - loss: 0.1920 - accuracy: 0.9258 - val_loss: 0.6350 - val_accuracy: 0.8750\n",
            "Epoch 23/100\n",
            "8/8 [==============================] - 0s 9ms/step - loss: 0.1885 - accuracy: 0.9375 - val_loss: 0.6305 - val_accuracy: 0.8750\n",
            "Epoch 24/100\n",
            "8/8 [==============================] - 0s 11ms/step - loss: 0.1824 - accuracy: 0.9453 - val_loss: 0.6005 - val_accuracy: 0.8750\n",
            "Epoch 25/100\n",
            "8/8 [==============================] - 0s 10ms/step - loss: 0.1763 - accuracy: 0.9375 - val_loss: 0.6023 - val_accuracy: 0.8750\n",
            "Epoch 26/100\n",
            "8/8 [==============================] - 0s 10ms/step - loss: 0.2220 - accuracy: 0.9336 - val_loss: 0.7735 - val_accuracy: 0.8281\n",
            "Epoch 27/100\n",
            "8/8 [==============================] - 0s 11ms/step - loss: 0.1991 - accuracy: 0.9297 - val_loss: 0.5760 - val_accuracy: 0.8750\n",
            "Epoch 28/100\n",
            "8/8 [==============================] - 0s 11ms/step - loss: 0.1856 - accuracy: 0.9414 - val_loss: 0.6091 - val_accuracy: 0.8750\n",
            "Epoch 29/100\n",
            "8/8 [==============================] - 0s 9ms/step - loss: 0.1881 - accuracy: 0.9375 - val_loss: 0.6270 - val_accuracy: 0.8750\n",
            "Epoch 30/100\n",
            "8/8 [==============================] - 0s 8ms/step - loss: 0.1945 - accuracy: 0.9297 - val_loss: 0.5754 - val_accuracy: 0.8750\n",
            "Epoch 31/100\n",
            "8/8 [==============================] - 0s 9ms/step - loss: 0.1918 - accuracy: 0.9336 - val_loss: 0.6065 - val_accuracy: 0.8750\n",
            "Epoch 32/100\n",
            "8/8 [==============================] - 0s 7ms/step - loss: 0.1839 - accuracy: 0.9375 - val_loss: 0.6381 - val_accuracy: 0.8750\n",
            "Epoch 33/100\n",
            "8/8 [==============================] - 0s 7ms/step - loss: 0.1841 - accuracy: 0.9414 - val_loss: 0.5746 - val_accuracy: 0.8750\n",
            "Epoch 34/100\n",
            "8/8 [==============================] - 0s 12ms/step - loss: 0.1812 - accuracy: 0.9336 - val_loss: 0.6059 - val_accuracy: 0.8750\n",
            "Epoch 35/100\n",
            "8/8 [==============================] - 0s 7ms/step - loss: 0.1850 - accuracy: 0.9336 - val_loss: 0.6894 - val_accuracy: 0.8750\n",
            "Epoch 36/100\n",
            "8/8 [==============================] - 0s 10ms/step - loss: 0.2067 - accuracy: 0.9219 - val_loss: 0.5721 - val_accuracy: 0.8750\n",
            "Epoch 37/100\n",
            "8/8 [==============================] - 0s 10ms/step - loss: 0.1796 - accuracy: 0.9375 - val_loss: 0.5823 - val_accuracy: 0.8750\n",
            "Epoch 38/100\n",
            "8/8 [==============================] - 0s 9ms/step - loss: 0.1681 - accuracy: 0.9531 - val_loss: 0.6172 - val_accuracy: 0.8750\n",
            "Epoch 39/100\n",
            "8/8 [==============================] - 0s 7ms/step - loss: 0.1693 - accuracy: 0.9492 - val_loss: 0.5844 - val_accuracy: 0.8750\n",
            "Epoch 40/100\n",
            "8/8 [==============================] - 0s 10ms/step - loss: 0.1677 - accuracy: 0.9492 - val_loss: 0.6214 - val_accuracy: 0.8750\n",
            "Epoch 41/100\n",
            "8/8 [==============================] - 0s 10ms/step - loss: 0.1891 - accuracy: 0.9336 - val_loss: 0.5836 - val_accuracy: 0.8750\n",
            "Epoch 42/100\n",
            "8/8 [==============================] - 0s 10ms/step - loss: 0.2160 - accuracy: 0.9219 - val_loss: 0.5980 - val_accuracy: 0.8750\n",
            "Epoch 43/100\n",
            "8/8 [==============================] - 0s 9ms/step - loss: 0.1786 - accuracy: 0.9453 - val_loss: 0.6466 - val_accuracy: 0.8750\n",
            "Epoch 44/100\n",
            "8/8 [==============================] - 0s 11ms/step - loss: 0.1835 - accuracy: 0.9453 - val_loss: 0.5858 - val_accuracy: 0.8750\n",
            "Epoch 45/100\n",
            "8/8 [==============================] - 0s 10ms/step - loss: 0.1636 - accuracy: 0.9492 - val_loss: 0.6227 - val_accuracy: 0.8750\n",
            "Epoch 46/100\n",
            "8/8 [==============================] - 0s 12ms/step - loss: 0.1692 - accuracy: 0.9492 - val_loss: 0.6100 - val_accuracy: 0.8750\n",
            "Epoch 47/100\n",
            "8/8 [==============================] - 0s 8ms/step - loss: 0.1695 - accuracy: 0.9453 - val_loss: 0.5765 - val_accuracy: 0.8750\n",
            "Epoch 48/100\n",
            "8/8 [==============================] - 0s 7ms/step - loss: 0.1646 - accuracy: 0.9375 - val_loss: 0.6039 - val_accuracy: 0.8750\n",
            "Epoch 49/100\n",
            "8/8 [==============================] - 0s 11ms/step - loss: 0.1658 - accuracy: 0.9492 - val_loss: 0.6278 - val_accuracy: 0.8750\n",
            "Epoch 50/100\n",
            "8/8 [==============================] - 0s 7ms/step - loss: 0.1907 - accuracy: 0.9414 - val_loss: 0.5717 - val_accuracy: 0.8750\n",
            "Epoch 51/100\n",
            "8/8 [==============================] - 0s 10ms/step - loss: 0.1725 - accuracy: 0.9531 - val_loss: 0.5974 - val_accuracy: 0.8750\n",
            "Epoch 52/100\n",
            "8/8 [==============================] - 0s 8ms/step - loss: 0.1842 - accuracy: 0.9492 - val_loss: 0.6624 - val_accuracy: 0.8750\n",
            "Epoch 53/100\n",
            "8/8 [==============================] - 0s 8ms/step - loss: 0.1848 - accuracy: 0.9531 - val_loss: 0.6219 - val_accuracy: 0.8750\n",
            "Epoch 54/100\n",
            "8/8 [==============================] - 0s 7ms/step - loss: 0.1860 - accuracy: 0.9336 - val_loss: 0.5947 - val_accuracy: 0.8750\n",
            "Epoch 55/100\n",
            "8/8 [==============================] - 0s 8ms/step - loss: 0.1852 - accuracy: 0.9336 - val_loss: 0.5848 - val_accuracy: 0.8750\n",
            "Epoch 56/100\n",
            "8/8 [==============================] - 0s 10ms/step - loss: 0.1718 - accuracy: 0.9336 - val_loss: 0.6727 - val_accuracy: 0.8750\n",
            "Epoch 57/100\n",
            "8/8 [==============================] - 0s 9ms/step - loss: 0.1994 - accuracy: 0.9258 - val_loss: 0.5751 - val_accuracy: 0.8750\n",
            "Epoch 58/100\n",
            "8/8 [==============================] - 0s 7ms/step - loss: 0.1921 - accuracy: 0.9219 - val_loss: 0.5697 - val_accuracy: 0.8750\n",
            "Epoch 59/100\n",
            "8/8 [==============================] - 0s 10ms/step - loss: 0.2376 - accuracy: 0.9141 - val_loss: 0.6795 - val_accuracy: 0.8750\n",
            "Epoch 60/100\n",
            "8/8 [==============================] - 0s 7ms/step - loss: 0.2078 - accuracy: 0.9258 - val_loss: 0.6228 - val_accuracy: 0.8750\n",
            "Epoch 61/100\n",
            "8/8 [==============================] - 0s 7ms/step - loss: 0.1858 - accuracy: 0.9414 - val_loss: 0.5815 - val_accuracy: 0.8750\n",
            "Epoch 62/100\n",
            "8/8 [==============================] - 0s 11ms/step - loss: 0.1662 - accuracy: 0.9492 - val_loss: 0.5828 - val_accuracy: 0.8750\n",
            "Epoch 63/100\n",
            "8/8 [==============================] - 0s 8ms/step - loss: 0.1682 - accuracy: 0.9453 - val_loss: 0.6099 - val_accuracy: 0.8750\n",
            "Epoch 64/100\n",
            "8/8 [==============================] - 0s 10ms/step - loss: 0.1607 - accuracy: 0.9492 - val_loss: 0.5943 - val_accuracy: 0.8750\n",
            "Epoch 65/100\n",
            "8/8 [==============================] - 0s 10ms/step - loss: 0.1630 - accuracy: 0.9375 - val_loss: 0.5950 - val_accuracy: 0.8750\n",
            "Epoch 66/100\n",
            "8/8 [==============================] - 0s 9ms/step - loss: 0.1597 - accuracy: 0.9531 - val_loss: 0.5964 - val_accuracy: 0.8750\n",
            "Epoch 67/100\n",
            "8/8 [==============================] - 0s 12ms/step - loss: 0.1681 - accuracy: 0.9492 - val_loss: 0.6052 - val_accuracy: 0.8750\n",
            "Epoch 68/100\n",
            "8/8 [==============================] - 0s 7ms/step - loss: 0.1654 - accuracy: 0.9492 - val_loss: 0.6166 - val_accuracy: 0.8750\n",
            "Epoch 69/100\n",
            "8/8 [==============================] - 0s 7ms/step - loss: 0.1707 - accuracy: 0.9492 - val_loss: 0.5965 - val_accuracy: 0.8750\n",
            "Epoch 70/100\n",
            "8/8 [==============================] - 0s 13ms/step - loss: 0.1555 - accuracy: 0.9531 - val_loss: 0.5723 - val_accuracy: 0.8750\n",
            "Epoch 71/100\n",
            "8/8 [==============================] - 0s 9ms/step - loss: 0.1623 - accuracy: 0.9492 - val_loss: 0.6636 - val_accuracy: 0.8750\n",
            "Epoch 72/100\n",
            "8/8 [==============================] - 0s 7ms/step - loss: 0.1792 - accuracy: 0.9336 - val_loss: 0.5838 - val_accuracy: 0.8750\n",
            "Epoch 73/100\n",
            "8/8 [==============================] - 0s 7ms/step - loss: 0.1771 - accuracy: 0.9375 - val_loss: 0.5625 - val_accuracy: 0.8750\n",
            "Epoch 74/100\n",
            "8/8 [==============================] - 0s 8ms/step - loss: 0.1623 - accuracy: 0.9609 - val_loss: 0.6039 - val_accuracy: 0.8750\n",
            "Epoch 75/100\n",
            "8/8 [==============================] - 0s 7ms/step - loss: 0.1667 - accuracy: 0.9570 - val_loss: 0.6244 - val_accuracy: 0.8750\n",
            "Epoch 76/100\n",
            "8/8 [==============================] - 0s 10ms/step - loss: 0.1658 - accuracy: 0.9492 - val_loss: 0.5648 - val_accuracy: 0.8750\n",
            "Epoch 77/100\n",
            "8/8 [==============================] - 0s 13ms/step - loss: 0.1849 - accuracy: 0.9336 - val_loss: 0.6023 - val_accuracy: 0.8750\n",
            "Epoch 78/100\n",
            "8/8 [==============================] - 0s 8ms/step - loss: 0.1677 - accuracy: 0.9414 - val_loss: 0.6519 - val_accuracy: 0.8750\n",
            "Epoch 79/100\n",
            "8/8 [==============================] - 0s 8ms/step - loss: 0.1732 - accuracy: 0.9414 - val_loss: 0.5768 - val_accuracy: 0.8750\n",
            "Epoch 80/100\n",
            "8/8 [==============================] - 0s 7ms/step - loss: 0.1683 - accuracy: 0.9492 - val_loss: 0.5686 - val_accuracy: 0.8750\n",
            "Epoch 81/100\n",
            "8/8 [==============================] - 0s 7ms/step - loss: 0.1639 - accuracy: 0.9492 - val_loss: 0.6084 - val_accuracy: 0.8750\n",
            "Epoch 82/100\n",
            "8/8 [==============================] - 0s 10ms/step - loss: 0.1590 - accuracy: 0.9453 - val_loss: 0.5968 - val_accuracy: 0.8750\n",
            "Epoch 83/100\n",
            "8/8 [==============================] - 0s 8ms/step - loss: 0.1846 - accuracy: 0.9453 - val_loss: 0.6450 - val_accuracy: 0.8750\n",
            "Epoch 84/100\n",
            "8/8 [==============================] - 0s 11ms/step - loss: 0.2351 - accuracy: 0.9180 - val_loss: 0.5799 - val_accuracy: 0.8750\n",
            "Epoch 85/100\n",
            "8/8 [==============================] - 0s 11ms/step - loss: 0.1786 - accuracy: 0.9492 - val_loss: 0.5527 - val_accuracy: 0.8750\n",
            "Epoch 86/100\n",
            "8/8 [==============================] - 0s 8ms/step - loss: 0.1756 - accuracy: 0.9336 - val_loss: 0.7020 - val_accuracy: 0.8750\n",
            "Epoch 87/100\n",
            "8/8 [==============================] - 0s 11ms/step - loss: 0.1885 - accuracy: 0.9297 - val_loss: 0.5799 - val_accuracy: 0.8750\n",
            "Epoch 88/100\n",
            "8/8 [==============================] - 0s 10ms/step - loss: 0.1516 - accuracy: 0.9531 - val_loss: 0.5700 - val_accuracy: 0.8750\n",
            "Epoch 89/100\n",
            "8/8 [==============================] - 0s 8ms/step - loss: 0.1618 - accuracy: 0.9531 - val_loss: 0.5818 - val_accuracy: 0.8750\n",
            "Epoch 90/100\n",
            "8/8 [==============================] - 0s 7ms/step - loss: 0.1740 - accuracy: 0.9414 - val_loss: 0.5938 - val_accuracy: 0.8750\n",
            "Epoch 91/100\n",
            "8/8 [==============================] - 0s 7ms/step - loss: 0.1633 - accuracy: 0.9492 - val_loss: 0.6284 - val_accuracy: 0.8750\n",
            "Epoch 92/100\n",
            "8/8 [==============================] - 0s 16ms/step - loss: 0.1737 - accuracy: 0.9453 - val_loss: 0.5784 - val_accuracy: 0.8906\n",
            "Epoch 93/100\n",
            "8/8 [==============================] - 0s 13ms/step - loss: 0.2100 - accuracy: 0.9258 - val_loss: 0.5743 - val_accuracy: 0.8750\n",
            "Epoch 94/100\n",
            "8/8 [==============================] - 0s 14ms/step - loss: 0.1949 - accuracy: 0.9414 - val_loss: 0.7355 - val_accuracy: 0.8594\n",
            "Epoch 95/100\n",
            "8/8 [==============================] - 0s 15ms/step - loss: 0.2053 - accuracy: 0.9141 - val_loss: 0.5343 - val_accuracy: 0.8906\n",
            "Epoch 96/100\n",
            "8/8 [==============================] - 0s 7ms/step - loss: 0.1596 - accuracy: 0.9570 - val_loss: 0.5805 - val_accuracy: 0.8750\n",
            "Epoch 97/100\n",
            "8/8 [==============================] - 0s 11ms/step - loss: 0.1520 - accuracy: 0.9492 - val_loss: 0.5956 - val_accuracy: 0.8750\n",
            "Epoch 98/100\n",
            "8/8 [==============================] - 0s 14ms/step - loss: 0.1557 - accuracy: 0.9414 - val_loss: 0.5548 - val_accuracy: 0.8750\n",
            "Epoch 99/100\n",
            "8/8 [==============================] - 0s 13ms/step - loss: 0.1670 - accuracy: 0.9414 - val_loss: 0.5699 - val_accuracy: 0.8750\n",
            "Epoch 100/100\n",
            "8/8 [==============================] - 0s 10ms/step - loss: 0.1670 - accuracy: 0.9492 - val_loss: 0.6115 - val_accuracy: 0.8750\n"
          ]
        },
        {
          "output_type": "execute_result",
          "data": {
            "text/plain": [
              "<keras.callbacks.History at 0x7f1c3a157950>"
            ]
          },
          "metadata": {},
          "execution_count": 134
        }
      ]
    },
    {
      "cell_type": "markdown",
      "source": [
        "#### 30:70"
      ],
      "metadata": {
        "id": "jwyljry6YG2K"
      }
    },
    {
      "cell_type": "code",
      "source": [
        "X_train_30_70_np = np.array(X_train_30_70)\n",
        "X_test_30_70_np = np.array(X_test_30_70)\n",
        "\n",
        "LE = LabelEncoder()\n",
        "y_train_30_70_enc = LE.fit_transform(y_train_30_70)\n",
        "y_test_30_70_enc = LE.fit_transform(y_test_30_70)"
      ],
      "metadata": {
        "id": "2Y-hIjI6YG2K"
      },
      "execution_count": null,
      "outputs": []
    },
    {
      "cell_type": "code",
      "source": [
        "ANN_30_70 = Sequential()\n",
        "\n",
        "ANN_30_70.add(Dense(units = 16, activation = 'relu', input_shape = (df.shape[1]-1,)))\n",
        "ANN_30_70.add(Dense(units = 16, activation = 'relu'))\n",
        "ANN_30_70.add(Dense(units = 1, activation = 'sigmoid'))\n",
        "ANN_30_70.compile(optimizer = \"adam\", loss = \"binary_crossentropy\", metrics = ['accuracy'])\n",
        "\n",
        "ANN_30_70.summary()"
      ],
      "metadata": {
        "colab": {
          "base_uri": "https://localhost:8080/"
        },
        "outputId": "7b1e58cf-fbec-4095-82fe-b2ba8c465bd1",
        "id": "FMDtvvk-YG2L"
      },
      "execution_count": null,
      "outputs": [
        {
          "output_type": "stream",
          "name": "stdout",
          "text": [
            "Model: \"sequential_10\"\n",
            "_________________________________________________________________\n",
            " Layer (type)                Output Shape              Param #   \n",
            "=================================================================\n",
            " dense_28 (Dense)            (None, 16)                192       \n",
            "                                                                 \n",
            " dense_29 (Dense)            (None, 16)                272       \n",
            "                                                                 \n",
            " dense_30 (Dense)            (None, 1)                 17        \n",
            "                                                                 \n",
            "=================================================================\n",
            "Total params: 481\n",
            "Trainable params: 481\n",
            "Non-trainable params: 0\n",
            "_________________________________________________________________\n"
          ]
        }
      ]
    },
    {
      "cell_type": "code",
      "source": [
        "ANN_30_70.fit(X_train_30_70_np, y_train_30_70_enc, epochs = 100, validation_split = 0.2)"
      ],
      "metadata": {
        "colab": {
          "base_uri": "https://localhost:8080/"
        },
        "outputId": "6ec4f63a-5cc2-4cb2-c676-8cc9b890dffc",
        "id": "OPmXsFKpYG2L"
      },
      "execution_count": null,
      "outputs": [
        {
          "output_type": "stream",
          "name": "stdout",
          "text": [
            "Epoch 1/100\n",
            "12/12 [==============================] - 1s 30ms/step - loss: 32.4008 - accuracy: 0.6927 - val_loss: 21.9372 - val_accuracy: 0.6354\n",
            "Epoch 2/100\n",
            "12/12 [==============================] - 0s 7ms/step - loss: 13.8747 - accuracy: 0.6979 - val_loss: 5.9605 - val_accuracy: 0.6562\n",
            "Epoch 3/100\n",
            "12/12 [==============================] - 0s 7ms/step - loss: 3.6959 - accuracy: 0.6927 - val_loss: 2.7356 - val_accuracy: 0.4479\n",
            "Epoch 4/100\n",
            "12/12 [==============================] - 0s 7ms/step - loss: 2.1186 - accuracy: 0.6562 - val_loss: 2.0905 - val_accuracy: 0.5000\n",
            "Epoch 5/100\n",
            "12/12 [==============================] - 0s 8ms/step - loss: 1.5275 - accuracy: 0.6901 - val_loss: 2.2440 - val_accuracy: 0.4896\n",
            "Epoch 6/100\n",
            "12/12 [==============================] - 0s 7ms/step - loss: 1.2816 - accuracy: 0.6328 - val_loss: 1.8434 - val_accuracy: 0.4479\n",
            "Epoch 7/100\n",
            "12/12 [==============================] - 0s 7ms/step - loss: 1.1839 - accuracy: 0.6458 - val_loss: 1.8079 - val_accuracy: 0.4688\n",
            "Epoch 8/100\n",
            "12/12 [==============================] - 0s 7ms/step - loss: 1.0868 - accuracy: 0.6302 - val_loss: 1.7698 - val_accuracy: 0.5104\n",
            "Epoch 9/100\n",
            "12/12 [==============================] - 0s 10ms/step - loss: 0.9970 - accuracy: 0.6615 - val_loss: 1.4907 - val_accuracy: 0.4583\n",
            "Epoch 10/100\n",
            "12/12 [==============================] - 0s 7ms/step - loss: 0.9163 - accuracy: 0.6875 - val_loss: 1.4913 - val_accuracy: 0.5000\n",
            "Epoch 11/100\n",
            "12/12 [==============================] - 0s 7ms/step - loss: 0.8561 - accuracy: 0.6745 - val_loss: 1.6938 - val_accuracy: 0.6042\n",
            "Epoch 12/100\n",
            "12/12 [==============================] - 0s 7ms/step - loss: 0.7582 - accuracy: 0.7083 - val_loss: 1.3551 - val_accuracy: 0.5729\n",
            "Epoch 13/100\n",
            "12/12 [==============================] - 0s 6ms/step - loss: 0.6771 - accuracy: 0.7057 - val_loss: 1.2357 - val_accuracy: 0.5625\n",
            "Epoch 14/100\n",
            "12/12 [==============================] - 0s 8ms/step - loss: 0.6276 - accuracy: 0.7500 - val_loss: 1.0658 - val_accuracy: 0.6042\n",
            "Epoch 15/100\n",
            "12/12 [==============================] - 0s 7ms/step - loss: 0.5357 - accuracy: 0.7396 - val_loss: 1.1554 - val_accuracy: 0.6354\n",
            "Epoch 16/100\n",
            "12/12 [==============================] - 0s 6ms/step - loss: 0.5029 - accuracy: 0.7760 - val_loss: 0.9378 - val_accuracy: 0.6042\n",
            "Epoch 17/100\n",
            "12/12 [==============================] - 0s 7ms/step - loss: 0.4678 - accuracy: 0.7995 - val_loss: 0.9004 - val_accuracy: 0.7083\n",
            "Epoch 18/100\n",
            "12/12 [==============================] - 0s 7ms/step - loss: 0.4649 - accuracy: 0.7682 - val_loss: 0.8679 - val_accuracy: 0.7396\n",
            "Epoch 19/100\n",
            "12/12 [==============================] - 0s 7ms/step - loss: 0.4245 - accuracy: 0.7995 - val_loss: 0.8633 - val_accuracy: 0.7604\n",
            "Epoch 20/100\n",
            "12/12 [==============================] - 0s 7ms/step - loss: 0.3857 - accuracy: 0.8203 - val_loss: 0.7829 - val_accuracy: 0.7604\n",
            "Epoch 21/100\n",
            "12/12 [==============================] - 0s 8ms/step - loss: 0.3610 - accuracy: 0.8438 - val_loss: 0.7185 - val_accuracy: 0.7812\n",
            "Epoch 22/100\n",
            "12/12 [==============================] - 0s 6ms/step - loss: 0.3150 - accuracy: 0.8568 - val_loss: 0.7154 - val_accuracy: 0.7708\n",
            "Epoch 23/100\n",
            "12/12 [==============================] - 0s 7ms/step - loss: 0.2892 - accuracy: 0.8698 - val_loss: 0.6800 - val_accuracy: 0.7917\n",
            "Epoch 24/100\n",
            "12/12 [==============================] - 0s 7ms/step - loss: 0.2781 - accuracy: 0.8880 - val_loss: 0.6486 - val_accuracy: 0.8438\n",
            "Epoch 25/100\n",
            "12/12 [==============================] - 0s 7ms/step - loss: 0.2557 - accuracy: 0.8984 - val_loss: 0.6125 - val_accuracy: 0.8438\n",
            "Epoch 26/100\n",
            "12/12 [==============================] - 0s 7ms/step - loss: 0.2373 - accuracy: 0.9167 - val_loss: 0.6172 - val_accuracy: 0.8646\n",
            "Epoch 27/100\n",
            "12/12 [==============================] - 0s 7ms/step - loss: 0.2520 - accuracy: 0.8958 - val_loss: 0.6076 - val_accuracy: 0.8542\n",
            "Epoch 28/100\n",
            "12/12 [==============================] - 0s 7ms/step - loss: 0.2369 - accuracy: 0.9167 - val_loss: 0.6053 - val_accuracy: 0.8333\n",
            "Epoch 29/100\n",
            "12/12 [==============================] - 0s 8ms/step - loss: 0.2372 - accuracy: 0.9062 - val_loss: 0.5644 - val_accuracy: 0.8646\n",
            "Epoch 30/100\n",
            "12/12 [==============================] - 0s 7ms/step - loss: 0.2324 - accuracy: 0.9245 - val_loss: 0.5557 - val_accuracy: 0.8646\n",
            "Epoch 31/100\n",
            "12/12 [==============================] - 0s 7ms/step - loss: 0.2171 - accuracy: 0.9219 - val_loss: 0.5474 - val_accuracy: 0.8646\n",
            "Epoch 32/100\n",
            "12/12 [==============================] - 0s 9ms/step - loss: 0.2249 - accuracy: 0.9219 - val_loss: 0.5386 - val_accuracy: 0.8646\n",
            "Epoch 33/100\n",
            "12/12 [==============================] - 0s 7ms/step - loss: 0.2164 - accuracy: 0.9193 - val_loss: 0.5285 - val_accuracy: 0.8854\n",
            "Epoch 34/100\n",
            "12/12 [==============================] - 0s 7ms/step - loss: 0.2108 - accuracy: 0.9297 - val_loss: 0.5183 - val_accuracy: 0.8854\n",
            "Epoch 35/100\n",
            "12/12 [==============================] - 0s 7ms/step - loss: 0.1929 - accuracy: 0.9401 - val_loss: 0.5380 - val_accuracy: 0.8854\n",
            "Epoch 36/100\n",
            "12/12 [==============================] - 0s 7ms/step - loss: 0.1963 - accuracy: 0.9453 - val_loss: 0.4958 - val_accuracy: 0.8854\n",
            "Epoch 37/100\n",
            "12/12 [==============================] - 0s 7ms/step - loss: 0.1878 - accuracy: 0.9479 - val_loss: 0.5014 - val_accuracy: 0.8854\n",
            "Epoch 38/100\n",
            "12/12 [==============================] - 0s 7ms/step - loss: 0.1885 - accuracy: 0.9505 - val_loss: 0.5099 - val_accuracy: 0.8646\n",
            "Epoch 39/100\n",
            "12/12 [==============================] - 0s 5ms/step - loss: 0.1953 - accuracy: 0.9245 - val_loss: 0.5592 - val_accuracy: 0.8438\n",
            "Epoch 40/100\n",
            "12/12 [==============================] - 0s 8ms/step - loss: 0.2201 - accuracy: 0.9245 - val_loss: 0.4877 - val_accuracy: 0.8646\n",
            "Epoch 41/100\n",
            "12/12 [==============================] - 0s 6ms/step - loss: 0.1811 - accuracy: 0.9479 - val_loss: 0.4866 - val_accuracy: 0.8750\n",
            "Epoch 42/100\n",
            "12/12 [==============================] - 0s 7ms/step - loss: 0.1835 - accuracy: 0.9401 - val_loss: 0.4585 - val_accuracy: 0.8750\n",
            "Epoch 43/100\n",
            "12/12 [==============================] - 0s 7ms/step - loss: 0.1842 - accuracy: 0.9401 - val_loss: 0.4787 - val_accuracy: 0.8750\n",
            "Epoch 44/100\n",
            "12/12 [==============================] - 0s 6ms/step - loss: 0.1713 - accuracy: 0.9453 - val_loss: 0.4456 - val_accuracy: 0.8958\n",
            "Epoch 45/100\n",
            "12/12 [==============================] - 0s 7ms/step - loss: 0.1695 - accuracy: 0.9583 - val_loss: 0.4359 - val_accuracy: 0.9062\n",
            "Epoch 46/100\n",
            "12/12 [==============================] - 0s 7ms/step - loss: 0.1707 - accuracy: 0.9505 - val_loss: 0.4338 - val_accuracy: 0.9062\n",
            "Epoch 47/100\n",
            "12/12 [==============================] - 0s 7ms/step - loss: 0.1884 - accuracy: 0.9323 - val_loss: 0.4521 - val_accuracy: 0.9167\n",
            "Epoch 48/100\n",
            "12/12 [==============================] - 0s 7ms/step - loss: 0.1640 - accuracy: 0.9531 - val_loss: 0.4120 - val_accuracy: 0.9062\n",
            "Epoch 49/100\n",
            "12/12 [==============================] - 0s 7ms/step - loss: 0.1602 - accuracy: 0.9531 - val_loss: 0.4144 - val_accuracy: 0.8958\n",
            "Epoch 50/100\n",
            "12/12 [==============================] - 0s 7ms/step - loss: 0.1610 - accuracy: 0.9557 - val_loss: 0.3997 - val_accuracy: 0.8854\n",
            "Epoch 51/100\n",
            "12/12 [==============================] - 0s 7ms/step - loss: 0.1580 - accuracy: 0.9531 - val_loss: 0.4307 - val_accuracy: 0.9062\n",
            "Epoch 52/100\n",
            "12/12 [==============================] - 0s 7ms/step - loss: 0.1718 - accuracy: 0.9479 - val_loss: 0.3972 - val_accuracy: 0.9062\n",
            "Epoch 53/100\n",
            "12/12 [==============================] - 0s 7ms/step - loss: 0.1695 - accuracy: 0.9427 - val_loss: 0.4027 - val_accuracy: 0.9167\n",
            "Epoch 54/100\n",
            "12/12 [==============================] - 0s 8ms/step - loss: 0.1645 - accuracy: 0.9427 - val_loss: 0.4070 - val_accuracy: 0.9167\n",
            "Epoch 55/100\n",
            "12/12 [==============================] - 0s 10ms/step - loss: 0.1728 - accuracy: 0.9427 - val_loss: 0.3939 - val_accuracy: 0.9167\n",
            "Epoch 56/100\n",
            "12/12 [==============================] - 0s 9ms/step - loss: 0.1629 - accuracy: 0.9479 - val_loss: 0.4520 - val_accuracy: 0.8854\n",
            "Epoch 57/100\n",
            "12/12 [==============================] - 0s 7ms/step - loss: 0.1782 - accuracy: 0.9349 - val_loss: 0.3754 - val_accuracy: 0.9167\n",
            "Epoch 58/100\n",
            "12/12 [==============================] - 0s 7ms/step - loss: 0.1540 - accuracy: 0.9375 - val_loss: 0.3900 - val_accuracy: 0.8854\n",
            "Epoch 59/100\n",
            "12/12 [==============================] - 0s 5ms/step - loss: 0.1555 - accuracy: 0.9453 - val_loss: 0.4129 - val_accuracy: 0.8750\n",
            "Epoch 60/100\n",
            "12/12 [==============================] - 0s 7ms/step - loss: 0.1740 - accuracy: 0.9323 - val_loss: 0.4147 - val_accuracy: 0.8854\n",
            "Epoch 61/100\n",
            "12/12 [==============================] - 0s 7ms/step - loss: 0.1670 - accuracy: 0.9323 - val_loss: 0.3934 - val_accuracy: 0.8750\n",
            "Epoch 62/100\n",
            "12/12 [==============================] - 0s 7ms/step - loss: 0.1545 - accuracy: 0.9375 - val_loss: 0.3837 - val_accuracy: 0.8854\n",
            "Epoch 63/100\n",
            "12/12 [==============================] - 0s 7ms/step - loss: 0.1460 - accuracy: 0.9427 - val_loss: 0.3690 - val_accuracy: 0.9062\n",
            "Epoch 64/100\n",
            "12/12 [==============================] - 0s 7ms/step - loss: 0.1374 - accuracy: 0.9583 - val_loss: 0.3661 - val_accuracy: 0.9167\n",
            "Epoch 65/100\n",
            "12/12 [==============================] - 0s 8ms/step - loss: 0.1491 - accuracy: 0.9557 - val_loss: 0.3761 - val_accuracy: 0.9167\n",
            "Epoch 66/100\n",
            "12/12 [==============================] - 0s 8ms/step - loss: 0.1437 - accuracy: 0.9531 - val_loss: 0.3539 - val_accuracy: 0.9062\n",
            "Epoch 67/100\n",
            "12/12 [==============================] - 0s 7ms/step - loss: 0.1400 - accuracy: 0.9453 - val_loss: 0.3518 - val_accuracy: 0.9062\n",
            "Epoch 68/100\n",
            "12/12 [==============================] - 0s 7ms/step - loss: 0.1378 - accuracy: 0.9505 - val_loss: 0.3449 - val_accuracy: 0.9167\n",
            "Epoch 69/100\n",
            "12/12 [==============================] - 0s 7ms/step - loss: 0.1387 - accuracy: 0.9583 - val_loss: 0.3784 - val_accuracy: 0.9062\n",
            "Epoch 70/100\n",
            "12/12 [==============================] - 0s 7ms/step - loss: 0.1432 - accuracy: 0.9453 - val_loss: 0.3299 - val_accuracy: 0.9062\n",
            "Epoch 71/100\n",
            "12/12 [==============================] - 0s 7ms/step - loss: 0.1407 - accuracy: 0.9505 - val_loss: 0.3708 - val_accuracy: 0.9062\n",
            "Epoch 72/100\n",
            "12/12 [==============================] - 0s 8ms/step - loss: 0.1365 - accuracy: 0.9531 - val_loss: 0.3480 - val_accuracy: 0.9062\n",
            "Epoch 73/100\n",
            "12/12 [==============================] - 0s 8ms/step - loss: 0.1396 - accuracy: 0.9505 - val_loss: 0.3415 - val_accuracy: 0.9062\n",
            "Epoch 74/100\n",
            "12/12 [==============================] - 0s 7ms/step - loss: 0.1383 - accuracy: 0.9505 - val_loss: 0.3691 - val_accuracy: 0.9062\n",
            "Epoch 75/100\n",
            "12/12 [==============================] - 0s 7ms/step - loss: 0.1384 - accuracy: 0.9505 - val_loss: 0.3243 - val_accuracy: 0.9167\n",
            "Epoch 76/100\n",
            "12/12 [==============================] - 0s 7ms/step - loss: 0.1323 - accuracy: 0.9557 - val_loss: 0.3518 - val_accuracy: 0.9167\n",
            "Epoch 77/100\n",
            "12/12 [==============================] - 0s 7ms/step - loss: 0.1327 - accuracy: 0.9583 - val_loss: 0.3429 - val_accuracy: 0.9167\n",
            "Epoch 78/100\n",
            "12/12 [==============================] - 0s 7ms/step - loss: 0.1423 - accuracy: 0.9531 - val_loss: 0.3565 - val_accuracy: 0.9167\n",
            "Epoch 79/100\n",
            "12/12 [==============================] - 0s 7ms/step - loss: 0.1419 - accuracy: 0.9531 - val_loss: 0.3375 - val_accuracy: 0.9167\n",
            "Epoch 80/100\n",
            "12/12 [==============================] - 0s 7ms/step - loss: 0.1300 - accuracy: 0.9479 - val_loss: 0.3291 - val_accuracy: 0.9062\n",
            "Epoch 81/100\n",
            "12/12 [==============================] - 0s 8ms/step - loss: 0.1362 - accuracy: 0.9505 - val_loss: 0.3630 - val_accuracy: 0.9062\n",
            "Epoch 82/100\n",
            "12/12 [==============================] - 0s 8ms/step - loss: 0.1338 - accuracy: 0.9557 - val_loss: 0.3440 - val_accuracy: 0.9167\n",
            "Epoch 83/100\n",
            "12/12 [==============================] - 0s 8ms/step - loss: 0.1325 - accuracy: 0.9453 - val_loss: 0.3629 - val_accuracy: 0.9167\n",
            "Epoch 84/100\n",
            "12/12 [==============================] - 0s 7ms/step - loss: 0.1477 - accuracy: 0.9453 - val_loss: 0.3234 - val_accuracy: 0.9167\n",
            "Epoch 85/100\n",
            "12/12 [==============================] - 0s 7ms/step - loss: 0.1353 - accuracy: 0.9505 - val_loss: 0.3341 - val_accuracy: 0.9167\n",
            "Epoch 86/100\n",
            "12/12 [==============================] - 0s 8ms/step - loss: 0.1348 - accuracy: 0.9609 - val_loss: 0.3286 - val_accuracy: 0.9167\n",
            "Epoch 87/100\n",
            "12/12 [==============================] - 0s 7ms/step - loss: 0.1337 - accuracy: 0.9505 - val_loss: 0.3111 - val_accuracy: 0.9167\n",
            "Epoch 88/100\n",
            "12/12 [==============================] - 0s 7ms/step - loss: 0.1298 - accuracy: 0.9557 - val_loss: 0.3472 - val_accuracy: 0.9167\n",
            "Epoch 89/100\n",
            "12/12 [==============================] - 0s 7ms/step - loss: 0.1306 - accuracy: 0.9531 - val_loss: 0.3122 - val_accuracy: 0.9167\n",
            "Epoch 90/100\n",
            "12/12 [==============================] - 0s 7ms/step - loss: 0.1317 - accuracy: 0.9557 - val_loss: 0.3625 - val_accuracy: 0.9062\n",
            "Epoch 91/100\n",
            "12/12 [==============================] - 0s 7ms/step - loss: 0.1425 - accuracy: 0.9531 - val_loss: 0.3380 - val_accuracy: 0.9167\n",
            "Epoch 92/100\n",
            "12/12 [==============================] - 0s 8ms/step - loss: 0.1278 - accuracy: 0.9479 - val_loss: 0.3281 - val_accuracy: 0.9167\n",
            "Epoch 93/100\n",
            "12/12 [==============================] - 0s 7ms/step - loss: 0.1300 - accuracy: 0.9557 - val_loss: 0.2985 - val_accuracy: 0.9167\n",
            "Epoch 94/100\n",
            "12/12 [==============================] - 0s 7ms/step - loss: 0.1196 - accuracy: 0.9609 - val_loss: 0.3216 - val_accuracy: 0.9167\n",
            "Epoch 95/100\n",
            "12/12 [==============================] - 0s 8ms/step - loss: 0.1302 - accuracy: 0.9583 - val_loss: 0.3226 - val_accuracy: 0.9167\n",
            "Epoch 96/100\n",
            "12/12 [==============================] - 0s 8ms/step - loss: 0.1211 - accuracy: 0.9531 - val_loss: 0.3055 - val_accuracy: 0.9167\n",
            "Epoch 97/100\n",
            "12/12 [==============================] - 0s 7ms/step - loss: 0.1204 - accuracy: 0.9583 - val_loss: 0.3189 - val_accuracy: 0.9167\n",
            "Epoch 98/100\n",
            "12/12 [==============================] - 0s 7ms/step - loss: 0.1334 - accuracy: 0.9557 - val_loss: 0.3239 - val_accuracy: 0.9167\n",
            "Epoch 99/100\n",
            "12/12 [==============================] - 0s 7ms/step - loss: 0.1331 - accuracy: 0.9505 - val_loss: 0.3011 - val_accuracy: 0.9167\n",
            "Epoch 100/100\n",
            "12/12 [==============================] - 0s 8ms/step - loss: 0.1195 - accuracy: 0.9505 - val_loss: 0.3155 - val_accuracy: 0.9062\n"
          ]
        },
        {
          "output_type": "execute_result",
          "data": {
            "text/plain": [
              "<keras.callbacks.History at 0x7f1c3d678c10>"
            ]
          },
          "metadata": {},
          "execution_count": 139
        }
      ]
    },
    {
      "cell_type": "markdown",
      "source": [
        "#### 40:60"
      ],
      "metadata": {
        "id": "uLQHrNGOYHSh"
      }
    },
    {
      "cell_type": "code",
      "source": [
        "X_train_40_60_np = np.array(X_train_40_60)\n",
        "X_test_40_60_np = np.array(X_test_40_60)\n",
        "\n",
        "LE = LabelEncoder()\n",
        "y_train_40_60_enc = LE.fit_transform(y_train_40_60)\n",
        "y_test_40_60_enc = LE.fit_transform(y_test_40_60)"
      ],
      "metadata": {
        "id": "iYBtxiDVYHSi"
      },
      "execution_count": null,
      "outputs": []
    },
    {
      "cell_type": "code",
      "source": [
        "ANN_40_60 = Sequential()\n",
        "\n",
        "ANN_40_60.add(Dense(units = 16, activation = 'relu', input_shape = (df.shape[1]-1,)))\n",
        "ANN_40_60.add(Dense(units = 16, activation = 'relu'))\n",
        "ANN_40_60.add(Dense(units = 1, activation = 'sigmoid'))\n",
        "ANN_40_60.compile(optimizer = \"adam\", loss = \"binary_crossentropy\", metrics = ['accuracy'])\n",
        "\n",
        "ANN_40_60.summary()"
      ],
      "metadata": {
        "colab": {
          "base_uri": "https://localhost:8080/"
        },
        "outputId": "4cf61ae7-09bb-4824-c68f-0a784f262706",
        "id": "wfWlJD47YHSi"
      },
      "execution_count": null,
      "outputs": [
        {
          "output_type": "stream",
          "name": "stdout",
          "text": [
            "Model: \"sequential_11\"\n",
            "_________________________________________________________________\n",
            " Layer (type)                Output Shape              Param #   \n",
            "=================================================================\n",
            " dense_31 (Dense)            (None, 16)                192       \n",
            "                                                                 \n",
            " dense_32 (Dense)            (None, 16)                272       \n",
            "                                                                 \n",
            " dense_33 (Dense)            (None, 1)                 17        \n",
            "                                                                 \n",
            "=================================================================\n",
            "Total params: 481\n",
            "Trainable params: 481\n",
            "Non-trainable params: 0\n",
            "_________________________________________________________________\n"
          ]
        }
      ]
    },
    {
      "cell_type": "code",
      "source": [
        "ANN_40_60.fit(X_train_40_60_np, y_train_40_60_enc, epochs = 100, validation_split = 0.2)"
      ],
      "metadata": {
        "colab": {
          "base_uri": "https://localhost:8080/"
        },
        "outputId": "9f946038-5959-46d3-aceb-701558691426",
        "id": "rurZdVksYHSj"
      },
      "execution_count": null,
      "outputs": [
        {
          "output_type": "stream",
          "name": "stdout",
          "text": [
            "Epoch 1/100\n",
            "16/16 [==============================] - 1s 24ms/step - loss: 70.2185 - accuracy: 0.5078 - val_loss: 52.2191 - val_accuracy: 0.4688\n",
            "Epoch 2/100\n",
            "16/16 [==============================] - 0s 6ms/step - loss: 25.5072 - accuracy: 0.5098 - val_loss: 4.4554 - val_accuracy: 0.5234\n",
            "Epoch 3/100\n",
            "16/16 [==============================] - 0s 6ms/step - loss: 4.4976 - accuracy: 0.5547 - val_loss: 3.6807 - val_accuracy: 0.5547\n",
            "Epoch 4/100\n",
            "16/16 [==============================] - 0s 6ms/step - loss: 1.5345 - accuracy: 0.7324 - val_loss: 1.0509 - val_accuracy: 0.7500\n",
            "Epoch 5/100\n",
            "16/16 [==============================] - 0s 6ms/step - loss: 0.6691 - accuracy: 0.8223 - val_loss: 0.7774 - val_accuracy: 0.8125\n",
            "Epoch 6/100\n",
            "16/16 [==============================] - 0s 6ms/step - loss: 0.4420 - accuracy: 0.8848 - val_loss: 0.6409 - val_accuracy: 0.8750\n",
            "Epoch 7/100\n",
            "16/16 [==============================] - 0s 6ms/step - loss: 0.3671 - accuracy: 0.8926 - val_loss: 0.5768 - val_accuracy: 0.8750\n",
            "Epoch 8/100\n",
            "16/16 [==============================] - 0s 6ms/step - loss: 0.2920 - accuracy: 0.9004 - val_loss: 0.5098 - val_accuracy: 0.8672\n",
            "Epoch 9/100\n",
            "16/16 [==============================] - 0s 7ms/step - loss: 0.2880 - accuracy: 0.8906 - val_loss: 0.5437 - val_accuracy: 0.8359\n",
            "Epoch 10/100\n",
            "16/16 [==============================] - 0s 6ms/step - loss: 0.2584 - accuracy: 0.9023 - val_loss: 0.4694 - val_accuracy: 0.8672\n",
            "Epoch 11/100\n",
            "16/16 [==============================] - 0s 9ms/step - loss: 0.2455 - accuracy: 0.9082 - val_loss: 0.4809 - val_accuracy: 0.8672\n",
            "Epoch 12/100\n",
            "16/16 [==============================] - 0s 5ms/step - loss: 0.2446 - accuracy: 0.8926 - val_loss: 0.4947 - val_accuracy: 0.8750\n",
            "Epoch 13/100\n",
            "16/16 [==============================] - 0s 6ms/step - loss: 0.2396 - accuracy: 0.9102 - val_loss: 0.4505 - val_accuracy: 0.8828\n",
            "Epoch 14/100\n",
            "16/16 [==============================] - 0s 6ms/step - loss: 0.2238 - accuracy: 0.9141 - val_loss: 0.4478 - val_accuracy: 0.8672\n",
            "Epoch 15/100\n",
            "16/16 [==============================] - 0s 6ms/step - loss: 0.2519 - accuracy: 0.8965 - val_loss: 0.5228 - val_accuracy: 0.8672\n",
            "Epoch 16/100\n",
            "16/16 [==============================] - 0s 6ms/step - loss: 0.2500 - accuracy: 0.9004 - val_loss: 0.5529 - val_accuracy: 0.8516\n",
            "Epoch 17/100\n",
            "16/16 [==============================] - 0s 7ms/step - loss: 0.2295 - accuracy: 0.9082 - val_loss: 0.4812 - val_accuracy: 0.8750\n",
            "Epoch 18/100\n",
            "16/16 [==============================] - 0s 8ms/step - loss: 0.1964 - accuracy: 0.9180 - val_loss: 0.4946 - val_accuracy: 0.8750\n",
            "Epoch 19/100\n",
            "16/16 [==============================] - 0s 8ms/step - loss: 0.1984 - accuracy: 0.9199 - val_loss: 0.4248 - val_accuracy: 0.8906\n",
            "Epoch 20/100\n",
            "16/16 [==============================] - 0s 6ms/step - loss: 0.1925 - accuracy: 0.9199 - val_loss: 0.4186 - val_accuracy: 0.9062\n",
            "Epoch 21/100\n",
            "16/16 [==============================] - 0s 6ms/step - loss: 0.1904 - accuracy: 0.9219 - val_loss: 0.4129 - val_accuracy: 0.9062\n",
            "Epoch 22/100\n",
            "16/16 [==============================] - 0s 7ms/step - loss: 0.1871 - accuracy: 0.9258 - val_loss: 0.4385 - val_accuracy: 0.8984\n",
            "Epoch 23/100\n",
            "16/16 [==============================] - 0s 8ms/step - loss: 0.2098 - accuracy: 0.9180 - val_loss: 0.4123 - val_accuracy: 0.9062\n",
            "Epoch 24/100\n",
            "16/16 [==============================] - 0s 7ms/step - loss: 0.1896 - accuracy: 0.9277 - val_loss: 0.4289 - val_accuracy: 0.8828\n",
            "Epoch 25/100\n",
            "16/16 [==============================] - 0s 6ms/step - loss: 0.1785 - accuracy: 0.9297 - val_loss: 0.4271 - val_accuracy: 0.8828\n",
            "Epoch 26/100\n",
            "16/16 [==============================] - 0s 7ms/step - loss: 0.1747 - accuracy: 0.9258 - val_loss: 0.4155 - val_accuracy: 0.8984\n",
            "Epoch 27/100\n",
            "16/16 [==============================] - 0s 7ms/step - loss: 0.1822 - accuracy: 0.9355 - val_loss: 0.4188 - val_accuracy: 0.8984\n",
            "Epoch 28/100\n",
            "16/16 [==============================] - 0s 6ms/step - loss: 0.1808 - accuracy: 0.9277 - val_loss: 0.4687 - val_accuracy: 0.8672\n",
            "Epoch 29/100\n",
            "16/16 [==============================] - 0s 5ms/step - loss: 0.1988 - accuracy: 0.9160 - val_loss: 0.4238 - val_accuracy: 0.8906\n",
            "Epoch 30/100\n",
            "16/16 [==============================] - 0s 6ms/step - loss: 0.1793 - accuracy: 0.9355 - val_loss: 0.4137 - val_accuracy: 0.9141\n",
            "Epoch 31/100\n",
            "16/16 [==============================] - 0s 6ms/step - loss: 0.1746 - accuracy: 0.9316 - val_loss: 0.4148 - val_accuracy: 0.9141\n",
            "Epoch 32/100\n",
            "16/16 [==============================] - 0s 6ms/step - loss: 0.1647 - accuracy: 0.9375 - val_loss: 0.4304 - val_accuracy: 0.8984\n",
            "Epoch 33/100\n",
            "16/16 [==============================] - 0s 6ms/step - loss: 0.1821 - accuracy: 0.9258 - val_loss: 0.4185 - val_accuracy: 0.9062\n",
            "Epoch 34/100\n",
            "16/16 [==============================] - 0s 6ms/step - loss: 0.1696 - accuracy: 0.9414 - val_loss: 0.4163 - val_accuracy: 0.9141\n",
            "Epoch 35/100\n",
            "16/16 [==============================] - 0s 5ms/step - loss: 0.1766 - accuracy: 0.9355 - val_loss: 0.4260 - val_accuracy: 0.8984\n",
            "Epoch 36/100\n",
            "16/16 [==============================] - 0s 6ms/step - loss: 0.1718 - accuracy: 0.9336 - val_loss: 0.4408 - val_accuracy: 0.8984\n",
            "Epoch 37/100\n",
            "16/16 [==============================] - 0s 6ms/step - loss: 0.1905 - accuracy: 0.9258 - val_loss: 0.4223 - val_accuracy: 0.9062\n",
            "Epoch 38/100\n",
            "16/16 [==============================] - 0s 6ms/step - loss: 0.1605 - accuracy: 0.9414 - val_loss: 0.4185 - val_accuracy: 0.9141\n",
            "Epoch 39/100\n",
            "16/16 [==============================] - 0s 6ms/step - loss: 0.1719 - accuracy: 0.9316 - val_loss: 0.4339 - val_accuracy: 0.8984\n",
            "Epoch 40/100\n",
            "16/16 [==============================] - 0s 6ms/step - loss: 0.1809 - accuracy: 0.9297 - val_loss: 0.4250 - val_accuracy: 0.9062\n",
            "Epoch 41/100\n",
            "16/16 [==============================] - 0s 6ms/step - loss: 0.1674 - accuracy: 0.9316 - val_loss: 0.4190 - val_accuracy: 0.9062\n",
            "Epoch 42/100\n",
            "16/16 [==============================] - 0s 6ms/step - loss: 0.1704 - accuracy: 0.9375 - val_loss: 0.4149 - val_accuracy: 0.9141\n",
            "Epoch 43/100\n",
            "16/16 [==============================] - 0s 5ms/step - loss: 0.1684 - accuracy: 0.9395 - val_loss: 0.4168 - val_accuracy: 0.9062\n",
            "Epoch 44/100\n",
            "16/16 [==============================] - 0s 7ms/step - loss: 0.1631 - accuracy: 0.9414 - val_loss: 0.4234 - val_accuracy: 0.9141\n",
            "Epoch 45/100\n",
            "16/16 [==============================] - 0s 6ms/step - loss: 0.1732 - accuracy: 0.9375 - val_loss: 0.4302 - val_accuracy: 0.9141\n",
            "Epoch 46/100\n",
            "16/16 [==============================] - 0s 6ms/step - loss: 0.1626 - accuracy: 0.9395 - val_loss: 0.4202 - val_accuracy: 0.9141\n",
            "Epoch 47/100\n",
            "16/16 [==============================] - 0s 6ms/step - loss: 0.1638 - accuracy: 0.9375 - val_loss: 0.4159 - val_accuracy: 0.9141\n",
            "Epoch 48/100\n",
            "16/16 [==============================] - 0s 6ms/step - loss: 0.1695 - accuracy: 0.9375 - val_loss: 0.4169 - val_accuracy: 0.9062\n",
            "Epoch 49/100\n",
            "16/16 [==============================] - 0s 6ms/step - loss: 0.1854 - accuracy: 0.9355 - val_loss: 0.4195 - val_accuracy: 0.9062\n",
            "Epoch 50/100\n",
            "16/16 [==============================] - 0s 6ms/step - loss: 0.1665 - accuracy: 0.9355 - val_loss: 0.4521 - val_accuracy: 0.8984\n",
            "Epoch 51/100\n",
            "16/16 [==============================] - 0s 6ms/step - loss: 0.1663 - accuracy: 0.9277 - val_loss: 0.4409 - val_accuracy: 0.8984\n",
            "Epoch 52/100\n",
            "16/16 [==============================] - 0s 5ms/step - loss: 0.1687 - accuracy: 0.9336 - val_loss: 0.4954 - val_accuracy: 0.8672\n",
            "Epoch 53/100\n",
            "16/16 [==============================] - 0s 6ms/step - loss: 0.1725 - accuracy: 0.9336 - val_loss: 0.4278 - val_accuracy: 0.9141\n",
            "Epoch 54/100\n",
            "16/16 [==============================] - 0s 8ms/step - loss: 0.1649 - accuracy: 0.9434 - val_loss: 0.4134 - val_accuracy: 0.9141\n",
            "Epoch 55/100\n",
            "16/16 [==============================] - 0s 8ms/step - loss: 0.1629 - accuracy: 0.9395 - val_loss: 0.4216 - val_accuracy: 0.9141\n",
            "Epoch 56/100\n",
            "16/16 [==============================] - 0s 6ms/step - loss: 0.1797 - accuracy: 0.9258 - val_loss: 0.4456 - val_accuracy: 0.8984\n",
            "Epoch 57/100\n",
            "16/16 [==============================] - 0s 6ms/step - loss: 0.1618 - accuracy: 0.9414 - val_loss: 0.4243 - val_accuracy: 0.9141\n",
            "Epoch 58/100\n",
            "16/16 [==============================] - 0s 6ms/step - loss: 0.1612 - accuracy: 0.9434 - val_loss: 0.4167 - val_accuracy: 0.9141\n",
            "Epoch 59/100\n",
            "16/16 [==============================] - 0s 6ms/step - loss: 0.1820 - accuracy: 0.9297 - val_loss: 0.5765 - val_accuracy: 0.8438\n",
            "Epoch 60/100\n",
            "16/16 [==============================] - 0s 6ms/step - loss: 0.2355 - accuracy: 0.9141 - val_loss: 0.4232 - val_accuracy: 0.9141\n",
            "Epoch 61/100\n",
            "16/16 [==============================] - 0s 5ms/step - loss: 0.2521 - accuracy: 0.9023 - val_loss: 0.5070 - val_accuracy: 0.8984\n",
            "Epoch 62/100\n",
            "16/16 [==============================] - 0s 6ms/step - loss: 0.2173 - accuracy: 0.9180 - val_loss: 0.4841 - val_accuracy: 0.8750\n",
            "Epoch 63/100\n",
            "16/16 [==============================] - 0s 8ms/step - loss: 0.1969 - accuracy: 0.9219 - val_loss: 0.4263 - val_accuracy: 0.9141\n",
            "Epoch 64/100\n",
            "16/16 [==============================] - 0s 6ms/step - loss: 0.1733 - accuracy: 0.9258 - val_loss: 0.4230 - val_accuracy: 0.9141\n",
            "Epoch 65/100\n",
            "16/16 [==============================] - 0s 6ms/step - loss: 0.2067 - accuracy: 0.9141 - val_loss: 0.4353 - val_accuracy: 0.9062\n",
            "Epoch 66/100\n",
            "16/16 [==============================] - 0s 6ms/step - loss: 0.1898 - accuracy: 0.9258 - val_loss: 0.4603 - val_accuracy: 0.8984\n",
            "Epoch 67/100\n",
            "16/16 [==============================] - 0s 6ms/step - loss: 0.1767 - accuracy: 0.9277 - val_loss: 0.5313 - val_accuracy: 0.8594\n",
            "Epoch 68/100\n",
            "16/16 [==============================] - 0s 6ms/step - loss: 0.1917 - accuracy: 0.9199 - val_loss: 0.4305 - val_accuracy: 0.8984\n",
            "Epoch 69/100\n",
            "16/16 [==============================] - 0s 6ms/step - loss: 0.1695 - accuracy: 0.9355 - val_loss: 0.4324 - val_accuracy: 0.9141\n",
            "Epoch 70/100\n",
            "16/16 [==============================] - 0s 6ms/step - loss: 0.1810 - accuracy: 0.9238 - val_loss: 0.4474 - val_accuracy: 0.8984\n",
            "Epoch 71/100\n",
            "16/16 [==============================] - 0s 6ms/step - loss: 0.1807 - accuracy: 0.9355 - val_loss: 0.4548 - val_accuracy: 0.9062\n",
            "Epoch 72/100\n",
            "16/16 [==============================] - 0s 8ms/step - loss: 0.1729 - accuracy: 0.9336 - val_loss: 0.4110 - val_accuracy: 0.9062\n",
            "Epoch 73/100\n",
            "16/16 [==============================] - 0s 6ms/step - loss: 0.1616 - accuracy: 0.9375 - val_loss: 0.4879 - val_accuracy: 0.8750\n",
            "Epoch 74/100\n",
            "16/16 [==============================] - 0s 8ms/step - loss: 0.2000 - accuracy: 0.9336 - val_loss: 0.4162 - val_accuracy: 0.9141\n",
            "Epoch 75/100\n",
            "16/16 [==============================] - 0s 6ms/step - loss: 0.1691 - accuracy: 0.9336 - val_loss: 0.5259 - val_accuracy: 0.8828\n",
            "Epoch 76/100\n",
            "16/16 [==============================] - 0s 6ms/step - loss: 0.1657 - accuracy: 0.9375 - val_loss: 0.4067 - val_accuracy: 0.9141\n",
            "Epoch 77/100\n",
            "16/16 [==============================] - 0s 6ms/step - loss: 0.1577 - accuracy: 0.9375 - val_loss: 0.4082 - val_accuracy: 0.9141\n",
            "Epoch 78/100\n",
            "16/16 [==============================] - 0s 5ms/step - loss: 0.1606 - accuracy: 0.9375 - val_loss: 0.4211 - val_accuracy: 0.8984\n",
            "Epoch 79/100\n",
            "16/16 [==============================] - 0s 6ms/step - loss: 0.1649 - accuracy: 0.9316 - val_loss: 0.4162 - val_accuracy: 0.9062\n",
            "Epoch 80/100\n",
            "16/16 [==============================] - 0s 7ms/step - loss: 0.1853 - accuracy: 0.9297 - val_loss: 0.4869 - val_accuracy: 0.8672\n",
            "Epoch 81/100\n",
            "16/16 [==============================] - 0s 6ms/step - loss: 0.1708 - accuracy: 0.9355 - val_loss: 0.4112 - val_accuracy: 0.8984\n",
            "Epoch 82/100\n",
            "16/16 [==============================] - 0s 6ms/step - loss: 0.1549 - accuracy: 0.9395 - val_loss: 0.4071 - val_accuracy: 0.9141\n",
            "Epoch 83/100\n",
            "16/16 [==============================] - 0s 7ms/step - loss: 0.1648 - accuracy: 0.9375 - val_loss: 0.4004 - val_accuracy: 0.9219\n",
            "Epoch 84/100\n",
            "16/16 [==============================] - 0s 6ms/step - loss: 0.1585 - accuracy: 0.9414 - val_loss: 0.4155 - val_accuracy: 0.9062\n",
            "Epoch 85/100\n",
            "16/16 [==============================] - 0s 6ms/step - loss: 0.1589 - accuracy: 0.9395 - val_loss: 0.4127 - val_accuracy: 0.9062\n",
            "Epoch 86/100\n",
            "16/16 [==============================] - 0s 6ms/step - loss: 0.1688 - accuracy: 0.9336 - val_loss: 0.4072 - val_accuracy: 0.9062\n",
            "Epoch 87/100\n",
            "16/16 [==============================] - 0s 6ms/step - loss: 0.1571 - accuracy: 0.9453 - val_loss: 0.4012 - val_accuracy: 0.9062\n",
            "Epoch 88/100\n",
            "16/16 [==============================] - 0s 6ms/step - loss: 0.1551 - accuracy: 0.9375 - val_loss: 0.4157 - val_accuracy: 0.9141\n",
            "Epoch 89/100\n",
            "16/16 [==============================] - 0s 5ms/step - loss: 0.1757 - accuracy: 0.9277 - val_loss: 0.4762 - val_accuracy: 0.8828\n",
            "Epoch 90/100\n",
            "16/16 [==============================] - 0s 5ms/step - loss: 0.1854 - accuracy: 0.9316 - val_loss: 0.4097 - val_accuracy: 0.9141\n",
            "Epoch 91/100\n",
            "16/16 [==============================] - 0s 7ms/step - loss: 0.2893 - accuracy: 0.8906 - val_loss: 0.6590 - val_accuracy: 0.8359\n",
            "Epoch 92/100\n",
            "16/16 [==============================] - 0s 6ms/step - loss: 0.2011 - accuracy: 0.9180 - val_loss: 0.4085 - val_accuracy: 0.9141\n",
            "Epoch 93/100\n",
            "16/16 [==============================] - 0s 8ms/step - loss: 0.2025 - accuracy: 0.9199 - val_loss: 0.4165 - val_accuracy: 0.8984\n",
            "Epoch 94/100\n",
            "16/16 [==============================] - 0s 6ms/step - loss: 0.1683 - accuracy: 0.9414 - val_loss: 0.4257 - val_accuracy: 0.9062\n",
            "Epoch 95/100\n",
            "16/16 [==============================] - 0s 6ms/step - loss: 0.1725 - accuracy: 0.9277 - val_loss: 0.4407 - val_accuracy: 0.8984\n",
            "Epoch 96/100\n",
            "16/16 [==============================] - 0s 6ms/step - loss: 0.1827 - accuracy: 0.9336 - val_loss: 0.4781 - val_accuracy: 0.9062\n",
            "Epoch 97/100\n",
            "16/16 [==============================] - 0s 6ms/step - loss: 0.1671 - accuracy: 0.9336 - val_loss: 0.4128 - val_accuracy: 0.9141\n",
            "Epoch 98/100\n",
            "16/16 [==============================] - 0s 5ms/step - loss: 0.1549 - accuracy: 0.9375 - val_loss: 0.4237 - val_accuracy: 0.8984\n",
            "Epoch 99/100\n",
            "16/16 [==============================] - 0s 5ms/step - loss: 0.1590 - accuracy: 0.9434 - val_loss: 0.4099 - val_accuracy: 0.9219\n",
            "Epoch 100/100\n",
            "16/16 [==============================] - 0s 7ms/step - loss: 0.1667 - accuracy: 0.9336 - val_loss: 0.4094 - val_accuracy: 0.9219\n"
          ]
        },
        {
          "output_type": "execute_result",
          "data": {
            "text/plain": [
              "<keras.callbacks.History at 0x7f1c3d3d2590>"
            ]
          },
          "metadata": {},
          "execution_count": 142
        }
      ]
    },
    {
      "cell_type": "markdown",
      "source": [
        "#### 50:50"
      ],
      "metadata": {
        "id": "Tp7v6GoPYHmY"
      }
    },
    {
      "cell_type": "code",
      "source": [
        "X_train_50_50_np = np.array(X_train_50_50)\n",
        "X_test_50_50_np = np.array(X_test_50_50)\n",
        "\n",
        "LE = LabelEncoder()\n",
        "y_train_50_50_enc = LE.fit_transform(y_train_50_50)\n",
        "y_test_50_50_enc = LE.fit_transform(y_test_50_50)"
      ],
      "metadata": {
        "id": "5KYvjfdNYHmY"
      },
      "execution_count": null,
      "outputs": []
    },
    {
      "cell_type": "code",
      "source": [
        "ANN_50_50 = Sequential()\n",
        "\n",
        "ANN_50_50.add(Dense(units = 16, activation = 'relu', input_shape = (df.shape[1]-1,)))\n",
        "ANN_50_50.add(Dense(units = 16, activation = 'relu'))\n",
        "ANN_50_50.add(Dense(units = 1, activation = 'sigmoid'))\n",
        "ANN_50_50.compile(optimizer = \"adam\", loss = \"binary_crossentropy\", metrics = ['accuracy'])\n",
        "\n",
        "ANN_50_50.summary()"
      ],
      "metadata": {
        "colab": {
          "base_uri": "https://localhost:8080/"
        },
        "outputId": "00a4e7cf-ee70-43d0-d8d3-75d3d4695221",
        "id": "e8xYp3DcYHmZ"
      },
      "execution_count": null,
      "outputs": [
        {
          "output_type": "stream",
          "name": "stdout",
          "text": [
            "Model: \"sequential_12\"\n",
            "_________________________________________________________________\n",
            " Layer (type)                Output Shape              Param #   \n",
            "=================================================================\n",
            " dense_34 (Dense)            (None, 16)                192       \n",
            "                                                                 \n",
            " dense_35 (Dense)            (None, 16)                272       \n",
            "                                                                 \n",
            " dense_36 (Dense)            (None, 1)                 17        \n",
            "                                                                 \n",
            "=================================================================\n",
            "Total params: 481\n",
            "Trainable params: 481\n",
            "Non-trainable params: 0\n",
            "_________________________________________________________________\n"
          ]
        }
      ]
    },
    {
      "cell_type": "code",
      "source": [
        "ANN_50_50.fit(X_train_50_50_np, y_train_50_50_enc, epochs = 100, validation_split = 0.2)"
      ],
      "metadata": {
        "colab": {
          "base_uri": "https://localhost:8080/"
        },
        "outputId": "c1a6cc4b-f997-47b5-e704-96492b9ba43f",
        "id": "P432Ys7XYHmZ"
      },
      "execution_count": null,
      "outputs": [
        {
          "output_type": "stream",
          "name": "stdout",
          "text": [
            "Epoch 1/100\n",
            "20/20 [==============================] - 2s 30ms/step - loss: 154.4009 - accuracy: 0.4781 - val_loss: 31.6324 - val_accuracy: 0.4313\n",
            "Epoch 2/100\n",
            "20/20 [==============================] - 0s 8ms/step - loss: 12.7680 - accuracy: 0.6016 - val_loss: 12.9498 - val_accuracy: 0.6812\n",
            "Epoch 3/100\n",
            "20/20 [==============================] - 0s 7ms/step - loss: 5.8053 - accuracy: 0.6672 - val_loss: 0.7171 - val_accuracy: 0.7437\n",
            "Epoch 4/100\n",
            "20/20 [==============================] - 0s 7ms/step - loss: 0.7305 - accuracy: 0.7875 - val_loss: 0.2926 - val_accuracy: 0.9062\n",
            "Epoch 5/100\n",
            "20/20 [==============================] - 0s 5ms/step - loss: 0.2801 - accuracy: 0.9016 - val_loss: 0.2385 - val_accuracy: 0.9125\n",
            "Epoch 6/100\n",
            "20/20 [==============================] - 0s 5ms/step - loss: 0.2372 - accuracy: 0.9219 - val_loss: 0.2141 - val_accuracy: 0.9438\n",
            "Epoch 7/100\n",
            "20/20 [==============================] - 0s 6ms/step - loss: 0.2317 - accuracy: 0.9156 - val_loss: 0.2151 - val_accuracy: 0.9375\n",
            "Epoch 8/100\n",
            "20/20 [==============================] - 0s 5ms/step - loss: 0.2185 - accuracy: 0.9266 - val_loss: 0.2096 - val_accuracy: 0.9312\n",
            "Epoch 9/100\n",
            "20/20 [==============================] - 0s 5ms/step - loss: 0.2131 - accuracy: 0.9328 - val_loss: 0.2102 - val_accuracy: 0.9375\n",
            "Epoch 10/100\n",
            "20/20 [==============================] - 0s 5ms/step - loss: 0.2178 - accuracy: 0.9250 - val_loss: 0.1877 - val_accuracy: 0.9563\n",
            "Epoch 11/100\n",
            "20/20 [==============================] - 0s 4ms/step - loss: 0.2063 - accuracy: 0.9328 - val_loss: 0.1881 - val_accuracy: 0.9438\n",
            "Epoch 12/100\n",
            "20/20 [==============================] - 0s 6ms/step - loss: 0.2002 - accuracy: 0.9328 - val_loss: 0.1743 - val_accuracy: 0.9563\n",
            "Epoch 13/100\n",
            "20/20 [==============================] - 0s 7ms/step - loss: 0.2045 - accuracy: 0.9328 - val_loss: 0.1754 - val_accuracy: 0.9312\n",
            "Epoch 14/100\n",
            "20/20 [==============================] - 0s 6ms/step - loss: 0.1923 - accuracy: 0.9328 - val_loss: 0.1544 - val_accuracy: 0.9563\n",
            "Epoch 15/100\n",
            "20/20 [==============================] - 0s 7ms/step - loss: 0.1922 - accuracy: 0.9344 - val_loss: 0.1757 - val_accuracy: 0.9375\n",
            "Epoch 16/100\n",
            "20/20 [==============================] - 0s 5ms/step - loss: 0.2055 - accuracy: 0.9234 - val_loss: 0.1434 - val_accuracy: 0.9500\n",
            "Epoch 17/100\n",
            "20/20 [==============================] - 0s 5ms/step - loss: 0.1913 - accuracy: 0.9281 - val_loss: 0.1305 - val_accuracy: 0.9438\n",
            "Epoch 18/100\n",
            "20/20 [==============================] - 0s 5ms/step - loss: 0.1802 - accuracy: 0.9359 - val_loss: 0.1357 - val_accuracy: 0.9625\n",
            "Epoch 19/100\n",
            "20/20 [==============================] - 0s 6ms/step - loss: 0.1811 - accuracy: 0.9375 - val_loss: 0.1347 - val_accuracy: 0.9438\n",
            "Epoch 20/100\n",
            "20/20 [==============================] - 0s 6ms/step - loss: 0.1793 - accuracy: 0.9438 - val_loss: 0.1319 - val_accuracy: 0.9625\n",
            "Epoch 21/100\n",
            "20/20 [==============================] - 0s 5ms/step - loss: 0.1738 - accuracy: 0.9375 - val_loss: 0.1133 - val_accuracy: 0.9563\n",
            "Epoch 22/100\n",
            "20/20 [==============================] - 0s 6ms/step - loss: 0.1702 - accuracy: 0.9406 - val_loss: 0.1223 - val_accuracy: 0.9563\n",
            "Epoch 23/100\n",
            "20/20 [==============================] - 0s 5ms/step - loss: 0.1660 - accuracy: 0.9453 - val_loss: 0.1239 - val_accuracy: 0.9563\n",
            "Epoch 24/100\n",
            "20/20 [==============================] - 0s 6ms/step - loss: 0.1694 - accuracy: 0.9344 - val_loss: 0.1146 - val_accuracy: 0.9750\n",
            "Epoch 25/100\n",
            "20/20 [==============================] - 0s 5ms/step - loss: 0.1614 - accuracy: 0.9422 - val_loss: 0.1175 - val_accuracy: 0.9688\n",
            "Epoch 26/100\n",
            "20/20 [==============================] - 0s 6ms/step - loss: 0.1664 - accuracy: 0.9359 - val_loss: 0.1135 - val_accuracy: 0.9625\n",
            "Epoch 27/100\n",
            "20/20 [==============================] - 0s 5ms/step - loss: 0.1590 - accuracy: 0.9484 - val_loss: 0.1175 - val_accuracy: 0.9750\n",
            "Epoch 28/100\n",
            "20/20 [==============================] - 0s 6ms/step - loss: 0.1574 - accuracy: 0.9500 - val_loss: 0.1138 - val_accuracy: 0.9750\n",
            "Epoch 29/100\n",
            "20/20 [==============================] - 0s 6ms/step - loss: 0.1582 - accuracy: 0.9438 - val_loss: 0.1134 - val_accuracy: 0.9688\n",
            "Epoch 30/100\n",
            "20/20 [==============================] - 0s 6ms/step - loss: 0.1720 - accuracy: 0.9406 - val_loss: 0.1030 - val_accuracy: 0.9688\n",
            "Epoch 31/100\n",
            "20/20 [==============================] - 0s 5ms/step - loss: 0.1634 - accuracy: 0.9422 - val_loss: 0.1220 - val_accuracy: 0.9438\n",
            "Epoch 32/100\n",
            "20/20 [==============================] - 0s 5ms/step - loss: 0.1726 - accuracy: 0.9391 - val_loss: 0.1435 - val_accuracy: 0.9438\n",
            "Epoch 33/100\n",
            "20/20 [==============================] - 0s 5ms/step - loss: 0.1621 - accuracy: 0.9453 - val_loss: 0.1028 - val_accuracy: 0.9688\n",
            "Epoch 34/100\n",
            "20/20 [==============================] - 0s 5ms/step - loss: 0.1552 - accuracy: 0.9516 - val_loss: 0.1193 - val_accuracy: 0.9563\n",
            "Epoch 35/100\n",
            "20/20 [==============================] - 0s 5ms/step - loss: 0.1592 - accuracy: 0.9500 - val_loss: 0.1016 - val_accuracy: 0.9688\n",
            "Epoch 36/100\n",
            "20/20 [==============================] - 0s 5ms/step - loss: 0.1681 - accuracy: 0.9391 - val_loss: 0.1171 - val_accuracy: 0.9500\n",
            "Epoch 37/100\n",
            "20/20 [==============================] - 0s 5ms/step - loss: 0.1595 - accuracy: 0.9500 - val_loss: 0.1419 - val_accuracy: 0.9375\n",
            "Epoch 38/100\n",
            "20/20 [==============================] - 0s 5ms/step - loss: 0.1583 - accuracy: 0.9422 - val_loss: 0.1218 - val_accuracy: 0.9625\n",
            "Epoch 39/100\n",
            "20/20 [==============================] - 0s 6ms/step - loss: 0.1575 - accuracy: 0.9469 - val_loss: 0.1190 - val_accuracy: 0.9625\n",
            "Epoch 40/100\n",
            "20/20 [==============================] - 0s 5ms/step - loss: 0.1612 - accuracy: 0.9438 - val_loss: 0.0954 - val_accuracy: 0.9688\n",
            "Epoch 41/100\n",
            "20/20 [==============================] - 0s 5ms/step - loss: 0.1680 - accuracy: 0.9375 - val_loss: 0.1081 - val_accuracy: 0.9688\n",
            "Epoch 42/100\n",
            "20/20 [==============================] - 0s 6ms/step - loss: 0.1686 - accuracy: 0.9469 - val_loss: 0.1453 - val_accuracy: 0.9500\n",
            "Epoch 43/100\n",
            "20/20 [==============================] - 0s 5ms/step - loss: 0.1841 - accuracy: 0.9391 - val_loss: 0.0996 - val_accuracy: 0.9688\n",
            "Epoch 44/100\n",
            "20/20 [==============================] - 0s 6ms/step - loss: 0.1564 - accuracy: 0.9438 - val_loss: 0.1088 - val_accuracy: 0.9688\n",
            "Epoch 45/100\n",
            "20/20 [==============================] - 0s 5ms/step - loss: 0.1515 - accuracy: 0.9469 - val_loss: 0.1124 - val_accuracy: 0.9688\n",
            "Epoch 46/100\n",
            "20/20 [==============================] - 0s 5ms/step - loss: 0.1601 - accuracy: 0.9375 - val_loss: 0.1151 - val_accuracy: 0.9688\n",
            "Epoch 47/100\n",
            "20/20 [==============================] - 0s 5ms/step - loss: 0.1633 - accuracy: 0.9391 - val_loss: 0.1601 - val_accuracy: 0.9375\n",
            "Epoch 48/100\n",
            "20/20 [==============================] - 0s 8ms/step - loss: 0.1640 - accuracy: 0.9438 - val_loss: 0.1046 - val_accuracy: 0.9625\n",
            "Epoch 49/100\n",
            "20/20 [==============================] - 0s 6ms/step - loss: 0.1527 - accuracy: 0.9453 - val_loss: 0.1200 - val_accuracy: 0.9625\n",
            "Epoch 50/100\n",
            "20/20 [==============================] - 0s 6ms/step - loss: 0.1537 - accuracy: 0.9422 - val_loss: 0.1031 - val_accuracy: 0.9688\n",
            "Epoch 51/100\n",
            "20/20 [==============================] - 0s 5ms/step - loss: 0.1489 - accuracy: 0.9531 - val_loss: 0.0921 - val_accuracy: 0.9688\n",
            "Epoch 52/100\n",
            "20/20 [==============================] - 0s 6ms/step - loss: 0.1528 - accuracy: 0.9469 - val_loss: 0.1191 - val_accuracy: 0.9625\n",
            "Epoch 53/100\n",
            "20/20 [==============================] - 0s 6ms/step - loss: 0.1528 - accuracy: 0.9469 - val_loss: 0.1077 - val_accuracy: 0.9688\n",
            "Epoch 54/100\n",
            "20/20 [==============================] - 0s 6ms/step - loss: 0.1553 - accuracy: 0.9453 - val_loss: 0.1500 - val_accuracy: 0.9438\n",
            "Epoch 55/100\n",
            "20/20 [==============================] - 0s 7ms/step - loss: 0.1492 - accuracy: 0.9469 - val_loss: 0.1097 - val_accuracy: 0.9688\n",
            "Epoch 56/100\n",
            "20/20 [==============================] - 0s 6ms/step - loss: 0.1461 - accuracy: 0.9516 - val_loss: 0.0934 - val_accuracy: 0.9688\n",
            "Epoch 57/100\n",
            "20/20 [==============================] - 0s 5ms/step - loss: 0.1476 - accuracy: 0.9547 - val_loss: 0.0979 - val_accuracy: 0.9625\n",
            "Epoch 58/100\n",
            "20/20 [==============================] - 0s 5ms/step - loss: 0.1561 - accuracy: 0.9453 - val_loss: 0.1278 - val_accuracy: 0.9563\n",
            "Epoch 59/100\n",
            "20/20 [==============================] - 0s 5ms/step - loss: 0.1514 - accuracy: 0.9500 - val_loss: 0.1038 - val_accuracy: 0.9625\n",
            "Epoch 60/100\n",
            "20/20 [==============================] - 0s 6ms/step - loss: 0.1443 - accuracy: 0.9547 - val_loss: 0.1096 - val_accuracy: 0.9625\n",
            "Epoch 61/100\n",
            "20/20 [==============================] - 0s 5ms/step - loss: 0.1490 - accuracy: 0.9516 - val_loss: 0.1052 - val_accuracy: 0.9750\n",
            "Epoch 62/100\n",
            "20/20 [==============================] - 0s 5ms/step - loss: 0.1496 - accuracy: 0.9484 - val_loss: 0.1001 - val_accuracy: 0.9688\n",
            "Epoch 63/100\n",
            "20/20 [==============================] - 0s 5ms/step - loss: 0.1441 - accuracy: 0.9516 - val_loss: 0.0987 - val_accuracy: 0.9750\n",
            "Epoch 64/100\n",
            "20/20 [==============================] - 0s 6ms/step - loss: 0.1482 - accuracy: 0.9438 - val_loss: 0.1041 - val_accuracy: 0.9750\n",
            "Epoch 65/100\n",
            "20/20 [==============================] - 0s 5ms/step - loss: 0.1482 - accuracy: 0.9516 - val_loss: 0.1004 - val_accuracy: 0.9750\n",
            "Epoch 66/100\n",
            "20/20 [==============================] - 0s 5ms/step - loss: 0.1512 - accuracy: 0.9484 - val_loss: 0.0933 - val_accuracy: 0.9688\n",
            "Epoch 67/100\n",
            "20/20 [==============================] - 0s 6ms/step - loss: 0.1545 - accuracy: 0.9469 - val_loss: 0.1418 - val_accuracy: 0.9500\n",
            "Epoch 68/100\n",
            "20/20 [==============================] - 0s 8ms/step - loss: 0.1567 - accuracy: 0.9500 - val_loss: 0.1100 - val_accuracy: 0.9625\n",
            "Epoch 69/100\n",
            "20/20 [==============================] - 0s 5ms/step - loss: 0.1611 - accuracy: 0.9391 - val_loss: 0.1053 - val_accuracy: 0.9688\n",
            "Epoch 70/100\n",
            "20/20 [==============================] - 0s 6ms/step - loss: 0.1981 - accuracy: 0.9234 - val_loss: 0.0923 - val_accuracy: 0.9688\n",
            "Epoch 71/100\n",
            "20/20 [==============================] - 0s 8ms/step - loss: 0.1452 - accuracy: 0.9453 - val_loss: 0.1659 - val_accuracy: 0.9375\n",
            "Epoch 72/100\n",
            "20/20 [==============================] - 0s 5ms/step - loss: 0.1528 - accuracy: 0.9453 - val_loss: 0.1191 - val_accuracy: 0.9688\n",
            "Epoch 73/100\n",
            "20/20 [==============================] - 0s 6ms/step - loss: 0.1613 - accuracy: 0.9438 - val_loss: 0.1358 - val_accuracy: 0.9625\n",
            "Epoch 74/100\n",
            "20/20 [==============================] - 0s 6ms/step - loss: 0.1603 - accuracy: 0.9438 - val_loss: 0.1374 - val_accuracy: 0.9625\n",
            "Epoch 75/100\n",
            "20/20 [==============================] - 0s 5ms/step - loss: 0.3163 - accuracy: 0.8859 - val_loss: 0.2363 - val_accuracy: 0.9187\n",
            "Epoch 76/100\n",
            "20/20 [==============================] - 0s 5ms/step - loss: 0.2189 - accuracy: 0.9203 - val_loss: 0.1442 - val_accuracy: 0.9438\n",
            "Epoch 77/100\n",
            "20/20 [==============================] - 0s 5ms/step - loss: 0.1559 - accuracy: 0.9438 - val_loss: 0.0968 - val_accuracy: 0.9563\n",
            "Epoch 78/100\n",
            "20/20 [==============================] - 0s 7ms/step - loss: 0.1489 - accuracy: 0.9469 - val_loss: 0.1348 - val_accuracy: 0.9625\n",
            "Epoch 79/100\n",
            "20/20 [==============================] - 0s 4ms/step - loss: 0.1464 - accuracy: 0.9531 - val_loss: 0.0991 - val_accuracy: 0.9688\n",
            "Epoch 80/100\n",
            "20/20 [==============================] - 0s 6ms/step - loss: 0.1555 - accuracy: 0.9438 - val_loss: 0.1223 - val_accuracy: 0.9563\n",
            "Epoch 81/100\n",
            "20/20 [==============================] - 0s 3ms/step - loss: 0.1512 - accuracy: 0.9484 - val_loss: 0.1109 - val_accuracy: 0.9688\n",
            "Epoch 82/100\n",
            "20/20 [==============================] - 0s 4ms/step - loss: 0.1502 - accuracy: 0.9516 - val_loss: 0.1497 - val_accuracy: 0.9500\n",
            "Epoch 83/100\n",
            "20/20 [==============================] - 0s 4ms/step - loss: 0.1504 - accuracy: 0.9453 - val_loss: 0.1389 - val_accuracy: 0.9438\n",
            "Epoch 84/100\n",
            "20/20 [==============================] - 0s 3ms/step - loss: 0.1389 - accuracy: 0.9469 - val_loss: 0.0931 - val_accuracy: 0.9625\n",
            "Epoch 85/100\n",
            "20/20 [==============================] - 0s 3ms/step - loss: 0.1464 - accuracy: 0.9500 - val_loss: 0.1294 - val_accuracy: 0.9625\n",
            "Epoch 86/100\n",
            "20/20 [==============================] - 0s 4ms/step - loss: 0.1434 - accuracy: 0.9500 - val_loss: 0.1139 - val_accuracy: 0.9750\n",
            "Epoch 87/100\n",
            "20/20 [==============================] - 0s 4ms/step - loss: 0.1543 - accuracy: 0.9453 - val_loss: 0.0848 - val_accuracy: 0.9688\n",
            "Epoch 88/100\n",
            "20/20 [==============================] - 0s 4ms/step - loss: 0.1446 - accuracy: 0.9500 - val_loss: 0.1062 - val_accuracy: 0.9625\n",
            "Epoch 89/100\n",
            "20/20 [==============================] - 0s 3ms/step - loss: 0.1561 - accuracy: 0.9422 - val_loss: 0.1228 - val_accuracy: 0.9625\n",
            "Epoch 90/100\n",
            "20/20 [==============================] - 0s 3ms/step - loss: 0.1486 - accuracy: 0.9453 - val_loss: 0.1358 - val_accuracy: 0.9625\n",
            "Epoch 91/100\n",
            "20/20 [==============================] - 0s 3ms/step - loss: 0.1569 - accuracy: 0.9453 - val_loss: 0.1213 - val_accuracy: 0.9688\n",
            "Epoch 92/100\n",
            "20/20 [==============================] - 0s 4ms/step - loss: 0.1743 - accuracy: 0.9328 - val_loss: 0.1288 - val_accuracy: 0.9563\n",
            "Epoch 93/100\n",
            "20/20 [==============================] - 0s 4ms/step - loss: 0.1632 - accuracy: 0.9422 - val_loss: 0.1099 - val_accuracy: 0.9750\n",
            "Epoch 94/100\n",
            "20/20 [==============================] - 0s 3ms/step - loss: 0.1380 - accuracy: 0.9516 - val_loss: 0.0982 - val_accuracy: 0.9750\n",
            "Epoch 95/100\n",
            "20/20 [==============================] - 0s 4ms/step - loss: 0.1456 - accuracy: 0.9453 - val_loss: 0.1012 - val_accuracy: 0.9750\n",
            "Epoch 96/100\n",
            "20/20 [==============================] - 0s 4ms/step - loss: 0.1725 - accuracy: 0.9359 - val_loss: 0.0876 - val_accuracy: 0.9688\n",
            "Epoch 97/100\n",
            "20/20 [==============================] - 0s 3ms/step - loss: 0.1370 - accuracy: 0.9516 - val_loss: 0.1357 - val_accuracy: 0.9563\n",
            "Epoch 98/100\n",
            "20/20 [==============================] - 0s 3ms/step - loss: 0.1463 - accuracy: 0.9469 - val_loss: 0.1020 - val_accuracy: 0.9688\n",
            "Epoch 99/100\n",
            "20/20 [==============================] - 0s 4ms/step - loss: 0.1386 - accuracy: 0.9469 - val_loss: 0.0908 - val_accuracy: 0.9688\n",
            "Epoch 100/100\n",
            "20/20 [==============================] - 0s 3ms/step - loss: 0.1550 - accuracy: 0.9453 - val_loss: 0.0999 - val_accuracy: 0.9750\n"
          ]
        },
        {
          "output_type": "execute_result",
          "data": {
            "text/plain": [
              "<keras.callbacks.History at 0x7f1c3d246710>"
            ]
          },
          "metadata": {},
          "execution_count": 145
        }
      ]
    },
    {
      "cell_type": "markdown",
      "source": [
        "#### 60:40"
      ],
      "metadata": {
        "id": "F1urZ3z4YH2a"
      }
    },
    {
      "cell_type": "code",
      "source": [
        "X_train_60_40_np = np.array(X_train_60_40)\n",
        "X_test_60_40_np = np.array(X_test_60_40)\n",
        "\n",
        "LE = LabelEncoder()\n",
        "y_train_60_40_enc = LE.fit_transform(y_train_60_40)\n",
        "y_test_60_40_enc = LE.fit_transform(y_test_60_40)"
      ],
      "metadata": {
        "id": "fQsCyvQZYH2b"
      },
      "execution_count": null,
      "outputs": []
    },
    {
      "cell_type": "code",
      "source": [
        "ANN_60_40 = Sequential()\n",
        "\n",
        "ANN_60_40.add(Dense(units = 16, activation = 'relu', input_shape = (df.shape[1]-1,)))\n",
        "ANN_60_40.add(Dense(units = 16, activation = 'relu'))\n",
        "ANN_60_40.add(Dense(units = 1, activation = 'sigmoid'))\n",
        "ANN_60_40.compile(optimizer = \"adam\", loss = \"binary_crossentropy\", metrics = ['accuracy'])\n",
        "\n",
        "ANN_60_40.summary()"
      ],
      "metadata": {
        "colab": {
          "base_uri": "https://localhost:8080/"
        },
        "outputId": "0070fc16-b52f-44d4-a86a-0d9e22d028d9",
        "id": "GE5hhqTbYH2b"
      },
      "execution_count": null,
      "outputs": [
        {
          "output_type": "stream",
          "name": "stdout",
          "text": [
            "Model: \"sequential_14\"\n",
            "_________________________________________________________________\n",
            " Layer (type)                Output Shape              Param #   \n",
            "=================================================================\n",
            " dense_40 (Dense)            (None, 16)                192       \n",
            "                                                                 \n",
            " dense_41 (Dense)            (None, 16)                272       \n",
            "                                                                 \n",
            " dense_42 (Dense)            (None, 1)                 17        \n",
            "                                                                 \n",
            "=================================================================\n",
            "Total params: 481\n",
            "Trainable params: 481\n",
            "Non-trainable params: 0\n",
            "_________________________________________________________________\n"
          ]
        }
      ]
    },
    {
      "cell_type": "code",
      "source": [
        "ANN_60_40.fit(X_train_60_40_np, y_train_60_40_enc, epochs = 100, validation_split = 0.2)"
      ],
      "metadata": {
        "colab": {
          "base_uri": "https://localhost:8080/"
        },
        "outputId": "faed4cc6-d261-436b-a214-5e70f71d6036",
        "id": "ovzcG3QsYH2b"
      },
      "execution_count": null,
      "outputs": [
        {
          "output_type": "stream",
          "name": "stdout",
          "text": [
            "Epoch 1/100\n",
            "24/24 [==============================] - 1s 31ms/step - loss: 10.8587 - accuracy: 0.5729 - val_loss: 3.8074 - val_accuracy: 0.6875\n",
            "Epoch 2/100\n",
            "24/24 [==============================] - 0s 5ms/step - loss: 1.6289 - accuracy: 0.6589 - val_loss: 1.1419 - val_accuracy: 0.6927\n",
            "Epoch 3/100\n",
            "24/24 [==============================] - 0s 5ms/step - loss: 0.9873 - accuracy: 0.6654 - val_loss: 0.8081 - val_accuracy: 0.6406\n",
            "Epoch 4/100\n",
            "24/24 [==============================] - 0s 5ms/step - loss: 0.7683 - accuracy: 0.7031 - val_loss: 0.6912 - val_accuracy: 0.6562\n",
            "Epoch 5/100\n",
            "24/24 [==============================] - 0s 5ms/step - loss: 0.6260 - accuracy: 0.6940 - val_loss: 0.5875 - val_accuracy: 0.6667\n",
            "Epoch 6/100\n",
            "24/24 [==============================] - 0s 5ms/step - loss: 0.7537 - accuracy: 0.7044 - val_loss: 0.5675 - val_accuracy: 0.7135\n",
            "Epoch 7/100\n",
            "24/24 [==============================] - 0s 5ms/step - loss: 0.5271 - accuracy: 0.7461 - val_loss: 0.5007 - val_accuracy: 0.7552\n",
            "Epoch 8/100\n",
            "24/24 [==============================] - 0s 5ms/step - loss: 0.5381 - accuracy: 0.7617 - val_loss: 0.5557 - val_accuracy: 0.7708\n",
            "Epoch 9/100\n",
            "24/24 [==============================] - 0s 6ms/step - loss: 0.4527 - accuracy: 0.7799 - val_loss: 0.4108 - val_accuracy: 0.8698\n",
            "Epoch 10/100\n",
            "24/24 [==============================] - 0s 5ms/step - loss: 0.3907 - accuracy: 0.8125 - val_loss: 0.4602 - val_accuracy: 0.7760\n",
            "Epoch 11/100\n",
            "24/24 [==============================] - 0s 5ms/step - loss: 0.3875 - accuracy: 0.8346 - val_loss: 0.3597 - val_accuracy: 0.8854\n",
            "Epoch 12/100\n",
            "24/24 [==============================] - 0s 5ms/step - loss: 0.3460 - accuracy: 0.8411 - val_loss: 0.4493 - val_accuracy: 0.7969\n",
            "Epoch 13/100\n",
            "24/24 [==============================] - 0s 5ms/step - loss: 0.3689 - accuracy: 0.8242 - val_loss: 0.5280 - val_accuracy: 0.7500\n",
            "Epoch 14/100\n",
            "24/24 [==============================] - 0s 5ms/step - loss: 0.3495 - accuracy: 0.8555 - val_loss: 0.3733 - val_accuracy: 0.8750\n",
            "Epoch 15/100\n",
            "24/24 [==============================] - 0s 5ms/step - loss: 0.3252 - accuracy: 0.8594 - val_loss: 0.3260 - val_accuracy: 0.8854\n",
            "Epoch 16/100\n",
            "24/24 [==============================] - 0s 5ms/step - loss: 0.2949 - accuracy: 0.8698 - val_loss: 0.3497 - val_accuracy: 0.8854\n",
            "Epoch 17/100\n",
            "24/24 [==============================] - 0s 5ms/step - loss: 0.3061 - accuracy: 0.8711 - val_loss: 0.3110 - val_accuracy: 0.8906\n",
            "Epoch 18/100\n",
            "24/24 [==============================] - 0s 5ms/step - loss: 0.3174 - accuracy: 0.8542 - val_loss: 0.4129 - val_accuracy: 0.8281\n",
            "Epoch 19/100\n",
            "24/24 [==============================] - 0s 5ms/step - loss: 0.2884 - accuracy: 0.8763 - val_loss: 0.3080 - val_accuracy: 0.9115\n",
            "Epoch 20/100\n",
            "24/24 [==============================] - 0s 5ms/step - loss: 0.2567 - accuracy: 0.8932 - val_loss: 0.3444 - val_accuracy: 0.8750\n",
            "Epoch 21/100\n",
            "24/24 [==============================] - 0s 5ms/step - loss: 0.3057 - accuracy: 0.8607 - val_loss: 0.4329 - val_accuracy: 0.8177\n",
            "Epoch 22/100\n",
            "24/24 [==============================] - 0s 5ms/step - loss: 0.2689 - accuracy: 0.8815 - val_loss: 0.4021 - val_accuracy: 0.8333\n",
            "Epoch 23/100\n",
            "24/24 [==============================] - 0s 5ms/step - loss: 0.2688 - accuracy: 0.8867 - val_loss: 0.2942 - val_accuracy: 0.9115\n",
            "Epoch 24/100\n",
            "24/24 [==============================] - 0s 6ms/step - loss: 0.2494 - accuracy: 0.8984 - val_loss: 0.3301 - val_accuracy: 0.8906\n",
            "Epoch 25/100\n",
            "24/24 [==============================] - 0s 5ms/step - loss: 0.2687 - accuracy: 0.8828 - val_loss: 0.2789 - val_accuracy: 0.9219\n",
            "Epoch 26/100\n",
            "24/24 [==============================] - 0s 5ms/step - loss: 0.2424 - accuracy: 0.9062 - val_loss: 0.3001 - val_accuracy: 0.8854\n",
            "Epoch 27/100\n",
            "24/24 [==============================] - 0s 5ms/step - loss: 0.2200 - accuracy: 0.9102 - val_loss: 0.2665 - val_accuracy: 0.9115\n",
            "Epoch 28/100\n",
            "24/24 [==============================] - 0s 5ms/step - loss: 0.2530 - accuracy: 0.8893 - val_loss: 0.3201 - val_accuracy: 0.8594\n",
            "Epoch 29/100\n",
            "24/24 [==============================] - 0s 5ms/step - loss: 0.2891 - accuracy: 0.8711 - val_loss: 0.3301 - val_accuracy: 0.8802\n",
            "Epoch 30/100\n",
            "24/24 [==============================] - 0s 4ms/step - loss: 0.2604 - accuracy: 0.8750 - val_loss: 0.2674 - val_accuracy: 0.9062\n",
            "Epoch 31/100\n",
            "24/24 [==============================] - 0s 5ms/step - loss: 0.2302 - accuracy: 0.9206 - val_loss: 0.2363 - val_accuracy: 0.9427\n",
            "Epoch 32/100\n",
            "24/24 [==============================] - 0s 5ms/step - loss: 0.2834 - accuracy: 0.8802 - val_loss: 0.2422 - val_accuracy: 0.9323\n",
            "Epoch 33/100\n",
            "24/24 [==============================] - 0s 5ms/step - loss: 0.2206 - accuracy: 0.9128 - val_loss: 0.3566 - val_accuracy: 0.8646\n",
            "Epoch 34/100\n",
            "24/24 [==============================] - 0s 5ms/step - loss: 0.2416 - accuracy: 0.8958 - val_loss: 0.2094 - val_accuracy: 0.9531\n",
            "Epoch 35/100\n",
            "24/24 [==============================] - 0s 4ms/step - loss: 0.1895 - accuracy: 0.9310 - val_loss: 0.2083 - val_accuracy: 0.9427\n",
            "Epoch 36/100\n",
            "24/24 [==============================] - 0s 5ms/step - loss: 0.1816 - accuracy: 0.9284 - val_loss: 0.2411 - val_accuracy: 0.9271\n",
            "Epoch 37/100\n",
            "24/24 [==============================] - 0s 5ms/step - loss: 0.1844 - accuracy: 0.9362 - val_loss: 0.2322 - val_accuracy: 0.9479\n",
            "Epoch 38/100\n",
            "24/24 [==============================] - 0s 5ms/step - loss: 0.1883 - accuracy: 0.9336 - val_loss: 0.2105 - val_accuracy: 0.9479\n",
            "Epoch 39/100\n",
            "24/24 [==============================] - 0s 5ms/step - loss: 0.1963 - accuracy: 0.9284 - val_loss: 0.2288 - val_accuracy: 0.9427\n",
            "Epoch 40/100\n",
            "24/24 [==============================] - 0s 6ms/step - loss: 0.1914 - accuracy: 0.9349 - val_loss: 0.2075 - val_accuracy: 0.9583\n",
            "Epoch 41/100\n",
            "24/24 [==============================] - 0s 5ms/step - loss: 0.1950 - accuracy: 0.9336 - val_loss: 0.2118 - val_accuracy: 0.9427\n",
            "Epoch 42/100\n",
            "24/24 [==============================] - 0s 5ms/step - loss: 0.1956 - accuracy: 0.9232 - val_loss: 0.2248 - val_accuracy: 0.9427\n",
            "Epoch 43/100\n",
            "24/24 [==============================] - 0s 5ms/step - loss: 0.1751 - accuracy: 0.9375 - val_loss: 0.2330 - val_accuracy: 0.9479\n",
            "Epoch 44/100\n",
            "24/24 [==============================] - 0s 5ms/step - loss: 0.1814 - accuracy: 0.9271 - val_loss: 0.1994 - val_accuracy: 0.9479\n",
            "Epoch 45/100\n",
            "24/24 [==============================] - 0s 5ms/step - loss: 0.2060 - accuracy: 0.9193 - val_loss: 0.3388 - val_accuracy: 0.8698\n",
            "Epoch 46/100\n",
            "24/24 [==============================] - 0s 5ms/step - loss: 0.2414 - accuracy: 0.9010 - val_loss: 0.2335 - val_accuracy: 0.9427\n",
            "Epoch 47/100\n",
            "24/24 [==============================] - 0s 5ms/step - loss: 0.2360 - accuracy: 0.9102 - val_loss: 0.3214 - val_accuracy: 0.8854\n",
            "Epoch 48/100\n",
            "24/24 [==============================] - 0s 5ms/step - loss: 0.2316 - accuracy: 0.8984 - val_loss: 0.2543 - val_accuracy: 0.9375\n",
            "Epoch 49/100\n",
            "24/24 [==============================] - 0s 5ms/step - loss: 0.2287 - accuracy: 0.9049 - val_loss: 0.2054 - val_accuracy: 0.9427\n",
            "Epoch 50/100\n",
            "24/24 [==============================] - 0s 5ms/step - loss: 0.2007 - accuracy: 0.9193 - val_loss: 0.2434 - val_accuracy: 0.9323\n",
            "Epoch 51/100\n",
            "24/24 [==============================] - 0s 6ms/step - loss: 0.1789 - accuracy: 0.9362 - val_loss: 0.1929 - val_accuracy: 0.9531\n",
            "Epoch 52/100\n",
            "24/24 [==============================] - 0s 6ms/step - loss: 0.2082 - accuracy: 0.9232 - val_loss: 0.2688 - val_accuracy: 0.9115\n",
            "Epoch 53/100\n",
            "24/24 [==============================] - 0s 5ms/step - loss: 0.1719 - accuracy: 0.9323 - val_loss: 0.2302 - val_accuracy: 0.9479\n",
            "Epoch 54/100\n",
            "24/24 [==============================] - 0s 5ms/step - loss: 0.1992 - accuracy: 0.9167 - val_loss: 0.2012 - val_accuracy: 0.9427\n",
            "Epoch 55/100\n",
            "24/24 [==============================] - 0s 6ms/step - loss: 0.1790 - accuracy: 0.9336 - val_loss: 0.2331 - val_accuracy: 0.9323\n",
            "Epoch 56/100\n",
            "24/24 [==============================] - 0s 5ms/step - loss: 0.1773 - accuracy: 0.9440 - val_loss: 0.2312 - val_accuracy: 0.9427\n",
            "Epoch 57/100\n",
            "24/24 [==============================] - 0s 7ms/step - loss: 0.1870 - accuracy: 0.9271 - val_loss: 0.2202 - val_accuracy: 0.9427\n",
            "Epoch 58/100\n",
            "24/24 [==============================] - 0s 5ms/step - loss: 0.1726 - accuracy: 0.9349 - val_loss: 0.1900 - val_accuracy: 0.9531\n",
            "Epoch 59/100\n",
            "24/24 [==============================] - 0s 5ms/step - loss: 0.1641 - accuracy: 0.9401 - val_loss: 0.1880 - val_accuracy: 0.9531\n",
            "Epoch 60/100\n",
            "24/24 [==============================] - 0s 5ms/step - loss: 0.1676 - accuracy: 0.9427 - val_loss: 0.1940 - val_accuracy: 0.9479\n",
            "Epoch 61/100\n",
            "24/24 [==============================] - 0s 5ms/step - loss: 0.1773 - accuracy: 0.9349 - val_loss: 0.2114 - val_accuracy: 0.9427\n",
            "Epoch 62/100\n",
            "24/24 [==============================] - 0s 5ms/step - loss: 0.1649 - accuracy: 0.9349 - val_loss: 0.1872 - val_accuracy: 0.9583\n",
            "Epoch 63/100\n",
            "24/24 [==============================] - 0s 6ms/step - loss: 0.1822 - accuracy: 0.9271 - val_loss: 0.2613 - val_accuracy: 0.9167\n",
            "Epoch 64/100\n",
            "24/24 [==============================] - 0s 5ms/step - loss: 0.1759 - accuracy: 0.9388 - val_loss: 0.2127 - val_accuracy: 0.9323\n",
            "Epoch 65/100\n",
            "24/24 [==============================] - 0s 5ms/step - loss: 0.1642 - accuracy: 0.9427 - val_loss: 0.2171 - val_accuracy: 0.9375\n",
            "Epoch 66/100\n",
            "24/24 [==============================] - 0s 5ms/step - loss: 0.1601 - accuracy: 0.9427 - val_loss: 0.2049 - val_accuracy: 0.9583\n",
            "Epoch 67/100\n",
            "24/24 [==============================] - 0s 5ms/step - loss: 0.1783 - accuracy: 0.9245 - val_loss: 0.1883 - val_accuracy: 0.9479\n",
            "Epoch 68/100\n",
            "24/24 [==============================] - 0s 5ms/step - loss: 0.1526 - accuracy: 0.9427 - val_loss: 0.2217 - val_accuracy: 0.9427\n",
            "Epoch 69/100\n",
            "24/24 [==============================] - 0s 5ms/step - loss: 0.1740 - accuracy: 0.9375 - val_loss: 0.1895 - val_accuracy: 0.9583\n",
            "Epoch 70/100\n",
            "24/24 [==============================] - 0s 6ms/step - loss: 0.1698 - accuracy: 0.9388 - val_loss: 0.2359 - val_accuracy: 0.9271\n",
            "Epoch 71/100\n",
            "24/24 [==============================] - 0s 5ms/step - loss: 0.1707 - accuracy: 0.9388 - val_loss: 0.1892 - val_accuracy: 0.9479\n",
            "Epoch 72/100\n",
            "24/24 [==============================] - 0s 5ms/step - loss: 0.1667 - accuracy: 0.9375 - val_loss: 0.2903 - val_accuracy: 0.9323\n",
            "Epoch 73/100\n",
            "24/24 [==============================] - 0s 5ms/step - loss: 0.1542 - accuracy: 0.9453 - val_loss: 0.1983 - val_accuracy: 0.9375\n",
            "Epoch 74/100\n",
            "24/24 [==============================] - 0s 4ms/step - loss: 0.1489 - accuracy: 0.9479 - val_loss: 0.1978 - val_accuracy: 0.9479\n",
            "Epoch 75/100\n",
            "24/24 [==============================] - 0s 6ms/step - loss: 0.1704 - accuracy: 0.9388 - val_loss: 0.2290 - val_accuracy: 0.9427\n",
            "Epoch 76/100\n",
            "24/24 [==============================] - 0s 5ms/step - loss: 0.1755 - accuracy: 0.9349 - val_loss: 0.2444 - val_accuracy: 0.9167\n",
            "Epoch 77/100\n",
            "24/24 [==============================] - 0s 5ms/step - loss: 0.1803 - accuracy: 0.9284 - val_loss: 0.2341 - val_accuracy: 0.9375\n",
            "Epoch 78/100\n",
            "24/24 [==============================] - 0s 6ms/step - loss: 0.1883 - accuracy: 0.9323 - val_loss: 0.2302 - val_accuracy: 0.9427\n",
            "Epoch 79/100\n",
            "24/24 [==============================] - 0s 6ms/step - loss: 0.1636 - accuracy: 0.9310 - val_loss: 0.2030 - val_accuracy: 0.9479\n",
            "Epoch 80/100\n",
            "24/24 [==============================] - 0s 5ms/step - loss: 0.1726 - accuracy: 0.9336 - val_loss: 0.2147 - val_accuracy: 0.9531\n",
            "Epoch 81/100\n",
            "24/24 [==============================] - 0s 6ms/step - loss: 0.1681 - accuracy: 0.9349 - val_loss: 0.2228 - val_accuracy: 0.9323\n",
            "Epoch 82/100\n",
            "24/24 [==============================] - 0s 5ms/step - loss: 0.1704 - accuracy: 0.9323 - val_loss: 0.2065 - val_accuracy: 0.9427\n",
            "Epoch 83/100\n",
            "24/24 [==============================] - 0s 6ms/step - loss: 0.1518 - accuracy: 0.9453 - val_loss: 0.2489 - val_accuracy: 0.9219\n",
            "Epoch 84/100\n",
            "24/24 [==============================] - 0s 6ms/step - loss: 0.1500 - accuracy: 0.9388 - val_loss: 0.1998 - val_accuracy: 0.9531\n",
            "Epoch 85/100\n",
            "24/24 [==============================] - 0s 6ms/step - loss: 0.1517 - accuracy: 0.9440 - val_loss: 0.1971 - val_accuracy: 0.9583\n",
            "Epoch 86/100\n",
            "24/24 [==============================] - 0s 5ms/step - loss: 0.1447 - accuracy: 0.9466 - val_loss: 0.1948 - val_accuracy: 0.9531\n",
            "Epoch 87/100\n",
            "24/24 [==============================] - 0s 5ms/step - loss: 0.1656 - accuracy: 0.9388 - val_loss: 0.2115 - val_accuracy: 0.9635\n",
            "Epoch 88/100\n",
            "24/24 [==============================] - 0s 5ms/step - loss: 0.1612 - accuracy: 0.9388 - val_loss: 0.2251 - val_accuracy: 0.9271\n",
            "Epoch 89/100\n",
            "24/24 [==============================] - 0s 5ms/step - loss: 0.1796 - accuracy: 0.9362 - val_loss: 0.2853 - val_accuracy: 0.9115\n",
            "Epoch 90/100\n",
            "24/24 [==============================] - 0s 6ms/step - loss: 0.1640 - accuracy: 0.9414 - val_loss: 0.2144 - val_accuracy: 0.9375\n",
            "Epoch 91/100\n",
            "24/24 [==============================] - 0s 15ms/step - loss: 0.1799 - accuracy: 0.9349 - val_loss: 0.3160 - val_accuracy: 0.9219\n",
            "Epoch 92/100\n",
            "24/24 [==============================] - 0s 14ms/step - loss: 0.1816 - accuracy: 0.9310 - val_loss: 0.2247 - val_accuracy: 0.9531\n",
            "Epoch 93/100\n",
            "24/24 [==============================] - 0s 7ms/step - loss: 0.2385 - accuracy: 0.9167 - val_loss: 0.3326 - val_accuracy: 0.8958\n",
            "Epoch 94/100\n",
            "24/24 [==============================] - 0s 3ms/step - loss: 0.2316 - accuracy: 0.9115 - val_loss: 0.2155 - val_accuracy: 0.9427\n",
            "Epoch 95/100\n",
            "24/24 [==============================] - 0s 3ms/step - loss: 0.1639 - accuracy: 0.9401 - val_loss: 0.2203 - val_accuracy: 0.9427\n",
            "Epoch 96/100\n",
            "24/24 [==============================] - 0s 3ms/step - loss: 0.1724 - accuracy: 0.9349 - val_loss: 0.2513 - val_accuracy: 0.9167\n",
            "Epoch 97/100\n",
            "24/24 [==============================] - 0s 3ms/step - loss: 0.1961 - accuracy: 0.9271 - val_loss: 0.3015 - val_accuracy: 0.9219\n",
            "Epoch 98/100\n",
            "24/24 [==============================] - 0s 3ms/step - loss: 0.1555 - accuracy: 0.9453 - val_loss: 0.2256 - val_accuracy: 0.9375\n",
            "Epoch 99/100\n",
            "24/24 [==============================] - 0s 3ms/step - loss: 0.1991 - accuracy: 0.9193 - val_loss: 0.1959 - val_accuracy: 0.9479\n",
            "Epoch 100/100\n",
            "24/24 [==============================] - 0s 3ms/step - loss: 0.1923 - accuracy: 0.9297 - val_loss: 0.2279 - val_accuracy: 0.9375\n"
          ]
        },
        {
          "output_type": "execute_result",
          "data": {
            "text/plain": [
              "<keras.callbacks.History at 0x7f1c398d8f10>"
            ]
          },
          "metadata": {},
          "execution_count": 150
        }
      ]
    },
    {
      "cell_type": "markdown",
      "source": [
        "#### 70:30"
      ],
      "metadata": {
        "id": "GoG_Oio7YJA_"
      }
    },
    {
      "cell_type": "code",
      "source": [
        "X_train_70_30_np = np.array(X_train_70_30)\n",
        "X_test_70_30_np = np.array(X_test_70_30)\n",
        "\n",
        "LE = LabelEncoder()\n",
        "y_train_70_30_enc = LE.fit_transform(y_train_70_30)\n",
        "y_test_70_30_enc = LE.fit_transform(y_test_70_30)"
      ],
      "metadata": {
        "id": "PMIBraY_YJBA"
      },
      "execution_count": null,
      "outputs": []
    },
    {
      "cell_type": "code",
      "source": [
        "ANN_70_30 = Sequential()\n",
        "\n",
        "ANN_70_30.add(Dense(units = 16, activation = 'relu', input_shape = (df.shape[1]-1,)))\n",
        "ANN_70_30.add(Dense(units = 16, activation = 'relu'))\n",
        "ANN_70_30.add(Dense(units = 1, activation = 'sigmoid'))\n",
        "ANN_70_30.compile(optimizer = \"adam\", loss = \"binary_crossentropy\", metrics = ['accuracy'])\n",
        "\n",
        "ANN_70_30.summary()"
      ],
      "metadata": {
        "colab": {
          "base_uri": "https://localhost:8080/"
        },
        "outputId": "153d772c-0f7b-4abe-d51a-76db148ca303",
        "id": "lQvkdEvvYJBA"
      },
      "execution_count": null,
      "outputs": [
        {
          "output_type": "stream",
          "name": "stdout",
          "text": [
            "Model: \"sequential_15\"\n",
            "_________________________________________________________________\n",
            " Layer (type)                Output Shape              Param #   \n",
            "=================================================================\n",
            " dense_43 (Dense)            (None, 16)                192       \n",
            "                                                                 \n",
            " dense_44 (Dense)            (None, 16)                272       \n",
            "                                                                 \n",
            " dense_45 (Dense)            (None, 1)                 17        \n",
            "                                                                 \n",
            "=================================================================\n",
            "Total params: 481\n",
            "Trainable params: 481\n",
            "Non-trainable params: 0\n",
            "_________________________________________________________________\n"
          ]
        }
      ]
    },
    {
      "cell_type": "code",
      "source": [
        "ANN_70_30.fit(X_train_70_30_np, y_train_70_30_enc, epochs = 100, validation_split = 0.2)"
      ],
      "metadata": {
        "colab": {
          "base_uri": "https://localhost:8080/"
        },
        "outputId": "d0180a99-2ce0-4f68-bb72-22ba5c0de5b7",
        "id": "s_VSvNKaYJBB"
      },
      "execution_count": null,
      "outputs": [
        {
          "output_type": "stream",
          "name": "stdout",
          "text": [
            "Epoch 1/100\n",
            "28/28 [==============================] - 2s 26ms/step - loss: 132.5890 - accuracy: 0.4777 - val_loss: 32.1112 - val_accuracy: 0.4018\n",
            "Epoch 2/100\n",
            "28/28 [==============================] - 0s 7ms/step - loss: 10.0433 - accuracy: 0.6484 - val_loss: 8.5119 - val_accuracy: 0.7545\n",
            "Epoch 3/100\n",
            "28/28 [==============================] - 0s 12ms/step - loss: 5.2561 - accuracy: 0.6395 - val_loss: 2.4543 - val_accuracy: 0.7500\n",
            "Epoch 4/100\n",
            "28/28 [==============================] - 0s 5ms/step - loss: 1.8755 - accuracy: 0.6384 - val_loss: 1.3785 - val_accuracy: 0.7455\n",
            "Epoch 5/100\n",
            "28/28 [==============================] - 0s 10ms/step - loss: 1.3612 - accuracy: 0.6607 - val_loss: 1.1331 - val_accuracy: 0.6562\n",
            "Epoch 6/100\n",
            "28/28 [==============================] - 0s 5ms/step - loss: 1.1115 - accuracy: 0.6518 - val_loss: 0.9160 - val_accuracy: 0.7366\n",
            "Epoch 7/100\n",
            "28/28 [==============================] - 0s 11ms/step - loss: 0.8794 - accuracy: 0.6819 - val_loss: 0.7243 - val_accuracy: 0.7545\n",
            "Epoch 8/100\n",
            "28/28 [==============================] - 0s 6ms/step - loss: 0.7113 - accuracy: 0.7355 - val_loss: 0.5792 - val_accuracy: 0.8080\n",
            "Epoch 9/100\n",
            "28/28 [==============================] - 0s 6ms/step - loss: 0.6399 - accuracy: 0.7645 - val_loss: 0.5065 - val_accuracy: 0.8348\n",
            "Epoch 10/100\n",
            "28/28 [==============================] - 0s 6ms/step - loss: 0.5511 - accuracy: 0.8013 - val_loss: 0.4116 - val_accuracy: 0.8571\n",
            "Epoch 11/100\n",
            "28/28 [==============================] - 0s 5ms/step - loss: 0.4808 - accuracy: 0.8225 - val_loss: 0.3987 - val_accuracy: 0.8705\n",
            "Epoch 12/100\n",
            "28/28 [==============================] - 0s 5ms/step - loss: 0.4421 - accuracy: 0.8315 - val_loss: 0.3956 - val_accuracy: 0.8348\n",
            "Epoch 13/100\n",
            "28/28 [==============================] - 0s 5ms/step - loss: 0.4066 - accuracy: 0.8471 - val_loss: 0.3031 - val_accuracy: 0.8839\n",
            "Epoch 14/100\n",
            "28/28 [==============================] - 0s 5ms/step - loss: 0.3683 - accuracy: 0.8627 - val_loss: 0.3276 - val_accuracy: 0.8750\n",
            "Epoch 15/100\n",
            "28/28 [==============================] - 0s 5ms/step - loss: 0.3270 - accuracy: 0.8862 - val_loss: 0.2802 - val_accuracy: 0.9018\n",
            "Epoch 16/100\n",
            "28/28 [==============================] - 0s 5ms/step - loss: 0.3181 - accuracy: 0.8783 - val_loss: 0.2529 - val_accuracy: 0.9107\n",
            "Epoch 17/100\n",
            "28/28 [==============================] - 0s 5ms/step - loss: 0.3088 - accuracy: 0.8906 - val_loss: 0.2849 - val_accuracy: 0.8929\n",
            "Epoch 18/100\n",
            "28/28 [==============================] - 0s 5ms/step - loss: 0.2962 - accuracy: 0.8884 - val_loss: 0.2348 - val_accuracy: 0.9152\n",
            "Epoch 19/100\n",
            "28/28 [==============================] - 0s 5ms/step - loss: 0.2942 - accuracy: 0.8929 - val_loss: 0.2445 - val_accuracy: 0.9152\n",
            "Epoch 20/100\n",
            "28/28 [==============================] - 0s 5ms/step - loss: 0.3090 - accuracy: 0.8862 - val_loss: 0.2589 - val_accuracy: 0.9062\n",
            "Epoch 21/100\n",
            "28/28 [==============================] - 0s 4ms/step - loss: 0.2909 - accuracy: 0.8895 - val_loss: 0.2133 - val_accuracy: 0.9152\n",
            "Epoch 22/100\n",
            "28/28 [==============================] - 0s 4ms/step - loss: 0.2603 - accuracy: 0.8996 - val_loss: 0.2108 - val_accuracy: 0.9286\n",
            "Epoch 23/100\n",
            "28/28 [==============================] - 0s 5ms/step - loss: 0.2556 - accuracy: 0.9018 - val_loss: 0.2076 - val_accuracy: 0.9286\n",
            "Epoch 24/100\n",
            "28/28 [==============================] - 0s 4ms/step - loss: 0.2549 - accuracy: 0.9007 - val_loss: 0.2206 - val_accuracy: 0.9152\n",
            "Epoch 25/100\n",
            "28/28 [==============================] - 0s 2ms/step - loss: 0.2501 - accuracy: 0.9018 - val_loss: 0.1960 - val_accuracy: 0.9286\n",
            "Epoch 26/100\n",
            "28/28 [==============================] - 0s 3ms/step - loss: 0.2365 - accuracy: 0.9074 - val_loss: 0.1912 - val_accuracy: 0.9330\n",
            "Epoch 27/100\n",
            "28/28 [==============================] - 0s 4ms/step - loss: 0.2280 - accuracy: 0.9085 - val_loss: 0.1858 - val_accuracy: 0.9330\n",
            "Epoch 28/100\n",
            "28/28 [==============================] - 0s 4ms/step - loss: 0.2241 - accuracy: 0.9096 - val_loss: 0.1823 - val_accuracy: 0.9330\n",
            "Epoch 29/100\n",
            "28/28 [==============================] - 0s 3ms/step - loss: 0.2179 - accuracy: 0.9152 - val_loss: 0.1818 - val_accuracy: 0.9286\n",
            "Epoch 30/100\n",
            "28/28 [==============================] - 0s 3ms/step - loss: 0.2176 - accuracy: 0.9163 - val_loss: 0.1983 - val_accuracy: 0.9375\n",
            "Epoch 31/100\n",
            "28/28 [==============================] - 0s 4ms/step - loss: 0.2161 - accuracy: 0.9208 - val_loss: 0.2068 - val_accuracy: 0.9152\n",
            "Epoch 32/100\n",
            "28/28 [==============================] - 0s 5ms/step - loss: 0.2138 - accuracy: 0.9263 - val_loss: 0.2096 - val_accuracy: 0.9420\n",
            "Epoch 33/100\n",
            "28/28 [==============================] - 0s 5ms/step - loss: 0.2115 - accuracy: 0.9163 - val_loss: 0.1688 - val_accuracy: 0.9420\n",
            "Epoch 34/100\n",
            "28/28 [==============================] - 0s 4ms/step - loss: 0.2031 - accuracy: 0.9252 - val_loss: 0.1611 - val_accuracy: 0.9375\n",
            "Epoch 35/100\n",
            "28/28 [==============================] - 0s 3ms/step - loss: 0.2029 - accuracy: 0.9286 - val_loss: 0.1663 - val_accuracy: 0.9509\n",
            "Epoch 36/100\n",
            "28/28 [==============================] - 0s 3ms/step - loss: 0.2045 - accuracy: 0.9241 - val_loss: 0.1819 - val_accuracy: 0.9420\n",
            "Epoch 37/100\n",
            "28/28 [==============================] - 0s 4ms/step - loss: 0.2018 - accuracy: 0.9275 - val_loss: 0.1669 - val_accuracy: 0.9464\n",
            "Epoch 38/100\n",
            "28/28 [==============================] - 0s 4ms/step - loss: 0.1928 - accuracy: 0.9308 - val_loss: 0.1673 - val_accuracy: 0.9420\n",
            "Epoch 39/100\n",
            "28/28 [==============================] - 0s 6ms/step - loss: 0.2003 - accuracy: 0.9308 - val_loss: 0.1537 - val_accuracy: 0.9464\n",
            "Epoch 40/100\n",
            "28/28 [==============================] - 0s 4ms/step - loss: 0.1919 - accuracy: 0.9319 - val_loss: 0.1672 - val_accuracy: 0.9464\n",
            "Epoch 41/100\n",
            "28/28 [==============================] - 0s 5ms/step - loss: 0.1921 - accuracy: 0.9286 - val_loss: 0.1855 - val_accuracy: 0.9330\n",
            "Epoch 42/100\n",
            "28/28 [==============================] - 0s 4ms/step - loss: 0.1894 - accuracy: 0.9308 - val_loss: 0.1672 - val_accuracy: 0.9464\n",
            "Epoch 43/100\n",
            "28/28 [==============================] - 0s 4ms/step - loss: 0.1888 - accuracy: 0.9252 - val_loss: 0.1584 - val_accuracy: 0.9420\n",
            "Epoch 44/100\n",
            "28/28 [==============================] - 0s 4ms/step - loss: 0.1858 - accuracy: 0.9252 - val_loss: 0.1472 - val_accuracy: 0.9464\n",
            "Epoch 45/100\n",
            "28/28 [==============================] - 0s 5ms/step - loss: 0.1824 - accuracy: 0.9319 - val_loss: 0.1495 - val_accuracy: 0.9464\n",
            "Epoch 46/100\n",
            "28/28 [==============================] - 0s 3ms/step - loss: 0.1855 - accuracy: 0.9275 - val_loss: 0.1406 - val_accuracy: 0.9509\n",
            "Epoch 47/100\n",
            "28/28 [==============================] - 0s 3ms/step - loss: 0.1834 - accuracy: 0.9330 - val_loss: 0.1517 - val_accuracy: 0.9554\n",
            "Epoch 48/100\n",
            "28/28 [==============================] - 0s 3ms/step - loss: 0.1815 - accuracy: 0.9353 - val_loss: 0.1433 - val_accuracy: 0.9509\n",
            "Epoch 49/100\n",
            "28/28 [==============================] - 0s 4ms/step - loss: 0.1820 - accuracy: 0.9308 - val_loss: 0.1443 - val_accuracy: 0.9554\n",
            "Epoch 50/100\n",
            "28/28 [==============================] - 0s 4ms/step - loss: 0.1830 - accuracy: 0.9297 - val_loss: 0.1380 - val_accuracy: 0.9464\n",
            "Epoch 51/100\n",
            "28/28 [==============================] - 0s 3ms/step - loss: 0.2002 - accuracy: 0.9241 - val_loss: 0.1420 - val_accuracy: 0.9509\n",
            "Epoch 52/100\n",
            "28/28 [==============================] - 0s 3ms/step - loss: 0.1821 - accuracy: 0.9353 - val_loss: 0.1407 - val_accuracy: 0.9509\n",
            "Epoch 53/100\n",
            "28/28 [==============================] - 0s 3ms/step - loss: 0.1883 - accuracy: 0.9252 - val_loss: 0.1510 - val_accuracy: 0.9598\n",
            "Epoch 54/100\n",
            "28/28 [==============================] - 0s 5ms/step - loss: 0.1768 - accuracy: 0.9342 - val_loss: 0.1530 - val_accuracy: 0.9509\n",
            "Epoch 55/100\n",
            "28/28 [==============================] - 0s 5ms/step - loss: 0.1977 - accuracy: 0.9263 - val_loss: 0.1416 - val_accuracy: 0.9509\n",
            "Epoch 56/100\n",
            "28/28 [==============================] - 0s 4ms/step - loss: 0.1856 - accuracy: 0.9330 - val_loss: 0.1440 - val_accuracy: 0.9554\n",
            "Epoch 57/100\n",
            "28/28 [==============================] - 0s 5ms/step - loss: 0.1817 - accuracy: 0.9297 - val_loss: 0.1468 - val_accuracy: 0.9509\n",
            "Epoch 58/100\n",
            "28/28 [==============================] - 0s 4ms/step - loss: 0.1732 - accuracy: 0.9386 - val_loss: 0.1526 - val_accuracy: 0.9509\n",
            "Epoch 59/100\n",
            "28/28 [==============================] - 0s 5ms/step - loss: 0.1874 - accuracy: 0.9252 - val_loss: 0.1355 - val_accuracy: 0.9509\n",
            "Epoch 60/100\n",
            "28/28 [==============================] - 0s 4ms/step - loss: 0.1838 - accuracy: 0.9353 - val_loss: 0.1300 - val_accuracy: 0.9598\n",
            "Epoch 61/100\n",
            "28/28 [==============================] - 0s 4ms/step - loss: 0.1773 - accuracy: 0.9308 - val_loss: 0.1497 - val_accuracy: 0.9598\n",
            "Epoch 62/100\n",
            "28/28 [==============================] - 0s 5ms/step - loss: 0.1806 - accuracy: 0.9297 - val_loss: 0.1274 - val_accuracy: 0.9554\n",
            "Epoch 63/100\n",
            "28/28 [==============================] - 0s 5ms/step - loss: 0.1912 - accuracy: 0.9263 - val_loss: 0.1482 - val_accuracy: 0.9509\n",
            "Epoch 64/100\n",
            "28/28 [==============================] - 0s 4ms/step - loss: 0.1986 - accuracy: 0.9208 - val_loss: 0.1360 - val_accuracy: 0.9509\n",
            "Epoch 65/100\n",
            "28/28 [==============================] - 0s 5ms/step - loss: 0.1802 - accuracy: 0.9319 - val_loss: 0.1508 - val_accuracy: 0.9509\n",
            "Epoch 66/100\n",
            "28/28 [==============================] - 0s 5ms/step - loss: 0.1737 - accuracy: 0.9375 - val_loss: 0.1693 - val_accuracy: 0.9509\n",
            "Epoch 67/100\n",
            "28/28 [==============================] - 0s 7ms/step - loss: 0.1810 - accuracy: 0.9353 - val_loss: 0.1367 - val_accuracy: 0.9554\n",
            "Epoch 68/100\n",
            "28/28 [==============================] - 0s 6ms/step - loss: 0.1757 - accuracy: 0.9375 - val_loss: 0.1277 - val_accuracy: 0.9598\n",
            "Epoch 69/100\n",
            "28/28 [==============================] - 0s 8ms/step - loss: 0.1715 - accuracy: 0.9353 - val_loss: 0.1290 - val_accuracy: 0.9554\n",
            "Epoch 70/100\n",
            "28/28 [==============================] - 0s 8ms/step - loss: 0.1809 - accuracy: 0.9408 - val_loss: 0.1336 - val_accuracy: 0.9554\n",
            "Epoch 71/100\n",
            "28/28 [==============================] - 0s 10ms/step - loss: 0.1689 - accuracy: 0.9408 - val_loss: 0.1549 - val_accuracy: 0.9509\n",
            "Epoch 72/100\n",
            "28/28 [==============================] - 0s 7ms/step - loss: 0.1836 - accuracy: 0.9286 - val_loss: 0.1415 - val_accuracy: 0.9554\n",
            "Epoch 73/100\n",
            "28/28 [==============================] - 0s 9ms/step - loss: 0.1806 - accuracy: 0.9364 - val_loss: 0.1493 - val_accuracy: 0.9509\n",
            "Epoch 74/100\n",
            "28/28 [==============================] - 0s 9ms/step - loss: 0.1772 - accuracy: 0.9286 - val_loss: 0.1413 - val_accuracy: 0.9554\n",
            "Epoch 75/100\n",
            "28/28 [==============================] - 0s 8ms/step - loss: 0.1742 - accuracy: 0.9375 - val_loss: 0.1290 - val_accuracy: 0.9554\n",
            "Epoch 76/100\n",
            "28/28 [==============================] - 0s 7ms/step - loss: 0.1729 - accuracy: 0.9364 - val_loss: 0.1334 - val_accuracy: 0.9554\n",
            "Epoch 77/100\n",
            "28/28 [==============================] - 0s 9ms/step - loss: 0.1892 - accuracy: 0.9297 - val_loss: 0.1305 - val_accuracy: 0.9598\n",
            "Epoch 78/100\n",
            "28/28 [==============================] - 0s 9ms/step - loss: 0.1690 - accuracy: 0.9420 - val_loss: 0.1591 - val_accuracy: 0.9509\n",
            "Epoch 79/100\n",
            "28/28 [==============================] - 0s 9ms/step - loss: 0.2323 - accuracy: 0.9096 - val_loss: 0.1274 - val_accuracy: 0.9598\n",
            "Epoch 80/100\n",
            "28/28 [==============================] - 0s 10ms/step - loss: 0.1731 - accuracy: 0.9364 - val_loss: 0.1308 - val_accuracy: 0.9554\n",
            "Epoch 81/100\n",
            "28/28 [==============================] - 0s 7ms/step - loss: 0.1678 - accuracy: 0.9408 - val_loss: 0.1351 - val_accuracy: 0.9509\n",
            "Epoch 82/100\n",
            "28/28 [==============================] - 0s 8ms/step - loss: 0.1853 - accuracy: 0.9397 - val_loss: 0.1298 - val_accuracy: 0.9554\n",
            "Epoch 83/100\n",
            "28/28 [==============================] - 0s 4ms/step - loss: 0.1766 - accuracy: 0.9353 - val_loss: 0.1322 - val_accuracy: 0.9598\n",
            "Epoch 84/100\n",
            "28/28 [==============================] - 0s 5ms/step - loss: 0.1720 - accuracy: 0.9364 - val_loss: 0.1608 - val_accuracy: 0.9420\n",
            "Epoch 85/100\n",
            "28/28 [==============================] - 0s 4ms/step - loss: 0.2073 - accuracy: 0.9141 - val_loss: 0.1714 - val_accuracy: 0.9554\n",
            "Epoch 86/100\n",
            "28/28 [==============================] - 0s 4ms/step - loss: 0.1788 - accuracy: 0.9319 - val_loss: 0.1197 - val_accuracy: 0.9554\n",
            "Epoch 87/100\n",
            "28/28 [==============================] - 0s 5ms/step - loss: 0.1790 - accuracy: 0.9252 - val_loss: 0.1234 - val_accuracy: 0.9554\n",
            "Epoch 88/100\n",
            "28/28 [==============================] - 0s 5ms/step - loss: 0.1719 - accuracy: 0.9375 - val_loss: 0.1329 - val_accuracy: 0.9554\n",
            "Epoch 89/100\n",
            "28/28 [==============================] - 0s 4ms/step - loss: 0.1907 - accuracy: 0.9275 - val_loss: 0.1483 - val_accuracy: 0.9509\n",
            "Epoch 90/100\n",
            "28/28 [==============================] - 0s 4ms/step - loss: 0.1821 - accuracy: 0.9330 - val_loss: 0.1648 - val_accuracy: 0.9554\n",
            "Epoch 91/100\n",
            "28/28 [==============================] - 0s 5ms/step - loss: 0.1811 - accuracy: 0.9319 - val_loss: 0.1307 - val_accuracy: 0.9554\n",
            "Epoch 92/100\n",
            "28/28 [==============================] - 0s 5ms/step - loss: 0.1722 - accuracy: 0.9330 - val_loss: 0.1231 - val_accuracy: 0.9554\n",
            "Epoch 93/100\n",
            "28/28 [==============================] - 0s 5ms/step - loss: 0.1688 - accuracy: 0.9375 - val_loss: 0.1249 - val_accuracy: 0.9554\n",
            "Epoch 94/100\n",
            "28/28 [==============================] - 0s 5ms/step - loss: 0.1825 - accuracy: 0.9319 - val_loss: 0.1234 - val_accuracy: 0.9598\n",
            "Epoch 95/100\n",
            "28/28 [==============================] - 0s 5ms/step - loss: 0.1664 - accuracy: 0.9386 - val_loss: 0.1194 - val_accuracy: 0.9554\n",
            "Epoch 96/100\n",
            "28/28 [==============================] - 0s 4ms/step - loss: 0.1749 - accuracy: 0.9364 - val_loss: 0.1311 - val_accuracy: 0.9598\n",
            "Epoch 97/100\n",
            "28/28 [==============================] - 0s 4ms/step - loss: 0.1699 - accuracy: 0.9375 - val_loss: 0.1231 - val_accuracy: 0.9554\n",
            "Epoch 98/100\n",
            "28/28 [==============================] - 0s 4ms/step - loss: 0.1757 - accuracy: 0.9297 - val_loss: 0.1224 - val_accuracy: 0.9554\n",
            "Epoch 99/100\n",
            "28/28 [==============================] - 0s 5ms/step - loss: 0.1831 - accuracy: 0.9308 - val_loss: 0.1465 - val_accuracy: 0.9509\n",
            "Epoch 100/100\n",
            "28/28 [==============================] - 0s 5ms/step - loss: 0.1971 - accuracy: 0.9241 - val_loss: 0.1304 - val_accuracy: 0.9554\n"
          ]
        },
        {
          "output_type": "execute_result",
          "data": {
            "text/plain": [
              "<keras.callbacks.History at 0x7f1c3db70ed0>"
            ]
          },
          "metadata": {},
          "execution_count": 153
        }
      ]
    },
    {
      "cell_type": "markdown",
      "source": [
        "#### 80:20"
      ],
      "metadata": {
        "id": "SpbaY1lZYJWa"
      }
    },
    {
      "cell_type": "code",
      "source": [
        "X_train_80_20_np = np.array(X_train_80_20)\n",
        "X_test_80_20_np = np.array(X_test_80_20)\n",
        "\n",
        "LE = LabelEncoder()\n",
        "y_train_80_20_enc = LE.fit_transform(y_train_80_20)\n",
        "y_test_80_20_enc = LE.fit_transform(y_test_80_20)"
      ],
      "metadata": {
        "id": "RBG2_EyyYJWa"
      },
      "execution_count": null,
      "outputs": []
    },
    {
      "cell_type": "code",
      "source": [
        "ANN_80_20 = Sequential()\n",
        "\n",
        "ANN_80_20.add(Dense(units = 16, activation = 'relu', input_shape = (df.shape[1]-1,)))\n",
        "ANN_80_20.add(Dense(units = 16, activation = 'relu'))\n",
        "ANN_80_20.add(Dense(units = 1, activation = 'sigmoid'))\n",
        "ANN_80_20.compile(optimizer = \"adam\", loss = \"binary_crossentropy\", metrics = ['accuracy'])\n",
        "\n",
        "ANN_80_20.summary()"
      ],
      "metadata": {
        "colab": {
          "base_uri": "https://localhost:8080/"
        },
        "outputId": "eb47dcf5-6335-4e33-80fd-a2a0eb4fb63e",
        "id": "Oc06sAoxYJWb"
      },
      "execution_count": null,
      "outputs": [
        {
          "output_type": "stream",
          "name": "stdout",
          "text": [
            "Model: \"sequential_16\"\n",
            "_________________________________________________________________\n",
            " Layer (type)                Output Shape              Param #   \n",
            "=================================================================\n",
            " dense_46 (Dense)            (None, 16)                192       \n",
            "                                                                 \n",
            " dense_47 (Dense)            (None, 16)                272       \n",
            "                                                                 \n",
            " dense_48 (Dense)            (None, 1)                 17        \n",
            "                                                                 \n",
            "=================================================================\n",
            "Total params: 481\n",
            "Trainable params: 481\n",
            "Non-trainable params: 0\n",
            "_________________________________________________________________\n"
          ]
        }
      ]
    },
    {
      "cell_type": "code",
      "source": [
        "ANN_80_20.fit(X_train_80_20_np, y_train_80_20_enc, epochs = 100, validation_split = 0.2)"
      ],
      "metadata": {
        "colab": {
          "base_uri": "https://localhost:8080/"
        },
        "outputId": "71fa7855-01ae-42fa-ddf2-75c472c60ec9",
        "id": "wg4_x-AJYJWb"
      },
      "execution_count": null,
      "outputs": [
        {
          "output_type": "stream",
          "name": "stdout",
          "text": [
            "Epoch 1/100\n",
            "32/32 [==============================] - 1s 12ms/step - loss: 20.1886 - accuracy: 0.6621 - val_loss: 6.2450 - val_accuracy: 0.7383\n",
            "Epoch 2/100\n",
            "32/32 [==============================] - 0s 4ms/step - loss: 3.1204 - accuracy: 0.6641 - val_loss: 1.2224 - val_accuracy: 0.7656\n",
            "Epoch 3/100\n",
            "32/32 [==============================] - 0s 4ms/step - loss: 0.8795 - accuracy: 0.8145 - val_loss: 0.5029 - val_accuracy: 0.8789\n",
            "Epoch 4/100\n",
            "32/32 [==============================] - 0s 4ms/step - loss: 0.4347 - accuracy: 0.8779 - val_loss: 0.3321 - val_accuracy: 0.9102\n",
            "Epoch 5/100\n",
            "32/32 [==============================] - 0s 4ms/step - loss: 0.3321 - accuracy: 0.8984 - val_loss: 0.3086 - val_accuracy: 0.9180\n",
            "Epoch 6/100\n",
            "32/32 [==============================] - 0s 4ms/step - loss: 0.3014 - accuracy: 0.9004 - val_loss: 0.2916 - val_accuracy: 0.9180\n",
            "Epoch 7/100\n",
            "32/32 [==============================] - 0s 4ms/step - loss: 0.2964 - accuracy: 0.8994 - val_loss: 0.3049 - val_accuracy: 0.8984\n",
            "Epoch 8/100\n",
            "32/32 [==============================] - 0s 4ms/step - loss: 0.3319 - accuracy: 0.8818 - val_loss: 0.2946 - val_accuracy: 0.8984\n",
            "Epoch 9/100\n",
            "32/32 [==============================] - 0s 5ms/step - loss: 0.2839 - accuracy: 0.8994 - val_loss: 0.2153 - val_accuracy: 0.9375\n",
            "Epoch 10/100\n",
            "32/32 [==============================] - 0s 4ms/step - loss: 0.2609 - accuracy: 0.9053 - val_loss: 0.2231 - val_accuracy: 0.9258\n",
            "Epoch 11/100\n",
            "32/32 [==============================] - 0s 4ms/step - loss: 0.2546 - accuracy: 0.9062 - val_loss: 0.2302 - val_accuracy: 0.9180\n",
            "Epoch 12/100\n",
            "32/32 [==============================] - 0s 4ms/step - loss: 0.2335 - accuracy: 0.9141 - val_loss: 0.2059 - val_accuracy: 0.9375\n",
            "Epoch 13/100\n",
            "32/32 [==============================] - 0s 5ms/step - loss: 0.2299 - accuracy: 0.9180 - val_loss: 0.2066 - val_accuracy: 0.9414\n",
            "Epoch 14/100\n",
            "32/32 [==============================] - 0s 4ms/step - loss: 0.2247 - accuracy: 0.9170 - val_loss: 0.2174 - val_accuracy: 0.9180\n",
            "Epoch 15/100\n",
            "32/32 [==============================] - 0s 4ms/step - loss: 0.2357 - accuracy: 0.9111 - val_loss: 0.1938 - val_accuracy: 0.9258\n",
            "Epoch 16/100\n",
            "32/32 [==============================] - 0s 5ms/step - loss: 0.2544 - accuracy: 0.9004 - val_loss: 0.2229 - val_accuracy: 0.9258\n",
            "Epoch 17/100\n",
            "32/32 [==============================] - 0s 4ms/step - loss: 0.2160 - accuracy: 0.9219 - val_loss: 0.1969 - val_accuracy: 0.9414\n",
            "Epoch 18/100\n",
            "32/32 [==============================] - 0s 4ms/step - loss: 0.2328 - accuracy: 0.9121 - val_loss: 0.2006 - val_accuracy: 0.9375\n",
            "Epoch 19/100\n",
            "32/32 [==============================] - 0s 4ms/step - loss: 0.2164 - accuracy: 0.9209 - val_loss: 0.2075 - val_accuracy: 0.9258\n",
            "Epoch 20/100\n",
            "32/32 [==============================] - 0s 4ms/step - loss: 0.2172 - accuracy: 0.9189 - val_loss: 0.2114 - val_accuracy: 0.9336\n",
            "Epoch 21/100\n",
            "32/32 [==============================] - 0s 4ms/step - loss: 0.2089 - accuracy: 0.9277 - val_loss: 0.1975 - val_accuracy: 0.9414\n",
            "Epoch 22/100\n",
            "32/32 [==============================] - 0s 4ms/step - loss: 0.2039 - accuracy: 0.9287 - val_loss: 0.1848 - val_accuracy: 0.9414\n",
            "Epoch 23/100\n",
            "32/32 [==============================] - 0s 5ms/step - loss: 0.2415 - accuracy: 0.9102 - val_loss: 0.3001 - val_accuracy: 0.8867\n",
            "Epoch 24/100\n",
            "32/32 [==============================] - 0s 4ms/step - loss: 0.2739 - accuracy: 0.9014 - val_loss: 0.1955 - val_accuracy: 0.9414\n",
            "Epoch 25/100\n",
            "32/32 [==============================] - 0s 4ms/step - loss: 0.2143 - accuracy: 0.9268 - val_loss: 0.2191 - val_accuracy: 0.9180\n",
            "Epoch 26/100\n",
            "32/32 [==============================] - 0s 4ms/step - loss: 0.2386 - accuracy: 0.9082 - val_loss: 0.1802 - val_accuracy: 0.9336\n",
            "Epoch 27/100\n",
            "32/32 [==============================] - 0s 4ms/step - loss: 0.1909 - accuracy: 0.9326 - val_loss: 0.1846 - val_accuracy: 0.9258\n",
            "Epoch 28/100\n",
            "32/32 [==============================] - 0s 4ms/step - loss: 0.1957 - accuracy: 0.9238 - val_loss: 0.2158 - val_accuracy: 0.9336\n",
            "Epoch 29/100\n",
            "32/32 [==============================] - 0s 4ms/step - loss: 0.2216 - accuracy: 0.9199 - val_loss: 0.3201 - val_accuracy: 0.8750\n",
            "Epoch 30/100\n",
            "32/32 [==============================] - 0s 5ms/step - loss: 0.2301 - accuracy: 0.9141 - val_loss: 0.2127 - val_accuracy: 0.9336\n",
            "Epoch 31/100\n",
            "32/32 [==============================] - 0s 4ms/step - loss: 0.2251 - accuracy: 0.9238 - val_loss: 0.2153 - val_accuracy: 0.9141\n",
            "Epoch 32/100\n",
            "32/32 [==============================] - 0s 5ms/step - loss: 0.1892 - accuracy: 0.9307 - val_loss: 0.1827 - val_accuracy: 0.9336\n",
            "Epoch 33/100\n",
            "32/32 [==============================] - 0s 4ms/step - loss: 0.2518 - accuracy: 0.9141 - val_loss: 0.1747 - val_accuracy: 0.9453\n",
            "Epoch 34/100\n",
            "32/32 [==============================] - 0s 4ms/step - loss: 0.1902 - accuracy: 0.9355 - val_loss: 0.1780 - val_accuracy: 0.9414\n",
            "Epoch 35/100\n",
            "32/32 [==============================] - 0s 4ms/step - loss: 0.1830 - accuracy: 0.9336 - val_loss: 0.1761 - val_accuracy: 0.9336\n",
            "Epoch 36/100\n",
            "32/32 [==============================] - 0s 4ms/step - loss: 0.1892 - accuracy: 0.9326 - val_loss: 0.2622 - val_accuracy: 0.9102\n",
            "Epoch 37/100\n",
            "32/32 [==============================] - 0s 5ms/step - loss: 0.2043 - accuracy: 0.9307 - val_loss: 0.1853 - val_accuracy: 0.9414\n",
            "Epoch 38/100\n",
            "32/32 [==============================] - 0s 4ms/step - loss: 0.1900 - accuracy: 0.9307 - val_loss: 0.1755 - val_accuracy: 0.9453\n",
            "Epoch 39/100\n",
            "32/32 [==============================] - 0s 4ms/step - loss: 0.2035 - accuracy: 0.9248 - val_loss: 0.1746 - val_accuracy: 0.9336\n",
            "Epoch 40/100\n",
            "32/32 [==============================] - 0s 4ms/step - loss: 0.1900 - accuracy: 0.9336 - val_loss: 0.1788 - val_accuracy: 0.9336\n",
            "Epoch 41/100\n",
            "32/32 [==============================] - 0s 4ms/step - loss: 0.1896 - accuracy: 0.9385 - val_loss: 0.2018 - val_accuracy: 0.9375\n",
            "Epoch 42/100\n",
            "32/32 [==============================] - 0s 4ms/step - loss: 0.2314 - accuracy: 0.9258 - val_loss: 0.2032 - val_accuracy: 0.9258\n",
            "Epoch 43/100\n",
            "32/32 [==============================] - 0s 4ms/step - loss: 0.2155 - accuracy: 0.9238 - val_loss: 0.2046 - val_accuracy: 0.9258\n",
            "Epoch 44/100\n",
            "32/32 [==============================] - 0s 4ms/step - loss: 0.2066 - accuracy: 0.9307 - val_loss: 0.1760 - val_accuracy: 0.9453\n",
            "Epoch 45/100\n",
            "32/32 [==============================] - 0s 4ms/step - loss: 0.3963 - accuracy: 0.8848 - val_loss: 0.1930 - val_accuracy: 0.9375\n",
            "Epoch 46/100\n",
            "32/32 [==============================] - 0s 4ms/step - loss: 0.2035 - accuracy: 0.9326 - val_loss: 0.1774 - val_accuracy: 0.9414\n",
            "Epoch 47/100\n",
            "32/32 [==============================] - 0s 4ms/step - loss: 0.2579 - accuracy: 0.9150 - val_loss: 0.1863 - val_accuracy: 0.9258\n",
            "Epoch 48/100\n",
            "32/32 [==============================] - 0s 4ms/step - loss: 0.2121 - accuracy: 0.9268 - val_loss: 0.2830 - val_accuracy: 0.8984\n",
            "Epoch 49/100\n",
            "32/32 [==============================] - 0s 4ms/step - loss: 0.1910 - accuracy: 0.9365 - val_loss: 0.1798 - val_accuracy: 0.9453\n",
            "Epoch 50/100\n",
            "32/32 [==============================] - 0s 4ms/step - loss: 0.1892 - accuracy: 0.9346 - val_loss: 0.2030 - val_accuracy: 0.9219\n",
            "Epoch 51/100\n",
            "32/32 [==============================] - 0s 4ms/step - loss: 0.2036 - accuracy: 0.9326 - val_loss: 0.1665 - val_accuracy: 0.9492\n",
            "Epoch 52/100\n",
            "32/32 [==============================] - 0s 4ms/step - loss: 0.2061 - accuracy: 0.9316 - val_loss: 0.1819 - val_accuracy: 0.9453\n",
            "Epoch 53/100\n",
            "32/32 [==============================] - 0s 4ms/step - loss: 0.2088 - accuracy: 0.9238 - val_loss: 0.5413 - val_accuracy: 0.8555\n",
            "Epoch 54/100\n",
            "32/32 [==============================] - 0s 5ms/step - loss: 0.2091 - accuracy: 0.9326 - val_loss: 0.1689 - val_accuracy: 0.9531\n",
            "Epoch 55/100\n",
            "32/32 [==============================] - 0s 4ms/step - loss: 0.1785 - accuracy: 0.9404 - val_loss: 0.2032 - val_accuracy: 0.9219\n",
            "Epoch 56/100\n",
            "32/32 [==============================] - 0s 4ms/step - loss: 0.1778 - accuracy: 0.9355 - val_loss: 0.1854 - val_accuracy: 0.9258\n",
            "Epoch 57/100\n",
            "32/32 [==============================] - 0s 4ms/step - loss: 0.2338 - accuracy: 0.9199 - val_loss: 0.3296 - val_accuracy: 0.8945\n",
            "Epoch 58/100\n",
            "32/32 [==============================] - 0s 4ms/step - loss: 0.2166 - accuracy: 0.9287 - val_loss: 0.1791 - val_accuracy: 0.9453\n",
            "Epoch 59/100\n",
            "32/32 [==============================] - 0s 5ms/step - loss: 0.1934 - accuracy: 0.9355 - val_loss: 0.1729 - val_accuracy: 0.9531\n",
            "Epoch 60/100\n",
            "32/32 [==============================] - 0s 4ms/step - loss: 0.1968 - accuracy: 0.9326 - val_loss: 0.2198 - val_accuracy: 0.9336\n",
            "Epoch 61/100\n",
            "32/32 [==============================] - 0s 4ms/step - loss: 0.1902 - accuracy: 0.9336 - val_loss: 0.2104 - val_accuracy: 0.9219\n",
            "Epoch 62/100\n",
            "32/32 [==============================] - 0s 4ms/step - loss: 0.2097 - accuracy: 0.9209 - val_loss: 0.1866 - val_accuracy: 0.9297\n",
            "Epoch 63/100\n",
            "32/32 [==============================] - 0s 4ms/step - loss: 0.1779 - accuracy: 0.9424 - val_loss: 0.1802 - val_accuracy: 0.9453\n",
            "Epoch 64/100\n",
            "32/32 [==============================] - 0s 4ms/step - loss: 0.1818 - accuracy: 0.9346 - val_loss: 0.1810 - val_accuracy: 0.9297\n",
            "Epoch 65/100\n",
            "32/32 [==============================] - 0s 4ms/step - loss: 0.2203 - accuracy: 0.9219 - val_loss: 0.2293 - val_accuracy: 0.9141\n",
            "Epoch 66/100\n",
            "32/32 [==============================] - 0s 5ms/step - loss: 0.2202 - accuracy: 0.9277 - val_loss: 0.1800 - val_accuracy: 0.9297\n",
            "Epoch 67/100\n",
            "32/32 [==============================] - 0s 5ms/step - loss: 0.2145 - accuracy: 0.9316 - val_loss: 0.1728 - val_accuracy: 0.9336\n",
            "Epoch 68/100\n",
            "32/32 [==============================] - 0s 5ms/step - loss: 0.1735 - accuracy: 0.9443 - val_loss: 0.1827 - val_accuracy: 0.9102\n",
            "Epoch 69/100\n",
            "32/32 [==============================] - 0s 4ms/step - loss: 0.1889 - accuracy: 0.9307 - val_loss: 0.2381 - val_accuracy: 0.9141\n",
            "Epoch 70/100\n",
            "32/32 [==============================] - 0s 5ms/step - loss: 0.1739 - accuracy: 0.9355 - val_loss: 0.1661 - val_accuracy: 0.9531\n",
            "Epoch 71/100\n",
            "32/32 [==============================] - 0s 4ms/step - loss: 0.2260 - accuracy: 0.9121 - val_loss: 0.1656 - val_accuracy: 0.9453\n",
            "Epoch 72/100\n",
            "32/32 [==============================] - 0s 4ms/step - loss: 0.2130 - accuracy: 0.9297 - val_loss: 0.1690 - val_accuracy: 0.9492\n",
            "Epoch 73/100\n",
            "32/32 [==============================] - 0s 2ms/step - loss: 0.1685 - accuracy: 0.9443 - val_loss: 0.1676 - val_accuracy: 0.9492\n",
            "Epoch 74/100\n",
            "32/32 [==============================] - 0s 3ms/step - loss: 0.1811 - accuracy: 0.9355 - val_loss: 0.1660 - val_accuracy: 0.9297\n",
            "Epoch 75/100\n",
            "32/32 [==============================] - 0s 3ms/step - loss: 0.1955 - accuracy: 0.9326 - val_loss: 0.1655 - val_accuracy: 0.9453\n",
            "Epoch 76/100\n",
            "32/32 [==============================] - 0s 2ms/step - loss: 0.2044 - accuracy: 0.9248 - val_loss: 0.2428 - val_accuracy: 0.9258\n",
            "Epoch 77/100\n",
            "32/32 [==============================] - 0s 3ms/step - loss: 0.2336 - accuracy: 0.9209 - val_loss: 0.1731 - val_accuracy: 0.9453\n",
            "Epoch 78/100\n",
            "32/32 [==============================] - 0s 3ms/step - loss: 0.2250 - accuracy: 0.9316 - val_loss: 0.2626 - val_accuracy: 0.9062\n",
            "Epoch 79/100\n",
            "32/32 [==============================] - 0s 3ms/step - loss: 0.2012 - accuracy: 0.9355 - val_loss: 0.1659 - val_accuracy: 0.9414\n",
            "Epoch 80/100\n",
            "32/32 [==============================] - 0s 3ms/step - loss: 0.2201 - accuracy: 0.9297 - val_loss: 0.1828 - val_accuracy: 0.9297\n",
            "Epoch 81/100\n",
            "32/32 [==============================] - 0s 2ms/step - loss: 0.2106 - accuracy: 0.9258 - val_loss: 0.1825 - val_accuracy: 0.9453\n",
            "Epoch 82/100\n",
            "32/32 [==============================] - 0s 3ms/step - loss: 0.2084 - accuracy: 0.9268 - val_loss: 0.1754 - val_accuracy: 0.9297\n",
            "Epoch 83/100\n",
            "32/32 [==============================] - 0s 3ms/step - loss: 0.1795 - accuracy: 0.9385 - val_loss: 0.1848 - val_accuracy: 0.9297\n",
            "Epoch 84/100\n",
            "32/32 [==============================] - 0s 3ms/step - loss: 0.1957 - accuracy: 0.9277 - val_loss: 0.1839 - val_accuracy: 0.9258\n",
            "Epoch 85/100\n",
            "32/32 [==============================] - 0s 3ms/step - loss: 0.2133 - accuracy: 0.9326 - val_loss: 0.2083 - val_accuracy: 0.9336\n",
            "Epoch 86/100\n",
            "32/32 [==============================] - 0s 3ms/step - loss: 0.1749 - accuracy: 0.9434 - val_loss: 0.1797 - val_accuracy: 0.9258\n",
            "Epoch 87/100\n",
            "32/32 [==============================] - 0s 2ms/step - loss: 0.1787 - accuracy: 0.9424 - val_loss: 0.1928 - val_accuracy: 0.9258\n",
            "Epoch 88/100\n",
            "32/32 [==============================] - 0s 2ms/step - loss: 0.2016 - accuracy: 0.9336 - val_loss: 0.1877 - val_accuracy: 0.9375\n",
            "Epoch 89/100\n",
            "32/32 [==============================] - 0s 3ms/step - loss: 0.2281 - accuracy: 0.9219 - val_loss: 0.3593 - val_accuracy: 0.8828\n",
            "Epoch 90/100\n",
            "32/32 [==============================] - 0s 3ms/step - loss: 0.2453 - accuracy: 0.9238 - val_loss: 0.3436 - val_accuracy: 0.8945\n",
            "Epoch 91/100\n",
            "32/32 [==============================] - 0s 3ms/step - loss: 0.3421 - accuracy: 0.8984 - val_loss: 0.5256 - val_accuracy: 0.8555\n",
            "Epoch 92/100\n",
            "32/32 [==============================] - 0s 3ms/step - loss: 0.2624 - accuracy: 0.9121 - val_loss: 0.2091 - val_accuracy: 0.9336\n",
            "Epoch 93/100\n",
            "32/32 [==============================] - 0s 3ms/step - loss: 0.1784 - accuracy: 0.9424 - val_loss: 0.1771 - val_accuracy: 0.9375\n",
            "Epoch 94/100\n",
            "32/32 [==============================] - 0s 3ms/step - loss: 0.2215 - accuracy: 0.9248 - val_loss: 0.1721 - val_accuracy: 0.9375\n",
            "Epoch 95/100\n",
            "32/32 [==============================] - 0s 3ms/step - loss: 0.1781 - accuracy: 0.9375 - val_loss: 0.1910 - val_accuracy: 0.9258\n",
            "Epoch 96/100\n",
            "32/32 [==============================] - 0s 3ms/step - loss: 0.1888 - accuracy: 0.9395 - val_loss: 0.1926 - val_accuracy: 0.9375\n",
            "Epoch 97/100\n",
            "32/32 [==============================] - 0s 3ms/step - loss: 0.2039 - accuracy: 0.9336 - val_loss: 0.1641 - val_accuracy: 0.9336\n",
            "Epoch 98/100\n",
            "32/32 [==============================] - 0s 3ms/step - loss: 0.1762 - accuracy: 0.9395 - val_loss: 0.1644 - val_accuracy: 0.9492\n",
            "Epoch 99/100\n",
            "32/32 [==============================] - 0s 2ms/step - loss: 0.1771 - accuracy: 0.9434 - val_loss: 0.1655 - val_accuracy: 0.9492\n",
            "Epoch 100/100\n",
            "32/32 [==============================] - 0s 3ms/step - loss: 0.1781 - accuracy: 0.9375 - val_loss: 0.1764 - val_accuracy: 0.9453\n"
          ]
        },
        {
          "output_type": "execute_result",
          "data": {
            "text/plain": [
              "<keras.callbacks.History at 0x7f1c3db03c90>"
            ]
          },
          "metadata": {},
          "execution_count": 156
        }
      ]
    },
    {
      "cell_type": "markdown",
      "source": [
        "#### 90:10"
      ],
      "metadata": {
        "id": "SzjbTKEmYJn3"
      }
    },
    {
      "cell_type": "code",
      "source": [
        "X_train_90_10_np = np.array(X_train_90_10)\n",
        "X_test_90_10_np = np.array(X_test_90_10)\n",
        "\n",
        "LE = LabelEncoder()\n",
        "y_train_90_10_enc = LE.fit_transform(y_train_90_10)\n",
        "y_test_90_10_enc = LE.fit_transform(y_test_90_10)"
      ],
      "metadata": {
        "id": "BBi5ZN60YJn3"
      },
      "execution_count": null,
      "outputs": []
    },
    {
      "cell_type": "code",
      "source": [
        "ANN_90_10 = Sequential()\n",
        "\n",
        "ANN_90_10.add(Dense(units = 16, activation = 'relu', input_shape = (df.shape[1]-1,)))\n",
        "ANN_90_10.add(Dense(units = 16, activation = 'relu'))\n",
        "ANN_90_10.add(Dense(units = 1, activation = 'sigmoid'))\n",
        "ANN_90_10.compile(optimizer = \"adam\", loss = \"binary_crossentropy\", metrics = ['accuracy'])\n",
        "\n",
        "ANN_90_10.summary()"
      ],
      "metadata": {
        "colab": {
          "base_uri": "https://localhost:8080/"
        },
        "outputId": "2600256d-148d-4fea-fedd-fbe48d4b2dde",
        "id": "-ZwqEze9YJn4"
      },
      "execution_count": null,
      "outputs": [
        {
          "output_type": "stream",
          "name": "stdout",
          "text": [
            "Model: \"sequential_17\"\n",
            "_________________________________________________________________\n",
            " Layer (type)                Output Shape              Param #   \n",
            "=================================================================\n",
            " dense_49 (Dense)            (None, 16)                192       \n",
            "                                                                 \n",
            " dense_50 (Dense)            (None, 16)                272       \n",
            "                                                                 \n",
            " dense_51 (Dense)            (None, 1)                 17        \n",
            "                                                                 \n",
            "=================================================================\n",
            "Total params: 481\n",
            "Trainable params: 481\n",
            "Non-trainable params: 0\n",
            "_________________________________________________________________\n"
          ]
        }
      ]
    },
    {
      "cell_type": "code",
      "source": [
        "ANN_90_10.fit(X_train_90_10_np, y_train_90_10_enc, epochs = 100, validation_split = 0.2)"
      ],
      "metadata": {
        "colab": {
          "base_uri": "https://localhost:8080/"
        },
        "outputId": "34e3db83-4dd2-41f3-8660-b3158d3f68c2",
        "id": "xb1ggXH_YJn4"
      },
      "execution_count": null,
      "outputs": [
        {
          "output_type": "stream",
          "name": "stdout",
          "text": [
            "Epoch 1/100\n",
            "36/36 [==============================] - 2s 16ms/step - loss: 3.5961 - accuracy: 0.6936 - val_loss: 0.5609 - val_accuracy: 0.8403\n",
            "Epoch 2/100\n",
            "36/36 [==============================] - 0s 5ms/step - loss: 0.4713 - accuracy: 0.8568 - val_loss: 0.2627 - val_accuracy: 0.8993\n",
            "Epoch 3/100\n",
            "36/36 [==============================] - 0s 5ms/step - loss: 0.2790 - accuracy: 0.8967 - val_loss: 0.2113 - val_accuracy: 0.9271\n",
            "Epoch 4/100\n",
            "36/36 [==============================] - 0s 6ms/step - loss: 0.2046 - accuracy: 0.9253 - val_loss: 0.1969 - val_accuracy: 0.9340\n",
            "Epoch 5/100\n",
            "36/36 [==============================] - 0s 4ms/step - loss: 0.1976 - accuracy: 0.9262 - val_loss: 0.1838 - val_accuracy: 0.9444\n",
            "Epoch 6/100\n",
            "36/36 [==============================] - 0s 4ms/step - loss: 0.1810 - accuracy: 0.9323 - val_loss: 0.1915 - val_accuracy: 0.9410\n",
            "Epoch 7/100\n",
            "36/36 [==============================] - 0s 5ms/step - loss: 0.1863 - accuracy: 0.9410 - val_loss: 0.1782 - val_accuracy: 0.9410\n",
            "Epoch 8/100\n",
            "36/36 [==============================] - 0s 4ms/step - loss: 0.1636 - accuracy: 0.9444 - val_loss: 0.2024 - val_accuracy: 0.9375\n",
            "Epoch 9/100\n",
            "36/36 [==============================] - 0s 4ms/step - loss: 0.2068 - accuracy: 0.9253 - val_loss: 0.1828 - val_accuracy: 0.9375\n",
            "Epoch 10/100\n",
            "36/36 [==============================] - 0s 6ms/step - loss: 0.1653 - accuracy: 0.9418 - val_loss: 0.1821 - val_accuracy: 0.9444\n",
            "Epoch 11/100\n",
            "36/36 [==============================] - 0s 4ms/step - loss: 0.1737 - accuracy: 0.9453 - val_loss: 0.2468 - val_accuracy: 0.8889\n",
            "Epoch 12/100\n",
            "36/36 [==============================] - 0s 4ms/step - loss: 0.2028 - accuracy: 0.9236 - val_loss: 0.1797 - val_accuracy: 0.9375\n",
            "Epoch 13/100\n",
            "36/36 [==============================] - 0s 4ms/step - loss: 0.1750 - accuracy: 0.9401 - val_loss: 0.1778 - val_accuracy: 0.9479\n",
            "Epoch 14/100\n",
            "36/36 [==============================] - 0s 4ms/step - loss: 0.1853 - accuracy: 0.9366 - val_loss: 0.2159 - val_accuracy: 0.9410\n",
            "Epoch 15/100\n",
            "36/36 [==============================] - 0s 4ms/step - loss: 0.2263 - accuracy: 0.9167 - val_loss: 0.1757 - val_accuracy: 0.9410\n",
            "Epoch 16/100\n",
            "36/36 [==============================] - 0s 5ms/step - loss: 0.1996 - accuracy: 0.9271 - val_loss: 0.1902 - val_accuracy: 0.9375\n",
            "Epoch 17/100\n",
            "36/36 [==============================] - 0s 3ms/step - loss: 0.1672 - accuracy: 0.9392 - val_loss: 0.2123 - val_accuracy: 0.9306\n",
            "Epoch 18/100\n",
            "36/36 [==============================] - 0s 4ms/step - loss: 0.1699 - accuracy: 0.9358 - val_loss: 0.1682 - val_accuracy: 0.9375\n",
            "Epoch 19/100\n",
            "36/36 [==============================] - 0s 4ms/step - loss: 0.2414 - accuracy: 0.9158 - val_loss: 0.7058 - val_accuracy: 0.8160\n",
            "Epoch 20/100\n",
            "36/36 [==============================] - 0s 4ms/step - loss: 0.2168 - accuracy: 0.9253 - val_loss: 0.1973 - val_accuracy: 0.9444\n",
            "Epoch 21/100\n",
            "36/36 [==============================] - 0s 4ms/step - loss: 0.1642 - accuracy: 0.9384 - val_loss: 0.2084 - val_accuracy: 0.9306\n",
            "Epoch 22/100\n",
            "36/36 [==============================] - 0s 4ms/step - loss: 0.1684 - accuracy: 0.9375 - val_loss: 0.1928 - val_accuracy: 0.9444\n",
            "Epoch 23/100\n",
            "36/36 [==============================] - 0s 5ms/step - loss: 0.1881 - accuracy: 0.9340 - val_loss: 0.1682 - val_accuracy: 0.9410\n",
            "Epoch 24/100\n",
            "36/36 [==============================] - 0s 5ms/step - loss: 0.1527 - accuracy: 0.9470 - val_loss: 0.1740 - val_accuracy: 0.9375\n",
            "Epoch 25/100\n",
            "36/36 [==============================] - 0s 5ms/step - loss: 0.2384 - accuracy: 0.9123 - val_loss: 0.4095 - val_accuracy: 0.8472\n",
            "Epoch 26/100\n",
            "36/36 [==============================] - 0s 4ms/step - loss: 0.2073 - accuracy: 0.9262 - val_loss: 0.1690 - val_accuracy: 0.9410\n",
            "Epoch 27/100\n",
            "36/36 [==============================] - 0s 4ms/step - loss: 0.1727 - accuracy: 0.9427 - val_loss: 0.1776 - val_accuracy: 0.9375\n",
            "Epoch 28/100\n",
            "36/36 [==============================] - 0s 4ms/step - loss: 0.1601 - accuracy: 0.9444 - val_loss: 0.1698 - val_accuracy: 0.9514\n",
            "Epoch 29/100\n",
            "36/36 [==============================] - 0s 4ms/step - loss: 0.2004 - accuracy: 0.9245 - val_loss: 0.1892 - val_accuracy: 0.9479\n",
            "Epoch 30/100\n",
            "36/36 [==============================] - 0s 4ms/step - loss: 0.2606 - accuracy: 0.9062 - val_loss: 0.2297 - val_accuracy: 0.9132\n",
            "Epoch 31/100\n",
            "36/36 [==============================] - 0s 4ms/step - loss: 0.1872 - accuracy: 0.9366 - val_loss: 0.1708 - val_accuracy: 0.9479\n",
            "Epoch 32/100\n",
            "36/36 [==============================] - 0s 4ms/step - loss: 0.1744 - accuracy: 0.9418 - val_loss: 0.1663 - val_accuracy: 0.9479\n",
            "Epoch 33/100\n",
            "36/36 [==============================] - 0s 4ms/step - loss: 0.2011 - accuracy: 0.9297 - val_loss: 0.1661 - val_accuracy: 0.9444\n",
            "Epoch 34/100\n",
            "36/36 [==============================] - 0s 4ms/step - loss: 0.1787 - accuracy: 0.9340 - val_loss: 0.1626 - val_accuracy: 0.9479\n",
            "Epoch 35/100\n",
            "36/36 [==============================] - 0s 4ms/step - loss: 0.1815 - accuracy: 0.9323 - val_loss: 0.1774 - val_accuracy: 0.9375\n",
            "Epoch 36/100\n",
            "36/36 [==============================] - 0s 4ms/step - loss: 0.1597 - accuracy: 0.9375 - val_loss: 0.1622 - val_accuracy: 0.9549\n",
            "Epoch 37/100\n",
            "36/36 [==============================] - 0s 4ms/step - loss: 0.1530 - accuracy: 0.9444 - val_loss: 0.1635 - val_accuracy: 0.9375\n",
            "Epoch 38/100\n",
            "36/36 [==============================] - 0s 4ms/step - loss: 0.1817 - accuracy: 0.9323 - val_loss: 0.1997 - val_accuracy: 0.9271\n",
            "Epoch 39/100\n",
            "36/36 [==============================] - 0s 4ms/step - loss: 0.1708 - accuracy: 0.9427 - val_loss: 0.1666 - val_accuracy: 0.9410\n",
            "Epoch 40/100\n",
            "36/36 [==============================] - 0s 4ms/step - loss: 0.1788 - accuracy: 0.9288 - val_loss: 0.1888 - val_accuracy: 0.9340\n",
            "Epoch 41/100\n",
            "36/36 [==============================] - 0s 4ms/step - loss: 0.1597 - accuracy: 0.9427 - val_loss: 0.1594 - val_accuracy: 0.9410\n",
            "Epoch 42/100\n",
            "36/36 [==============================] - 0s 4ms/step - loss: 0.1627 - accuracy: 0.9427 - val_loss: 0.1899 - val_accuracy: 0.9306\n",
            "Epoch 43/100\n",
            "36/36 [==============================] - 0s 4ms/step - loss: 0.1709 - accuracy: 0.9401 - val_loss: 0.1756 - val_accuracy: 0.9444\n",
            "Epoch 44/100\n",
            "36/36 [==============================] - 0s 4ms/step - loss: 0.2000 - accuracy: 0.9253 - val_loss: 0.2223 - val_accuracy: 0.9271\n",
            "Epoch 45/100\n",
            "36/36 [==============================] - 0s 4ms/step - loss: 0.1621 - accuracy: 0.9479 - val_loss: 0.1602 - val_accuracy: 0.9410\n",
            "Epoch 46/100\n",
            "36/36 [==============================] - 0s 4ms/step - loss: 0.1503 - accuracy: 0.9470 - val_loss: 0.1706 - val_accuracy: 0.9375\n",
            "Epoch 47/100\n",
            "36/36 [==============================] - 0s 4ms/step - loss: 0.1930 - accuracy: 0.9262 - val_loss: 0.1662 - val_accuracy: 0.9375\n",
            "Epoch 48/100\n",
            "36/36 [==============================] - 0s 4ms/step - loss: 0.1557 - accuracy: 0.9462 - val_loss: 0.1772 - val_accuracy: 0.9479\n",
            "Epoch 49/100\n",
            "36/36 [==============================] - 0s 4ms/step - loss: 0.1665 - accuracy: 0.9384 - val_loss: 0.1660 - val_accuracy: 0.9375\n",
            "Epoch 50/100\n",
            "36/36 [==============================] - 0s 5ms/step - loss: 0.1759 - accuracy: 0.9427 - val_loss: 0.1841 - val_accuracy: 0.9479\n",
            "Epoch 51/100\n",
            "36/36 [==============================] - 0s 4ms/step - loss: 0.1714 - accuracy: 0.9427 - val_loss: 0.2065 - val_accuracy: 0.9271\n",
            "Epoch 52/100\n",
            "36/36 [==============================] - 0s 4ms/step - loss: 0.1619 - accuracy: 0.9401 - val_loss: 0.1709 - val_accuracy: 0.9444\n",
            "Epoch 53/100\n",
            "36/36 [==============================] - 0s 4ms/step - loss: 0.1787 - accuracy: 0.9358 - val_loss: 0.1713 - val_accuracy: 0.9410\n",
            "Epoch 54/100\n",
            "36/36 [==============================] - 0s 4ms/step - loss: 0.2163 - accuracy: 0.9210 - val_loss: 0.1998 - val_accuracy: 0.9306\n",
            "Epoch 55/100\n",
            "36/36 [==============================] - 0s 4ms/step - loss: 0.1862 - accuracy: 0.9332 - val_loss: 0.1834 - val_accuracy: 0.9340\n",
            "Epoch 56/100\n",
            "36/36 [==============================] - 0s 4ms/step - loss: 0.1797 - accuracy: 0.9349 - val_loss: 0.1650 - val_accuracy: 0.9410\n",
            "Epoch 57/100\n",
            "36/36 [==============================] - 0s 5ms/step - loss: 0.2973 - accuracy: 0.9054 - val_loss: 0.2322 - val_accuracy: 0.9271\n",
            "Epoch 58/100\n",
            "36/36 [==============================] - 0s 4ms/step - loss: 0.2433 - accuracy: 0.9236 - val_loss: 0.1819 - val_accuracy: 0.9306\n",
            "Epoch 59/100\n",
            "36/36 [==============================] - 0s 4ms/step - loss: 0.1648 - accuracy: 0.9410 - val_loss: 0.1601 - val_accuracy: 0.9479\n",
            "Epoch 60/100\n",
            "36/36 [==============================] - 0s 4ms/step - loss: 0.1522 - accuracy: 0.9462 - val_loss: 0.1627 - val_accuracy: 0.9375\n",
            "Epoch 61/100\n",
            "36/36 [==============================] - 0s 4ms/step - loss: 0.1748 - accuracy: 0.9418 - val_loss: 0.1832 - val_accuracy: 0.9340\n",
            "Epoch 62/100\n",
            "36/36 [==============================] - 0s 4ms/step - loss: 0.2016 - accuracy: 0.9340 - val_loss: 0.5226 - val_accuracy: 0.8299\n",
            "Epoch 63/100\n",
            "36/36 [==============================] - 0s 4ms/step - loss: 0.2931 - accuracy: 0.8924 - val_loss: 0.2603 - val_accuracy: 0.8993\n",
            "Epoch 64/100\n",
            "36/36 [==============================] - 0s 4ms/step - loss: 0.1731 - accuracy: 0.9384 - val_loss: 0.1780 - val_accuracy: 0.9306\n",
            "Epoch 65/100\n",
            "36/36 [==============================] - 0s 4ms/step - loss: 0.1911 - accuracy: 0.9340 - val_loss: 0.1875 - val_accuracy: 0.9375\n",
            "Epoch 66/100\n",
            "36/36 [==============================] - 0s 5ms/step - loss: 0.1835 - accuracy: 0.9297 - val_loss: 0.1785 - val_accuracy: 0.9375\n",
            "Epoch 67/100\n",
            "36/36 [==============================] - 0s 5ms/step - loss: 0.1630 - accuracy: 0.9401 - val_loss: 0.2007 - val_accuracy: 0.9097\n",
            "Epoch 68/100\n",
            "36/36 [==============================] - 0s 5ms/step - loss: 0.1698 - accuracy: 0.9401 - val_loss: 0.1725 - val_accuracy: 0.9410\n",
            "Epoch 69/100\n",
            "36/36 [==============================] - 0s 5ms/step - loss: 0.1919 - accuracy: 0.9297 - val_loss: 0.1553 - val_accuracy: 0.9479\n",
            "Epoch 70/100\n",
            "36/36 [==============================] - 0s 4ms/step - loss: 0.1542 - accuracy: 0.9470 - val_loss: 0.1683 - val_accuracy: 0.9410\n",
            "Epoch 71/100\n",
            "36/36 [==============================] - 0s 5ms/step - loss: 0.1480 - accuracy: 0.9453 - val_loss: 0.1887 - val_accuracy: 0.9306\n",
            "Epoch 72/100\n",
            "36/36 [==============================] - 0s 4ms/step - loss: 0.1525 - accuracy: 0.9444 - val_loss: 0.1567 - val_accuracy: 0.9444\n",
            "Epoch 73/100\n",
            "36/36 [==============================] - 0s 2ms/step - loss: 0.1499 - accuracy: 0.9505 - val_loss: 0.1601 - val_accuracy: 0.9410\n",
            "Epoch 74/100\n",
            "36/36 [==============================] - 0s 3ms/step - loss: 0.1888 - accuracy: 0.9288 - val_loss: 0.2339 - val_accuracy: 0.9132\n",
            "Epoch 75/100\n",
            "36/36 [==============================] - 0s 3ms/step - loss: 0.2799 - accuracy: 0.9158 - val_loss: 0.1916 - val_accuracy: 0.9444\n",
            "Epoch 76/100\n",
            "36/36 [==============================] - 0s 3ms/step - loss: 0.1594 - accuracy: 0.9427 - val_loss: 0.1903 - val_accuracy: 0.9444\n",
            "Epoch 77/100\n",
            "36/36 [==============================] - 0s 3ms/step - loss: 0.2200 - accuracy: 0.9253 - val_loss: 0.1585 - val_accuracy: 0.9375\n",
            "Epoch 78/100\n",
            "36/36 [==============================] - 0s 3ms/step - loss: 0.2144 - accuracy: 0.9219 - val_loss: 0.1637 - val_accuracy: 0.9410\n",
            "Epoch 79/100\n",
            "36/36 [==============================] - 0s 3ms/step - loss: 0.1691 - accuracy: 0.9436 - val_loss: 0.1797 - val_accuracy: 0.9444\n",
            "Epoch 80/100\n",
            "36/36 [==============================] - 0s 3ms/step - loss: 0.2231 - accuracy: 0.9236 - val_loss: 0.3658 - val_accuracy: 0.8750\n",
            "Epoch 81/100\n",
            "36/36 [==============================] - 0s 3ms/step - loss: 0.2508 - accuracy: 0.9158 - val_loss: 0.1583 - val_accuracy: 0.9479\n",
            "Epoch 82/100\n",
            "36/36 [==============================] - 0s 3ms/step - loss: 0.1790 - accuracy: 0.9366 - val_loss: 0.2762 - val_accuracy: 0.9062\n",
            "Epoch 83/100\n",
            "36/36 [==============================] - 0s 3ms/step - loss: 0.1764 - accuracy: 0.9427 - val_loss: 0.1568 - val_accuracy: 0.9479\n",
            "Epoch 84/100\n",
            "36/36 [==============================] - 0s 2ms/step - loss: 0.1530 - accuracy: 0.9488 - val_loss: 0.1716 - val_accuracy: 0.9340\n",
            "Epoch 85/100\n",
            "36/36 [==============================] - 0s 2ms/step - loss: 0.1565 - accuracy: 0.9514 - val_loss: 0.1454 - val_accuracy: 0.9514\n",
            "Epoch 86/100\n",
            "36/36 [==============================] - 0s 2ms/step - loss: 0.1446 - accuracy: 0.9470 - val_loss: 0.1528 - val_accuracy: 0.9479\n",
            "Epoch 87/100\n",
            "36/36 [==============================] - 0s 2ms/step - loss: 0.1537 - accuracy: 0.9444 - val_loss: 0.1650 - val_accuracy: 0.9306\n",
            "Epoch 88/100\n",
            "36/36 [==============================] - 0s 3ms/step - loss: 0.1551 - accuracy: 0.9401 - val_loss: 0.1822 - val_accuracy: 0.9410\n",
            "Epoch 89/100\n",
            "36/36 [==============================] - 0s 3ms/step - loss: 0.1787 - accuracy: 0.9366 - val_loss: 0.1707 - val_accuracy: 0.9375\n",
            "Epoch 90/100\n",
            "36/36 [==============================] - 0s 2ms/step - loss: 0.1510 - accuracy: 0.9470 - val_loss: 0.1528 - val_accuracy: 0.9549\n",
            "Epoch 91/100\n",
            "36/36 [==============================] - 0s 3ms/step - loss: 0.1560 - accuracy: 0.9444 - val_loss: 0.1661 - val_accuracy: 0.9340\n",
            "Epoch 92/100\n",
            "36/36 [==============================] - 0s 3ms/step - loss: 0.1570 - accuracy: 0.9444 - val_loss: 0.1484 - val_accuracy: 0.9479\n",
            "Epoch 93/100\n",
            "36/36 [==============================] - 0s 3ms/step - loss: 0.1660 - accuracy: 0.9418 - val_loss: 0.2487 - val_accuracy: 0.9167\n",
            "Epoch 94/100\n",
            "36/36 [==============================] - 0s 3ms/step - loss: 0.1759 - accuracy: 0.9410 - val_loss: 0.1503 - val_accuracy: 0.9479\n",
            "Epoch 95/100\n",
            "36/36 [==============================] - 0s 3ms/step - loss: 0.1460 - accuracy: 0.9462 - val_loss: 0.1745 - val_accuracy: 0.9236\n",
            "Epoch 96/100\n",
            "36/36 [==============================] - 0s 3ms/step - loss: 0.1573 - accuracy: 0.9436 - val_loss: 0.1586 - val_accuracy: 0.9479\n",
            "Epoch 97/100\n",
            "36/36 [==============================] - 0s 3ms/step - loss: 0.1516 - accuracy: 0.9410 - val_loss: 0.1532 - val_accuracy: 0.9514\n",
            "Epoch 98/100\n",
            "36/36 [==============================] - 0s 3ms/step - loss: 0.1377 - accuracy: 0.9505 - val_loss: 0.1759 - val_accuracy: 0.9306\n",
            "Epoch 99/100\n",
            "36/36 [==============================] - 0s 3ms/step - loss: 0.1571 - accuracy: 0.9479 - val_loss: 0.1570 - val_accuracy: 0.9479\n",
            "Epoch 100/100\n",
            "36/36 [==============================] - 0s 3ms/step - loss: 0.1649 - accuracy: 0.9462 - val_loss: 0.1567 - val_accuracy: 0.9479\n"
          ]
        },
        {
          "output_type": "execute_result",
          "data": {
            "text/plain": [
              "<keras.callbacks.History at 0x7f1c39768150>"
            ]
          },
          "metadata": {},
          "execution_count": 159
        }
      ]
    },
    {
      "cell_type": "markdown",
      "source": [
        "### Testing and evaluation (SVM) models"
      ],
      "metadata": {
        "id": "WP5OiViLP2iA"
      }
    },
    {
      "cell_type": "markdown",
      "source": [
        "#### 10:90"
      ],
      "metadata": {
        "id": "EPTe3tj9QKnb"
      }
    },
    {
      "cell_type": "markdown",
      "source": [
        "##### Kernel RBF"
      ],
      "metadata": {
        "id": "PhA4arUmQKnc"
      }
    },
    {
      "cell_type": "code",
      "source": [
        "y_pred_SVM_10_90_RBF = SVM_10_90_RBF.predict(X_test_10_90)\n",
        "acc_score_SVM_10_90_RBF = accuracy_score(y_pred_SVM_10_90_RBF, y_test_10_90)\n",
        "clf_report_SVM_10_90_RBF = classification_report(y_pred_SVM_10_90_RBF, y_test_10_90)\n",
        "\n",
        "print('Accuracy Score :\\n{}'.format(acc_score_SVM_10_90_RBF))\n",
        "print('\\n\\n')\n",
        "print('Classification Report :\\n{}'.format(clf_report_SVM_10_90_RBF))"
      ],
      "metadata": {
        "colab": {
          "base_uri": "https://localhost:8080/"
        },
        "outputId": "8e978ccd-1c86-49a2-fc01-92a79dca9383",
        "id": "5Fj8WUDHQKnc"
      },
      "execution_count": null,
      "outputs": [
        {
          "output_type": "stream",
          "name": "stdout",
          "text": [
            "Accuracy Score :\n",
            "0.8701388888888889\n",
            "\n",
            "\n",
            "\n",
            "Classification Report :\n",
            "              precision    recall  f1-score   support\n",
            "\n",
            "       cacat       0.98      0.80      0.88       881\n",
            " tidak_cacat       0.76      0.98      0.85       559\n",
            "\n",
            "    accuracy                           0.87      1440\n",
            "   macro avg       0.87      0.89      0.87      1440\n",
            "weighted avg       0.90      0.87      0.87      1440\n",
            "\n"
          ]
        }
      ]
    },
    {
      "cell_type": "markdown",
      "source": [
        "##### Kernel Polynomial"
      ],
      "metadata": {
        "id": "5oakVvYBQKnd"
      }
    },
    {
      "cell_type": "code",
      "source": [
        "y_pred_SVM_10_90_poly = SVM_10_90_poly.predict(X_test_10_90)\n",
        "acc_score_SVM_10_90_poly = accuracy_score(y_pred_SVM_10_90_poly, y_test_10_90)\n",
        "clf_report_SVM_10_90_poly = classification_report(y_pred_SVM_10_90_poly, y_test_10_90)\n",
        "\n",
        "print('Accuracy Score :\\n{}'.format(acc_score_SVM_10_90_poly))\n",
        "print('\\n\\n')\n",
        "print('Classification Report :\\n{}'.format(clf_report_SVM_10_90_poly))"
      ],
      "metadata": {
        "colab": {
          "base_uri": "https://localhost:8080/"
        },
        "outputId": "9655821e-3e61-468f-9a1d-3e93a98b9fe4",
        "id": "fbwVBP-rQKnd"
      },
      "execution_count": null,
      "outputs": [
        {
          "output_type": "stream",
          "name": "stdout",
          "text": [
            "Accuracy Score :\n",
            "0.8715277777777778\n",
            "\n",
            "\n",
            "\n",
            "Classification Report :\n",
            "              precision    recall  f1-score   support\n",
            "\n",
            "       cacat       0.98      0.80      0.88       879\n",
            " tidak_cacat       0.76      0.98      0.86       561\n",
            "\n",
            "    accuracy                           0.87      1440\n",
            "   macro avg       0.87      0.89      0.87      1440\n",
            "weighted avg       0.90      0.87      0.87      1440\n",
            "\n"
          ]
        }
      ]
    },
    {
      "cell_type": "markdown",
      "source": [
        "##### Kernel Sigmoid"
      ],
      "metadata": {
        "id": "cE16_QmVQKne"
      }
    },
    {
      "cell_type": "code",
      "source": [
        "y_pred_SVM_10_90_sigmoid = SVM_10_90_sigmoid.predict(X_test_10_90)\n",
        "acc_score_SVM_10_90_sigmoid = accuracy_score(y_pred_SVM_10_90_sigmoid, y_test_10_90)\n",
        "clf_report_SVM_10_90_sigmoid = classification_report(y_pred_SVM_10_90_sigmoid, y_test_10_90)\n",
        "\n",
        "print('Accuracy Score :\\n{}'.format(acc_score_SVM_10_90_sigmoid))\n",
        "print('\\n\\n')\n",
        "print('Classification Report :\\n{}'.format(clf_report_SVM_10_90_sigmoid))"
      ],
      "metadata": {
        "colab": {
          "base_uri": "https://localhost:8080/"
        },
        "outputId": "03eea4b1-0576-4548-ab84-23c6ba967fd7",
        "id": "ZaDovFJfQKne"
      },
      "execution_count": null,
      "outputs": [
        {
          "output_type": "stream",
          "name": "stdout",
          "text": [
            "Accuracy Score :\n",
            "0.5159722222222223\n",
            "\n",
            "\n",
            "\n",
            "Classification Report :\n",
            "              precision    recall  f1-score   support\n",
            "\n",
            "       cacat       0.49      0.52      0.50       683\n",
            " tidak_cacat       0.54      0.52      0.53       757\n",
            "\n",
            "    accuracy                           0.52      1440\n",
            "   macro avg       0.52      0.52      0.52      1440\n",
            "weighted avg       0.52      0.52      0.52      1440\n",
            "\n"
          ]
        }
      ]
    },
    {
      "cell_type": "markdown",
      "source": [
        "#### 20:80"
      ],
      "metadata": {
        "id": "2eyyDYfOQKne"
      }
    },
    {
      "cell_type": "markdown",
      "source": [
        "##### Kernel RBF"
      ],
      "metadata": {
        "id": "ZYuw97qzR2PE"
      }
    },
    {
      "cell_type": "code",
      "source": [
        "y_pred_SVM_20_80_RBF = SVM_20_80_RBF.predict(X_test_20_80)\n",
        "acc_score_SVM_20_80_RBF = accuracy_score(y_pred_SVM_20_80_RBF, y_test_20_80)\n",
        "clf_report_SVM_20_80_RBF = classification_report(y_pred_SVM_20_80_RBF, y_test_20_80)\n",
        "\n",
        "print('Accuracy Score :\\n{}'.format(acc_score_SVM_20_80_RBF))\n",
        "print('\\n\\n')\n",
        "print('Classification Report :\\n{}'.format(clf_report_SVM_20_80_RBF))"
      ],
      "metadata": {
        "colab": {
          "base_uri": "https://localhost:8080/"
        },
        "outputId": "3f5e10dd-3adc-49ef-d9d8-69a53e00a848",
        "id": "J-CRrp6JR2PF"
      },
      "execution_count": null,
      "outputs": [
        {
          "output_type": "stream",
          "name": "stdout",
          "text": [
            "Accuracy Score :\n",
            "0.87265625\n",
            "\n",
            "\n",
            "\n",
            "Classification Report :\n",
            "              precision    recall  f1-score   support\n",
            "\n",
            "       cacat       0.98      0.81      0.89       779\n",
            " tidak_cacat       0.76      0.98      0.86       501\n",
            "\n",
            "    accuracy                           0.87      1280\n",
            "   macro avg       0.87      0.89      0.87      1280\n",
            "weighted avg       0.90      0.87      0.87      1280\n",
            "\n"
          ]
        }
      ]
    },
    {
      "cell_type": "markdown",
      "source": [
        "##### Kernel Polynomial"
      ],
      "metadata": {
        "id": "r42yNwjPR2PF"
      }
    },
    {
      "cell_type": "code",
      "source": [
        "y_pred_SVM_20_80_poly = SVM_20_80_poly.predict(X_test_20_80)\n",
        "acc_score_SVM_20_80_poly = accuracy_score(y_pred_SVM_20_80_poly, y_test_20_80)\n",
        "clf_report_SVM_20_80_poly = classification_report(y_pred_SVM_20_80_poly, y_test_20_80)\n",
        "\n",
        "print('Accuracy Score :\\n{}'.format(acc_score_SVM_20_80_poly))\n",
        "print('\\n\\n')\n",
        "print('Classification Report :\\n{}'.format(clf_report_SVM_20_80_poly))"
      ],
      "metadata": {
        "colab": {
          "base_uri": "https://localhost:8080/"
        },
        "outputId": "98231ae6-5c55-4670-eca0-9feee5b0a55c",
        "id": "OmORiTaNR2PF"
      },
      "execution_count": null,
      "outputs": [
        {
          "output_type": "stream",
          "name": "stdout",
          "text": [
            "Accuracy Score :\n",
            "0.86171875\n",
            "\n",
            "\n",
            "\n",
            "Classification Report :\n",
            "              precision    recall  f1-score   support\n",
            "\n",
            "       cacat       0.98      0.79      0.88       793\n",
            " tidak_cacat       0.74      0.98      0.84       487\n",
            "\n",
            "    accuracy                           0.86      1280\n",
            "   macro avg       0.86      0.88      0.86      1280\n",
            "weighted avg       0.89      0.86      0.86      1280\n",
            "\n"
          ]
        }
      ]
    },
    {
      "cell_type": "markdown",
      "source": [
        "##### Kernel Sigmoid"
      ],
      "metadata": {
        "id": "77aHOxPbR2PG"
      }
    },
    {
      "cell_type": "code",
      "source": [
        "y_pred_SVM_20_80_sigmoid = SVM_20_80_sigmoid.predict(X_test_20_80)\n",
        "acc_score_SVM_20_80_sigmoid = accuracy_score(y_pred_SVM_20_80_sigmoid, y_test_20_80)\n",
        "clf_report_SVM_20_80_sigmoid = classification_report(y_pred_SVM_20_80_sigmoid, y_test_20_80)\n",
        "\n",
        "print('Accuracy Score :\\n{}'.format(acc_score_SVM_20_80_sigmoid))\n",
        "print('\\n\\n')\n",
        "print('Classification Report :\\n{}'.format(clf_report_SVM_20_80_sigmoid))"
      ],
      "metadata": {
        "colab": {
          "base_uri": "https://localhost:8080/"
        },
        "outputId": "dde5a7dc-55fa-4b3a-db1d-327a92ec992b",
        "id": "zTuBChakR2PG"
      },
      "execution_count": null,
      "outputs": [
        {
          "output_type": "stream",
          "name": "stdout",
          "text": [
            "Accuracy Score :\n",
            "0.51953125\n",
            "\n",
            "\n",
            "\n",
            "Classification Report :\n",
            "              precision    recall  f1-score   support\n",
            "\n",
            "       cacat       0.50      0.52      0.51       613\n",
            " tidak_cacat       0.54      0.52      0.53       667\n",
            "\n",
            "    accuracy                           0.52      1280\n",
            "   macro avg       0.52      0.52      0.52      1280\n",
            "weighted avg       0.52      0.52      0.52      1280\n",
            "\n"
          ]
        }
      ]
    },
    {
      "cell_type": "markdown",
      "source": [
        "#### 30:70"
      ],
      "metadata": {
        "id": "XqLJR1m_SVTo"
      }
    },
    {
      "cell_type": "markdown",
      "source": [
        "##### Kernel RBF"
      ],
      "metadata": {
        "id": "IG0cAPH4SaHr"
      }
    },
    {
      "cell_type": "code",
      "source": [
        "y_pred_SVM_30_70_RBF = SVM_30_70_RBF.predict(X_test_30_70)\n",
        "acc_score_SVM_30_70_RBF = accuracy_score(y_pred_SVM_30_70_RBF, y_test_30_70)\n",
        "clf_report_SVM_30_70_RBF = classification_report(y_pred_SVM_30_70_RBF, y_test_30_70)\n",
        "\n",
        "print('Accuracy Score :\\n{}'.format(acc_score_SVM_30_70_RBF))\n",
        "print('\\n\\n')\n",
        "print('Classification Report :\\n{}'.format(clf_report_SVM_30_70_RBF))"
      ],
      "metadata": {
        "colab": {
          "base_uri": "https://localhost:8080/"
        },
        "outputId": "2ee76cbc-382d-4763-9bf4-c9e26b090c6e",
        "id": "_FAXis_MSaHs"
      },
      "execution_count": null,
      "outputs": [
        {
          "output_type": "stream",
          "name": "stdout",
          "text": [
            "Accuracy Score :\n",
            "0.8758928571428571\n",
            "\n",
            "\n",
            "\n",
            "Classification Report :\n",
            "              precision    recall  f1-score   support\n",
            "\n",
            "       cacat       0.98      0.81      0.89       679\n",
            " tidak_cacat       0.77      0.98      0.86       441\n",
            "\n",
            "    accuracy                           0.88      1120\n",
            "   macro avg       0.88      0.89      0.87      1120\n",
            "weighted avg       0.90      0.88      0.88      1120\n",
            "\n"
          ]
        }
      ]
    },
    {
      "cell_type": "markdown",
      "source": [
        "##### Kernel Polynomial"
      ],
      "metadata": {
        "id": "7GeWY69gSaHs"
      }
    },
    {
      "cell_type": "code",
      "source": [
        "y_pred_SVM_30_70_poly = SVM_30_70_poly.predict(X_test_30_70)\n",
        "acc_score_SVM_30_70_poly = accuracy_score(y_pred_SVM_30_70_poly, y_test_30_70)\n",
        "clf_report_SVM_30_70_poly = classification_report(y_pred_SVM_30_70_poly, y_test_30_70)\n",
        "\n",
        "print('Accuracy Score :\\n{}'.format(acc_score_SVM_30_70_poly))\n",
        "print('\\n\\n')\n",
        "print('Classification Report :\\n{}'.format(clf_report_SVM_30_70_poly))"
      ],
      "metadata": {
        "colab": {
          "base_uri": "https://localhost:8080/"
        },
        "outputId": "18814977-3d09-46c2-9f56-2965c09122de",
        "id": "_ExnTxE1SaHs"
      },
      "execution_count": null,
      "outputs": [
        {
          "output_type": "stream",
          "name": "stdout",
          "text": [
            "Accuracy Score :\n",
            "0.8678571428571429\n",
            "\n",
            "\n",
            "\n",
            "Classification Report :\n",
            "              precision    recall  f1-score   support\n",
            "\n",
            "       cacat       0.98      0.80      0.88       688\n",
            " tidak_cacat       0.75      0.98      0.85       432\n",
            "\n",
            "    accuracy                           0.87      1120\n",
            "   macro avg       0.87      0.89      0.87      1120\n",
            "weighted avg       0.89      0.87      0.87      1120\n",
            "\n"
          ]
        }
      ]
    },
    {
      "cell_type": "markdown",
      "source": [
        "##### Kernel Sigmoid"
      ],
      "metadata": {
        "id": "d9wUdnxMSaHs"
      }
    },
    {
      "cell_type": "code",
      "source": [
        "y_pred_SVM_30_70_sigmoid = SVM_30_70_sigmoid.predict(X_test_30_70)\n",
        "acc_score_SVM_30_70_sigmoid = accuracy_score(y_pred_SVM_30_70_sigmoid, y_test_30_70)\n",
        "clf_report_SVM_30_70_sigmoid = classification_report(y_pred_SVM_30_70_sigmoid, y_test_30_70)\n",
        "\n",
        "print('Accuracy Score :\\n{}'.format(acc_score_SVM_30_70_sigmoid))\n",
        "print('\\n\\n')\n",
        "print('Classification Report :\\n{}'.format(clf_report_SVM_30_70_sigmoid))"
      ],
      "metadata": {
        "colab": {
          "base_uri": "https://localhost:8080/"
        },
        "outputId": "60744c29-889a-4a8d-fd8c-0f3f00e91796",
        "id": "JiEQrhDSSaHs"
      },
      "execution_count": null,
      "outputs": [
        {
          "output_type": "stream",
          "name": "stdout",
          "text": [
            "Accuracy Score :\n",
            "0.48839285714285713\n",
            "\n",
            "\n",
            "\n",
            "Classification Report :\n",
            "              precision    recall  f1-score   support\n",
            "\n",
            "       cacat       0.52      0.49      0.51       599\n",
            " tidak_cacat       0.45      0.49      0.47       521\n",
            "\n",
            "    accuracy                           0.49      1120\n",
            "   macro avg       0.49      0.49      0.49      1120\n",
            "weighted avg       0.49      0.49      0.49      1120\n",
            "\n"
          ]
        }
      ]
    },
    {
      "cell_type": "markdown",
      "source": [
        "#### 40:60"
      ],
      "metadata": {
        "id": "0ycZyenMQKng"
      }
    },
    {
      "cell_type": "markdown",
      "source": [
        "##### Kernel RBF"
      ],
      "metadata": {
        "id": "08SQCcUKSNvR"
      }
    },
    {
      "cell_type": "code",
      "source": [
        "y_pred_SVM_40_60_RBF = SVM_40_60_RBF.predict(X_test_40_60)\n",
        "acc_score_SVM_40_60_RBF = accuracy_score(y_pred_SVM_40_60_RBF, y_test_40_60)\n",
        "clf_report_SVM_40_60_RBF = classification_report(y_pred_SVM_40_60_RBF, y_test_40_60)\n",
        "\n",
        "print('Accuracy Score :\\n{}'.format(acc_score_SVM_40_60_RBF))\n",
        "print('\\n\\n')\n",
        "print('Classification Report :\\n{}'.format(clf_report_SVM_40_60_RBF))"
      ],
      "metadata": {
        "colab": {
          "base_uri": "https://localhost:8080/"
        },
        "outputId": "5d1176c1-f87a-4807-c2d9-ba2acbda3347",
        "id": "flvIon-qSNvS"
      },
      "execution_count": null,
      "outputs": [
        {
          "output_type": "stream",
          "name": "stdout",
          "text": [
            "Accuracy Score :\n",
            "0.8791666666666667\n",
            "\n",
            "\n",
            "\n",
            "Classification Report :\n",
            "              precision    recall  f1-score   support\n",
            "\n",
            "       cacat       0.98      0.81      0.89       578\n",
            " tidak_cacat       0.78      0.98      0.87       382\n",
            "\n",
            "    accuracy                           0.88       960\n",
            "   macro avg       0.88      0.90      0.88       960\n",
            "weighted avg       0.90      0.88      0.88       960\n",
            "\n"
          ]
        }
      ]
    },
    {
      "cell_type": "markdown",
      "source": [
        "##### Kernel Polynomial"
      ],
      "metadata": {
        "id": "GxIH3DqCSNvS"
      }
    },
    {
      "cell_type": "code",
      "source": [
        "y_pred_SVM_40_60_poly = SVM_40_60_poly.predict(X_test_40_60)\n",
        "acc_score_SVM_40_60_poly = accuracy_score(y_pred_SVM_40_60_poly, y_test_40_60)\n",
        "clf_report_SVM_40_60_poly = classification_report(y_pred_SVM_40_60_poly, y_test_40_60)\n",
        "\n",
        "print('Accuracy Score :\\n{}'.format(acc_score_SVM_40_60_poly))\n",
        "print('\\n\\n')\n",
        "print('Classification Report :\\n{}'.format(clf_report_SVM_40_60_poly))"
      ],
      "metadata": {
        "colab": {
          "base_uri": "https://localhost:8080/"
        },
        "outputId": "21f58be1-3d80-4c73-bf54-ba1b60771358",
        "id": "w6eX3NesSNvS"
      },
      "execution_count": null,
      "outputs": [
        {
          "output_type": "stream",
          "name": "stdout",
          "text": [
            "Accuracy Score :\n",
            "0.8770833333333333\n",
            "\n",
            "\n",
            "\n",
            "Classification Report :\n",
            "              precision    recall  f1-score   support\n",
            "\n",
            "       cacat       0.98      0.81      0.89       580\n",
            " tidak_cacat       0.77      0.98      0.86       380\n",
            "\n",
            "    accuracy                           0.88       960\n",
            "   macro avg       0.88      0.89      0.88       960\n",
            "weighted avg       0.90      0.88      0.88       960\n",
            "\n"
          ]
        }
      ]
    },
    {
      "cell_type": "markdown",
      "source": [
        "##### Kernel Sigmoid"
      ],
      "metadata": {
        "id": "qZbylBdkSNvS"
      }
    },
    {
      "cell_type": "code",
      "source": [
        "y_pred_SVM_40_60_sigmoid = SVM_40_60_sigmoid.predict(X_test_40_60)\n",
        "acc_score_SVM_40_60_sigmoid = accuracy_score(y_pred_SVM_40_60_sigmoid, y_test_40_60)\n",
        "clf_report_SVM_40_60_sigmoid = classification_report(y_pred_SVM_40_60_sigmoid, y_test_40_60)\n",
        "\n",
        "print('Accuracy Score :\\n{}'.format(acc_score_SVM_40_60_sigmoid))\n",
        "print('\\n\\n')\n",
        "print('Classification Report :\\n{}'.format(clf_report_SVM_40_60_sigmoid))"
      ],
      "metadata": {
        "colab": {
          "base_uri": "https://localhost:8080/"
        },
        "outputId": "5163d926-28f0-42d8-d5d8-150c7a3f5234",
        "id": "aWjXuN7dSNvS"
      },
      "execution_count": null,
      "outputs": [
        {
          "output_type": "stream",
          "name": "stdout",
          "text": [
            "Accuracy Score :\n",
            "0.49895833333333334\n",
            "\n",
            "\n",
            "\n",
            "Classification Report :\n",
            "              precision    recall  f1-score   support\n",
            "\n",
            "       cacat       0.51      0.50      0.51       495\n",
            " tidak_cacat       0.48      0.50      0.49       465\n",
            "\n",
            "    accuracy                           0.50       960\n",
            "   macro avg       0.50      0.50      0.50       960\n",
            "weighted avg       0.50      0.50      0.50       960\n",
            "\n"
          ]
        }
      ]
    },
    {
      "cell_type": "markdown",
      "source": [
        "#### 50:50"
      ],
      "metadata": {
        "id": "WqiKwbSOQKng"
      }
    },
    {
      "cell_type": "markdown",
      "source": [
        "##### Kernel RBF"
      ],
      "metadata": {
        "id": "eKF6reYDSvn1"
      }
    },
    {
      "cell_type": "code",
      "source": [
        "y_pred_SVM_50_50_RBF = SVM_50_50_RBF.predict(X_test_50_50)\n",
        "acc_score_SVM_50_50_RBF = accuracy_score(y_pred_SVM_50_50_RBF, y_test_50_50)\n",
        "clf_report_SVM_50_50_RBF = classification_report(y_pred_SVM_50_50_RBF, y_test_50_50)\n",
        "\n",
        "print('Accuracy Score :\\n{}'.format(acc_score_SVM_50_50_RBF))\n",
        "print('\\n\\n')\n",
        "print('Classification Report :\\n{}'.format(clf_report_SVM_50_50_RBF))"
      ],
      "metadata": {
        "colab": {
          "base_uri": "https://localhost:8080/"
        },
        "outputId": "3dddecfb-e982-4957-8f0c-d3251366756d",
        "id": "_6H147WOSvn1"
      },
      "execution_count": null,
      "outputs": [
        {
          "output_type": "stream",
          "name": "stdout",
          "text": [
            "Accuracy Score :\n",
            "0.8775\n",
            "\n",
            "\n",
            "\n",
            "Classification Report :\n",
            "              precision    recall  f1-score   support\n",
            "\n",
            "       cacat       0.98      0.81      0.89       484\n",
            " tidak_cacat       0.77      0.98      0.86       316\n",
            "\n",
            "    accuracy                           0.88       800\n",
            "   macro avg       0.88      0.89      0.88       800\n",
            "weighted avg       0.90      0.88      0.88       800\n",
            "\n"
          ]
        }
      ]
    },
    {
      "cell_type": "markdown",
      "source": [
        "##### Kernel Polynomial"
      ],
      "metadata": {
        "id": "bj5EqTbySvn1"
      }
    },
    {
      "cell_type": "code",
      "source": [
        "y_pred_SVM_50_50_poly = SVM_50_50_poly.predict(X_test_50_50)\n",
        "acc_score_SVM_50_50_poly = accuracy_score(y_pred_SVM_50_50_poly, y_test_50_50)\n",
        "clf_report_SVM_50_50_poly = classification_report(y_pred_SVM_50_50_poly, y_test_50_50)\n",
        "\n",
        "print('Accuracy Score :\\n{}'.format(acc_score_SVM_50_50_poly))\n",
        "print('\\n\\n')\n",
        "print('Classification Report :\\n{}'.format(clf_report_SVM_50_50_poly))"
      ],
      "metadata": {
        "colab": {
          "base_uri": "https://localhost:8080/"
        },
        "outputId": "b0fa64d9-04e4-44cd-904d-0f70c10b8699",
        "id": "mX9bf1leSvn1"
      },
      "execution_count": null,
      "outputs": [
        {
          "output_type": "stream",
          "name": "stdout",
          "text": [
            "Accuracy Score :\n",
            "0.87375\n",
            "\n",
            "\n",
            "\n",
            "Classification Report :\n",
            "              precision    recall  f1-score   support\n",
            "\n",
            "       cacat       0.98      0.81      0.89       487\n",
            " tidak_cacat       0.77      0.98      0.86       313\n",
            "\n",
            "    accuracy                           0.87       800\n",
            "   macro avg       0.87      0.89      0.87       800\n",
            "weighted avg       0.90      0.87      0.88       800\n",
            "\n"
          ]
        }
      ]
    },
    {
      "cell_type": "markdown",
      "source": [
        "##### Kernel Sigmoid"
      ],
      "metadata": {
        "id": "KfjJLLOPSvn1"
      }
    },
    {
      "cell_type": "code",
      "source": [
        "y_pred_SVM_50_50_sigmoid = SVM_50_50_sigmoid.predict(X_test_50_50)\n",
        "acc_score_SVM_50_50_sigmoid = accuracy_score(y_pred_SVM_50_50_sigmoid, y_test_50_50)\n",
        "clf_report_SVM_50_50_sigmoid = classification_report(y_pred_SVM_50_50_sigmoid, y_test_50_50)\n",
        "\n",
        "print('Accuracy Score :\\n{}'.format(acc_score_SVM_50_50_sigmoid))\n",
        "print('\\n\\n')\n",
        "print('Classification Report :\\n{}'.format(clf_report_SVM_50_50_sigmoid))"
      ],
      "metadata": {
        "colab": {
          "base_uri": "https://localhost:8080/"
        },
        "outputId": "50cb33bb-5006-4c8f-c6f1-82d3f9ac10a5",
        "id": "7FubvkIOSvn1"
      },
      "execution_count": null,
      "outputs": [
        {
          "output_type": "stream",
          "name": "stdout",
          "text": [
            "Accuracy Score :\n",
            "0.50125\n",
            "\n",
            "\n",
            "\n",
            "Classification Report :\n",
            "              precision    recall  f1-score   support\n",
            "\n",
            "       cacat       0.51      0.50      0.50       403\n",
            " tidak_cacat       0.50      0.50      0.50       397\n",
            "\n",
            "    accuracy                           0.50       800\n",
            "   macro avg       0.50      0.50      0.50       800\n",
            "weighted avg       0.50      0.50      0.50       800\n",
            "\n"
          ]
        }
      ]
    },
    {
      "cell_type": "markdown",
      "source": [
        "#### 60:40"
      ],
      "metadata": {
        "id": "wBKdRgiiQKnh"
      }
    },
    {
      "cell_type": "markdown",
      "source": [
        "##### Kernel RBF"
      ],
      "metadata": {
        "id": "6oTslQ8qQKnh"
      }
    },
    {
      "cell_type": "code",
      "source": [
        "SVM_60_40_RBF = SVC(kernel = 'rbf')\n",
        "SVM_60_40_RBF.fit(X_train_60_40, y_train_60_40)"
      ],
      "metadata": {
        "colab": {
          "base_uri": "https://localhost:8080/"
        },
        "outputId": "602465c8-6e8e-4140-e54a-026e2bd585a5",
        "id": "M_sZGe-dQKnh"
      },
      "execution_count": null,
      "outputs": [
        {
          "output_type": "execute_result",
          "data": {
            "text/plain": [
              "SVC()"
            ]
          },
          "metadata": {},
          "execution_count": 61
        }
      ]
    },
    {
      "cell_type": "markdown",
      "source": [
        "##### Kernel Polynomial"
      ],
      "metadata": {
        "id": "xMn0ODLTQKnh"
      }
    },
    {
      "cell_type": "code",
      "source": [
        "SVM_60_40_poly = SVC(kernel = 'poly')\n",
        "SVM_60_40_poly.fit(X_train_60_40, y_train_60_40)"
      ],
      "metadata": {
        "colab": {
          "base_uri": "https://localhost:8080/"
        },
        "outputId": "393d967b-faff-4b6b-abb7-ba2d10cc943b",
        "id": "-60MPGe5QKnh"
      },
      "execution_count": null,
      "outputs": [
        {
          "output_type": "execute_result",
          "data": {
            "text/plain": [
              "SVC(kernel='poly')"
            ]
          },
          "metadata": {},
          "execution_count": 62
        }
      ]
    },
    {
      "cell_type": "markdown",
      "source": [
        "##### Kernel Sigmoid"
      ],
      "metadata": {
        "id": "WpSCSVuqQKnh"
      }
    },
    {
      "cell_type": "code",
      "source": [
        "SVM_60_40_sigmoid = SVC(kernel = 'sigmoid')\n",
        "SVM_60_40_sigmoid.fit(X_train_60_40, y_train_60_40)"
      ],
      "metadata": {
        "colab": {
          "base_uri": "https://localhost:8080/"
        },
        "outputId": "c44b8db6-b3fd-47a5-e36a-8b850cdb8059",
        "id": "2w_XnihWQKnh"
      },
      "execution_count": null,
      "outputs": [
        {
          "output_type": "execute_result",
          "data": {
            "text/plain": [
              "SVC(kernel='sigmoid')"
            ]
          },
          "metadata": {},
          "execution_count": 63
        }
      ]
    },
    {
      "cell_type": "markdown",
      "source": [
        "#### 70:30"
      ],
      "metadata": {
        "id": "w8bF0980QKnh"
      }
    },
    {
      "cell_type": "markdown",
      "source": [
        "##### Kernel RBF"
      ],
      "metadata": {
        "id": "WXm-iCWJTAJv"
      }
    },
    {
      "cell_type": "code",
      "source": [
        "y_pred_SVM_70_30_RBF = SVM_70_30_RBF.predict(X_test_70_30)\n",
        "acc_score_SVM_70_30_RBF = accuracy_score(y_pred_SVM_70_30_RBF, y_test_70_30)\n",
        "clf_report_SVM_70_30_RBF = classification_report(y_pred_SVM_70_30_RBF, y_test_70_30)\n",
        "\n",
        "print('Accuracy Score :\\n{}'.format(acc_score_SVM_70_30_RBF))\n",
        "print('\\n\\n')\n",
        "print('Classification Report :\\n{}'.format(clf_report_SVM_70_30_RBF))"
      ],
      "metadata": {
        "colab": {
          "base_uri": "https://localhost:8080/"
        },
        "outputId": "088d41f2-4d31-4ff2-ceb2-148e8206d33b",
        "id": "dw1U1WIuTAJv"
      },
      "execution_count": null,
      "outputs": [
        {
          "output_type": "stream",
          "name": "stdout",
          "text": [
            "Accuracy Score :\n",
            "0.8833333333333333\n",
            "\n",
            "\n",
            "\n",
            "Classification Report :\n",
            "              precision    recall  f1-score   support\n",
            "\n",
            "       cacat       0.97      0.83      0.89       282\n",
            " tidak_cacat       0.80      0.96      0.87       198\n",
            "\n",
            "    accuracy                           0.88       480\n",
            "   macro avg       0.88      0.90      0.88       480\n",
            "weighted avg       0.90      0.88      0.88       480\n",
            "\n"
          ]
        }
      ]
    },
    {
      "cell_type": "markdown",
      "source": [
        "##### Kernel Polynomial"
      ],
      "metadata": {
        "id": "ilZjdUrtTAJw"
      }
    },
    {
      "cell_type": "code",
      "source": [
        "y_pred_SVM_70_30_poly = SVM_70_30_poly.predict(X_test_70_30)\n",
        "acc_score_SVM_70_30_poly = accuracy_score(y_pred_SVM_70_30_poly, y_test_70_30)\n",
        "clf_report_SVM_70_30_poly = classification_report(y_pred_SVM_70_30_poly, y_test_70_30)\n",
        "\n",
        "print('Accuracy Score :\\n{}'.format(acc_score_SVM_70_30_poly))\n",
        "print('\\n\\n')\n",
        "print('Classification Report :\\n{}'.format(clf_report_SVM_70_30_poly))"
      ],
      "metadata": {
        "colab": {
          "base_uri": "https://localhost:8080/"
        },
        "outputId": "ee7a644f-a235-43f2-a184-8d44b921b963",
        "id": "Epu-romkTAJw"
      },
      "execution_count": null,
      "outputs": [
        {
          "output_type": "stream",
          "name": "stdout",
          "text": [
            "Accuracy Score :\n",
            "0.8770833333333333\n",
            "\n",
            "\n",
            "\n",
            "Classification Report :\n",
            "              precision    recall  f1-score   support\n",
            "\n",
            "       cacat       0.97      0.82      0.89       287\n",
            " tidak_cacat       0.78      0.97      0.86       193\n",
            "\n",
            "    accuracy                           0.88       480\n",
            "   macro avg       0.88      0.89      0.88       480\n",
            "weighted avg       0.90      0.88      0.88       480\n",
            "\n"
          ]
        }
      ]
    },
    {
      "cell_type": "markdown",
      "source": [
        "##### Kernel Sigmoid"
      ],
      "metadata": {
        "id": "9YNPcU9cTAJw"
      }
    },
    {
      "cell_type": "code",
      "source": [
        "y_pred_SVM_70_30_sigmoid = SVM_70_30_sigmoid.predict(X_test_70_30)\n",
        "acc_score_SVM_70_30_sigmoid = accuracy_score(y_pred_SVM_70_30_sigmoid, y_test_70_30)\n",
        "clf_report_SVM_70_30_sigmoid = classification_report(y_pred_SVM_70_30_sigmoid, y_test_70_30)\n",
        "\n",
        "print('Accuracy Score :\\n{}'.format(acc_score_SVM_70_30_sigmoid))\n",
        "print('\\n\\n')\n",
        "print('Classification Report :\\n{}'.format(clf_report_SVM_70_30_sigmoid))"
      ],
      "metadata": {
        "colab": {
          "base_uri": "https://localhost:8080/"
        },
        "outputId": "75f2cb41-7354-4966-9e21-7c0a15644bd9",
        "id": "KeNY9a01TAJw"
      },
      "execution_count": null,
      "outputs": [
        {
          "output_type": "stream",
          "name": "stdout",
          "text": [
            "Accuracy Score :\n",
            "0.48541666666666666\n",
            "\n",
            "\n",
            "\n",
            "Classification Report :\n",
            "              precision    recall  f1-score   support\n",
            "\n",
            "       cacat       0.46      0.48      0.47       229\n",
            " tidak_cacat       0.51      0.49      0.50       251\n",
            "\n",
            "    accuracy                           0.49       480\n",
            "   macro avg       0.49      0.49      0.49       480\n",
            "weighted avg       0.49      0.49      0.49       480\n",
            "\n"
          ]
        }
      ]
    },
    {
      "cell_type": "markdown",
      "source": [
        "#### 80:20"
      ],
      "metadata": {
        "id": "Zn-fm_EHQKni"
      }
    },
    {
      "cell_type": "markdown",
      "source": [
        "##### Kernel RBF"
      ],
      "metadata": {
        "id": "dx9Wz8EXTMXz"
      }
    },
    {
      "cell_type": "code",
      "source": [
        "y_pred_SVM_80_20_RBF = SVM_80_20_RBF.predict(X_test_80_20)\n",
        "acc_score_SVM_80_20_RBF = accuracy_score(y_pred_SVM_80_20_RBF, y_test_80_20)\n",
        "clf_report_SVM_80_20_RBF = classification_report(y_pred_SVM_80_20_RBF, y_test_80_20)\n",
        "\n",
        "print('Accuracy Score :\\n{}'.format(acc_score_SVM_80_20_RBF))\n",
        "print('\\n\\n')\n",
        "print('Classification Report :\\n{}'.format(clf_report_SVM_80_20_RBF))"
      ],
      "metadata": {
        "colab": {
          "base_uri": "https://localhost:8080/"
        },
        "outputId": "7180f05b-4412-4a43-a534-bd5fab378529",
        "id": "lANot7BxTMXz"
      },
      "execution_count": null,
      "outputs": [
        {
          "output_type": "stream",
          "name": "stdout",
          "text": [
            "Accuracy Score :\n",
            "0.884375\n",
            "\n",
            "\n",
            "\n",
            "Classification Report :\n",
            "              precision    recall  f1-score   support\n",
            "\n",
            "       cacat       0.99      0.82      0.90       193\n",
            " tidak_cacat       0.78      0.98      0.87       127\n",
            "\n",
            "    accuracy                           0.88       320\n",
            "   macro avg       0.88      0.90      0.88       320\n",
            "weighted avg       0.91      0.88      0.89       320\n",
            "\n"
          ]
        }
      ]
    },
    {
      "cell_type": "markdown",
      "source": [
        "##### Kernel Polynomial"
      ],
      "metadata": {
        "id": "FU8t0HNkTMXz"
      }
    },
    {
      "cell_type": "code",
      "source": [
        "y_pred_SVM_80_20_poly = SVM_80_20_poly.predict(X_test_80_20)\n",
        "acc_score_SVM_80_20_poly = accuracy_score(y_pred_SVM_80_20_poly, y_test_80_20)\n",
        "clf_report_SVM_80_20_poly = classification_report(y_pred_SVM_80_20_poly, y_test_80_20)\n",
        "\n",
        "print('Accuracy Score :\\n{}'.format(acc_score_SVM_80_20_poly))\n",
        "print('\\n\\n')\n",
        "print('Classification Report :\\n{}'.format(clf_report_SVM_80_20_poly))"
      ],
      "metadata": {
        "colab": {
          "base_uri": "https://localhost:8080/"
        },
        "outputId": "ceeedd0c-ab93-48c7-85e7-09a40e39fa11",
        "id": "0JEPtvumTMX0"
      },
      "execution_count": null,
      "outputs": [
        {
          "output_type": "stream",
          "name": "stdout",
          "text": [
            "Accuracy Score :\n",
            "0.878125\n",
            "\n",
            "\n",
            "\n",
            "Classification Report :\n",
            "              precision    recall  f1-score   support\n",
            "\n",
            "       cacat       0.99      0.81      0.89       197\n",
            " tidak_cacat       0.76      0.99      0.86       123\n",
            "\n",
            "    accuracy                           0.88       320\n",
            "   macro avg       0.88      0.90      0.88       320\n",
            "weighted avg       0.90      0.88      0.88       320\n",
            "\n"
          ]
        }
      ]
    },
    {
      "cell_type": "markdown",
      "source": [
        "##### Kernel Sigmoid"
      ],
      "metadata": {
        "id": "zId4bXCVTMX0"
      }
    },
    {
      "cell_type": "code",
      "source": [
        "y_pred_SVM_80_20_sigmoid = SVM_80_20_sigmoid.predict(X_test_80_20)\n",
        "acc_score_SVM_80_20_sigmoid = accuracy_score(y_pred_SVM_80_20_sigmoid, y_test_80_20)\n",
        "clf_report_SVM_80_20_sigmoid = classification_report(y_pred_SVM_80_20_sigmoid, y_test_80_20)\n",
        "\n",
        "print('Accuracy Score :\\n{}'.format(acc_score_SVM_80_20_sigmoid))\n",
        "print('\\n\\n')\n",
        "print('Classification Report :\\n{}'.format(clf_report_SVM_80_20_sigmoid))"
      ],
      "metadata": {
        "colab": {
          "base_uri": "https://localhost:8080/"
        },
        "outputId": "e6846aec-b3b3-4f16-d1fd-1f153f39bd41",
        "id": "VvD6KK9oTMX0"
      },
      "execution_count": null,
      "outputs": [
        {
          "output_type": "stream",
          "name": "stdout",
          "text": [
            "Accuracy Score :\n",
            "0.5\n",
            "\n",
            "\n",
            "\n",
            "Classification Report :\n",
            "              precision    recall  f1-score   support\n",
            "\n",
            "       cacat       0.49      0.50      0.50       158\n",
            " tidak_cacat       0.51      0.50      0.50       162\n",
            "\n",
            "    accuracy                           0.50       320\n",
            "   macro avg       0.50      0.50      0.50       320\n",
            "weighted avg       0.50      0.50      0.50       320\n",
            "\n"
          ]
        }
      ]
    },
    {
      "cell_type": "markdown",
      "source": [
        "#### 90:10"
      ],
      "metadata": {
        "id": "dCogsjcmQKni"
      }
    },
    {
      "cell_type": "markdown",
      "source": [
        "##### Kernel RBF"
      ],
      "metadata": {
        "id": "q9Cq_MBgTXY2"
      }
    },
    {
      "cell_type": "code",
      "source": [
        "y_pred_SVM_90_10_RBF = SVM_90_10_RBF.predict(X_test_90_10)\n",
        "acc_score_SVM_90_10_RBF = accuracy_score(y_pred_SVM_90_10_RBF, y_test_90_10)\n",
        "clf_report_SVM_90_10_RBF = classification_report(y_pred_SVM_90_10_RBF, y_test_90_10)\n",
        "\n",
        "print('Accuracy Score :\\n{}'.format(acc_score_SVM_90_10_RBF))\n",
        "print('\\n\\n')\n",
        "print('Classification Report :\\n{}'.format(clf_report_SVM_90_10_RBF))"
      ],
      "metadata": {
        "colab": {
          "base_uri": "https://localhost:8080/"
        },
        "outputId": "c60679af-00ae-4aa4-e1f4-7efc0cc0afed",
        "id": "JNQ98cV1TXY2"
      },
      "execution_count": null,
      "outputs": [
        {
          "output_type": "stream",
          "name": "stdout",
          "text": [
            "Accuracy Score :\n",
            "0.8875\n",
            "\n",
            "\n",
            "\n",
            "Classification Report :\n",
            "              precision    recall  f1-score   support\n",
            "\n",
            "       cacat       0.97      0.83      0.90        94\n",
            " tidak_cacat       0.80      0.97      0.88        66\n",
            "\n",
            "    accuracy                           0.89       160\n",
            "   macro avg       0.89      0.90      0.89       160\n",
            "weighted avg       0.90      0.89      0.89       160\n",
            "\n"
          ]
        }
      ]
    },
    {
      "cell_type": "markdown",
      "source": [
        "##### Kernel Polynomial"
      ],
      "metadata": {
        "id": "1Kp6wuNjTXY2"
      }
    },
    {
      "cell_type": "code",
      "source": [
        "y_pred_SVM_90_10_poly = SVM_90_10_poly.predict(X_test_90_10)\n",
        "acc_score_SVM_90_10_poly = accuracy_score(y_pred_SVM_90_10_poly, y_test_90_10)\n",
        "clf_report_SVM_90_10_poly = classification_report(y_pred_SVM_90_10_poly, y_test_90_10)\n",
        "\n",
        "print('Accuracy Score :\\n{}'.format(acc_score_SVM_90_10_poly))\n",
        "print('\\n\\n')\n",
        "print('Classification Report :\\n{}'.format(clf_report_SVM_90_10_poly))"
      ],
      "metadata": {
        "colab": {
          "base_uri": "https://localhost:8080/"
        },
        "outputId": "7b2abc47-a15e-4b8c-f93b-b49fa3db249f",
        "id": "mELHz9M-TXY2"
      },
      "execution_count": null,
      "outputs": [
        {
          "output_type": "stream",
          "name": "stdout",
          "text": [
            "Accuracy Score :\n",
            "0.88125\n",
            "\n",
            "\n",
            "\n",
            "Classification Report :\n",
            "              precision    recall  f1-score   support\n",
            "\n",
            "       cacat       0.99      0.81      0.89        97\n",
            " tidak_cacat       0.78      0.98      0.87        63\n",
            "\n",
            "    accuracy                           0.88       160\n",
            "   macro avg       0.88      0.90      0.88       160\n",
            "weighted avg       0.90      0.88      0.88       160\n",
            "\n"
          ]
        }
      ]
    },
    {
      "cell_type": "markdown",
      "source": [
        "##### Kernel Sigmoid"
      ],
      "metadata": {
        "id": "3JNW9TdrTXY3"
      }
    },
    {
      "cell_type": "code",
      "source": [
        "y_pred_SVM_90_10_sigmoid = SVM_90_10_sigmoid.predict(X_test_90_10)\n",
        "acc_score_SVM_90_10_sigmoid = accuracy_score(y_pred_SVM_90_10_sigmoid, y_test_90_10)\n",
        "clf_report_SVM_90_10_sigmoid = classification_report(y_pred_SVM_90_10_sigmoid, y_test_90_10)\n",
        "\n",
        "print('Accuracy Score :\\n{}'.format(acc_score_SVM_90_10_sigmoid))\n",
        "print('\\n\\n')\n",
        "print('Classification Report :\\n{}'.format(clf_report_SVM_90_10_sigmoid))"
      ],
      "metadata": {
        "colab": {
          "base_uri": "https://localhost:8080/"
        },
        "outputId": "2e62c31c-c56a-4736-d0d4-45703e6b6584",
        "id": "lYJUtS5jTXY3"
      },
      "execution_count": null,
      "outputs": [
        {
          "output_type": "stream",
          "name": "stdout",
          "text": [
            "Accuracy Score :\n",
            "0.5\n",
            "\n",
            "\n",
            "\n",
            "Classification Report :\n",
            "              precision    recall  f1-score   support\n",
            "\n",
            "       cacat       0.55      0.50      0.52        88\n",
            " tidak_cacat       0.45      0.50      0.47        72\n",
            "\n",
            "    accuracy                           0.50       160\n",
            "   macro avg       0.50      0.50      0.50       160\n",
            "weighted avg       0.51      0.50      0.50       160\n",
            "\n"
          ]
        }
      ]
    },
    {
      "cell_type": "markdown",
      "source": [
        "### Testing and evaluation (ANN) models"
      ],
      "metadata": {
        "id": "qoi4efRslxq0"
      }
    },
    {
      "cell_type": "markdown",
      "source": [
        "#### 10:90"
      ],
      "metadata": {
        "id": "BGpm6E8kl-vq"
      }
    },
    {
      "cell_type": "code",
      "source": [
        "y_pred_ANN_10_90 = np.round(ANN_10_90.predict(X_test_10_90_np), 0)\n",
        "acc_score_ANN_10_90 = accuracy_score(y_pred_ANN_10_90, y_test_10_90_enc)\n",
        "clf_report_ANN_10_90 = classification_report(y_pred_ANN_10_90, y_test_10_90_enc)\n",
        "\n",
        "print('Accuracy Score :\\n{}'.format(acc_score_ANN_10_90))\n",
        "print('\\n\\n')\n",
        "print('Classification Report :\\n{}'.format(clf_report_ANN_10_90))"
      ],
      "metadata": {
        "colab": {
          "base_uri": "https://localhost:8080/"
        },
        "id": "3BWDs4j5mA-I",
        "outputId": "5e0caa6a-eade-427d-fe34-43048d023331"
      },
      "execution_count": null,
      "outputs": [
        {
          "output_type": "stream",
          "name": "stdout",
          "text": [
            "Accuracy Score :\n",
            "0.9284722222222223\n",
            "\n",
            "\n",
            "\n",
            "Classification Report :\n",
            "              precision    recall  f1-score   support\n",
            "\n",
            "         0.0       0.95      0.91      0.93       747\n",
            "         1.0       0.91      0.95      0.93       693\n",
            "\n",
            "    accuracy                           0.93      1440\n",
            "   macro avg       0.93      0.93      0.93      1440\n",
            "weighted avg       0.93      0.93      0.93      1440\n",
            "\n"
          ]
        }
      ]
    },
    {
      "cell_type": "markdown",
      "source": [
        "#### 20:80"
      ],
      "metadata": {
        "id": "oWLtsrMgnFtY"
      }
    },
    {
      "cell_type": "code",
      "source": [
        "y_pred_ANN_20_80 = np.round(ANN_20_80.predict(X_test_20_80_np), 0)\n",
        "acc_score_ANN_20_80 = accuracy_score(y_pred_ANN_20_80, y_test_20_80_enc)\n",
        "clf_report_ANN_20_80 = classification_report(y_pred_ANN_20_80, y_test_20_80_enc)\n",
        "\n",
        "print('Accuracy Score :\\n{}'.format(acc_score_ANN_20_80))\n",
        "print('\\n\\n')\n",
        "print('Classification Report :\\n{}'.format(clf_report_ANN_20_80))"
      ],
      "metadata": {
        "colab": {
          "base_uri": "https://localhost:8080/"
        },
        "outputId": "7e20237d-d73d-4b8f-f60f-894626f7e343",
        "id": "bkUfrI-_nFtZ"
      },
      "execution_count": null,
      "outputs": [
        {
          "output_type": "stream",
          "name": "stdout",
          "text": [
            "Accuracy Score :\n",
            "0.9140625\n",
            "\n",
            "\n",
            "\n",
            "Classification Report :\n",
            "              precision    recall  f1-score   support\n",
            "\n",
            "         0.0       0.89      0.93      0.91       610\n",
            "         1.0       0.94      0.90      0.92       670\n",
            "\n",
            "    accuracy                           0.91      1280\n",
            "   macro avg       0.91      0.91      0.91      1280\n",
            "weighted avg       0.92      0.91      0.91      1280\n",
            "\n"
          ]
        }
      ]
    },
    {
      "cell_type": "markdown",
      "source": [
        "#### 30:70"
      ],
      "metadata": {
        "id": "Z2nMb9QCnK2c"
      }
    },
    {
      "cell_type": "code",
      "source": [
        "y_pred_ANN_30_70 = np.round(ANN_30_70.predict(X_test_30_70_np), 0)\n",
        "acc_score_ANN_30_70 = accuracy_score(y_pred_ANN_30_70, y_test_30_70_enc)\n",
        "clf_report_ANN_30_70 = classification_report(y_pred_ANN_30_70, y_test_30_70_enc)\n",
        "\n",
        "print('Accuracy Score :\\n{}'.format(acc_score_ANN_30_70))\n",
        "print('\\n\\n')\n",
        "print('Classification Report :\\n{}'.format(clf_report_ANN_30_70))"
      ],
      "metadata": {
        "colab": {
          "base_uri": "https://localhost:8080/"
        },
        "outputId": "56505866-9ba4-4464-f254-df8889340a69",
        "id": "Ej-8YOUJnK2d"
      },
      "execution_count": null,
      "outputs": [
        {
          "output_type": "stream",
          "name": "stdout",
          "text": [
            "Accuracy Score :\n",
            "0.9375\n",
            "\n",
            "\n",
            "\n",
            "Classification Report :\n",
            "              precision    recall  f1-score   support\n",
            "\n",
            "         0.0       0.98      0.90      0.94       606\n",
            "         1.0       0.90      0.98      0.93       514\n",
            "\n",
            "    accuracy                           0.94      1120\n",
            "   macro avg       0.94      0.94      0.94      1120\n",
            "weighted avg       0.94      0.94      0.94      1120\n",
            "\n"
          ]
        }
      ]
    },
    {
      "cell_type": "markdown",
      "source": [
        "#### 40:60"
      ],
      "metadata": {
        "id": "QFdI24nnnRLq"
      }
    },
    {
      "cell_type": "code",
      "source": [
        "y_pred_ANN_40_60 = np.round(ANN_40_60.predict(X_test_40_60_np), 0)\n",
        "acc_score_ANN_40_60 = accuracy_score(y_pred_ANN_40_60, y_test_40_60_enc)\n",
        "clf_report_ANN_40_60 = classification_report(y_pred_ANN_40_60, y_test_40_60_enc)\n",
        "\n",
        "print('Accuracy Score :\\n{}'.format(acc_score_ANN_40_60))\n",
        "print('\\n\\n')\n",
        "print('Classification Report :\\n{}'.format(clf_report_ANN_40_60))"
      ],
      "metadata": {
        "colab": {
          "base_uri": "https://localhost:8080/"
        },
        "outputId": "90bf92d1-3d12-4dd9-a140-67c3b8a78153",
        "id": "gOF1Xpj5nRLr"
      },
      "execution_count": null,
      "outputs": [
        {
          "output_type": "stream",
          "name": "stdout",
          "text": [
            "Accuracy Score :\n",
            "0.9416666666666667\n",
            "\n",
            "\n",
            "\n",
            "Classification Report :\n",
            "              precision    recall  f1-score   support\n",
            "\n",
            "         0.0       0.95      0.93      0.94       490\n",
            "         1.0       0.93      0.95      0.94       470\n",
            "\n",
            "    accuracy                           0.94       960\n",
            "   macro avg       0.94      0.94      0.94       960\n",
            "weighted avg       0.94      0.94      0.94       960\n",
            "\n"
          ]
        }
      ]
    },
    {
      "cell_type": "markdown",
      "source": [
        "#### 50:50"
      ],
      "metadata": {
        "id": "At2QGuJJnV2a"
      }
    },
    {
      "cell_type": "code",
      "source": [
        "y_pred_ANN_50_50 = np.round(ANN_50_50.predict(X_test_50_50_np), 0)\n",
        "acc_score_ANN_50_50 = accuracy_score(y_pred_ANN_50_50, y_test_50_50_enc)\n",
        "clf_report_ANN_50_50 = classification_report(y_pred_ANN_50_50, y_test_50_50_enc)\n",
        "\n",
        "print('Accuracy Score :\\n{}'.format(acc_score_ANN_50_50))\n",
        "print('\\n\\n')\n",
        "print('Classification Report :\\n{}'.format(clf_report_ANN_50_50))"
      ],
      "metadata": {
        "colab": {
          "base_uri": "https://localhost:8080/"
        },
        "outputId": "b971dcf2-23a0-47d5-d2b7-64faef6379ba",
        "id": "NsBuO4g8nV2b"
      },
      "execution_count": null,
      "outputs": [
        {
          "output_type": "stream",
          "name": "stdout",
          "text": [
            "Accuracy Score :\n",
            "0.9475\n",
            "\n",
            "\n",
            "\n",
            "Classification Report :\n",
            "              precision    recall  f1-score   support\n",
            "\n",
            "         0.0       0.97      0.93      0.95       418\n",
            "         1.0       0.93      0.97      0.95       382\n",
            "\n",
            "    accuracy                           0.95       800\n",
            "   macro avg       0.95      0.95      0.95       800\n",
            "weighted avg       0.95      0.95      0.95       800\n",
            "\n"
          ]
        }
      ]
    },
    {
      "cell_type": "markdown",
      "source": [
        "#### 60:40"
      ],
      "metadata": {
        "id": "oTXLvynlnaEx"
      }
    },
    {
      "cell_type": "code",
      "source": [
        "y_pred_ANN_60_40 = np.round(ANN_60_40.predict(X_test_60_40_np), 0)\n",
        "acc_score_ANN_60_40 = accuracy_score(y_pred_ANN_60_40, y_test_60_40_enc)\n",
        "clf_report_ANN_60_40 = classification_report(y_pred_ANN_60_40, y_test_60_40_enc)\n",
        "\n",
        "print('Accuracy Score :\\n{}'.format(acc_score_ANN_60_40))\n",
        "print('\\n\\n')\n",
        "print('Classification Report :\\n{}'.format(clf_report_ANN_60_40))"
      ],
      "metadata": {
        "colab": {
          "base_uri": "https://localhost:8080/"
        },
        "outputId": "58108d32-fd35-4084-d569-251c410f0d93",
        "id": "ueLQqaeVnaEx"
      },
      "execution_count": null,
      "outputs": [
        {
          "output_type": "stream",
          "name": "stdout",
          "text": [
            "Accuracy Score :\n",
            "0.940625\n",
            "\n",
            "\n",
            "\n",
            "Classification Report :\n",
            "              precision    recall  f1-score   support\n",
            "\n",
            "         0.0       0.97      0.91      0.94       342\n",
            "         1.0       0.91      0.97      0.94       298\n",
            "\n",
            "    accuracy                           0.94       640\n",
            "   macro avg       0.94      0.94      0.94       640\n",
            "weighted avg       0.94      0.94      0.94       640\n",
            "\n"
          ]
        }
      ]
    },
    {
      "cell_type": "markdown",
      "source": [
        "#### 70:30"
      ],
      "metadata": {
        "id": "UOAHEW3nngNP"
      }
    },
    {
      "cell_type": "code",
      "source": [
        "y_pred_ANN_70_30 = np.round(ANN_70_30.predict(X_test_70_30_np), 0)\n",
        "acc_score_ANN_70_30 = accuracy_score(y_pred_ANN_70_30, y_test_70_30_enc)\n",
        "clf_report_ANN_70_30 = classification_report(y_pred_ANN_70_30, y_test_70_30_enc)\n",
        "\n",
        "print('Accuracy Score :\\n{}'.format(acc_score_ANN_70_30))\n",
        "print('\\n\\n')\n",
        "print('Classification Report :\\n{}'.format(clf_report_ANN_70_30))"
      ],
      "metadata": {
        "colab": {
          "base_uri": "https://localhost:8080/"
        },
        "outputId": "e2858805-cdbb-4079-ffcb-bb1ee2673370",
        "id": "khxlVeiAngNQ"
      },
      "execution_count": null,
      "outputs": [
        {
          "output_type": "stream",
          "name": "stdout",
          "text": [
            "Accuracy Score :\n",
            "0.95625\n",
            "\n",
            "\n",
            "\n",
            "Classification Report :\n",
            "              precision    recall  f1-score   support\n",
            "\n",
            "         0.0       0.98      0.94      0.96       251\n",
            "         1.0       0.93      0.98      0.96       229\n",
            "\n",
            "    accuracy                           0.96       480\n",
            "   macro avg       0.96      0.96      0.96       480\n",
            "weighted avg       0.96      0.96      0.96       480\n",
            "\n"
          ]
        }
      ]
    },
    {
      "cell_type": "markdown",
      "source": [
        "#### 80:20"
      ],
      "metadata": {
        "id": "9e_4PcRAnn0i"
      }
    },
    {
      "cell_type": "code",
      "source": [
        "y_pred_ANN_80_20 = np.round(ANN_80_20.predict(X_test_80_20_np), 0)\n",
        "acc_score_ANN_80_20 = accuracy_score(y_pred_ANN_80_20, y_test_80_20_enc)\n",
        "clf_report_ANN_80_20 = classification_report(y_pred_ANN_80_20, y_test_80_20_enc)\n",
        "\n",
        "print('Accuracy Score :\\n{}'.format(acc_score_ANN_80_20))\n",
        "print('\\n\\n')\n",
        "print('Classification Report :\\n{}'.format(clf_report_ANN_80_20))"
      ],
      "metadata": {
        "colab": {
          "base_uri": "https://localhost:8080/"
        },
        "outputId": "412928c8-533b-486d-ca2f-184ded81135e",
        "id": "5cbxzTEnnn0i"
      },
      "execution_count": null,
      "outputs": [
        {
          "output_type": "stream",
          "name": "stdout",
          "text": [
            "Accuracy Score :\n",
            "0.9375\n",
            "\n",
            "\n",
            "\n",
            "Classification Report :\n",
            "              precision    recall  f1-score   support\n",
            "\n",
            "         0.0       0.95      0.93      0.94       164\n",
            "         1.0       0.93      0.95      0.94       156\n",
            "\n",
            "    accuracy                           0.94       320\n",
            "   macro avg       0.94      0.94      0.94       320\n",
            "weighted avg       0.94      0.94      0.94       320\n",
            "\n"
          ]
        }
      ]
    },
    {
      "cell_type": "markdown",
      "source": [
        "#### 90:10"
      ],
      "metadata": {
        "id": "jrb2UtkGntos"
      }
    },
    {
      "cell_type": "code",
      "source": [
        "y_pred_ANN_90_10 = np.round(ANN_90_10.predict(X_test_90_10_np), 0)\n",
        "acc_score_ANN_90_10 = accuracy_score(y_pred_ANN_90_10, y_test_90_10_enc)\n",
        "clf_report_ANN_90_10 = classification_report(y_pred_ANN_90_10, y_test_90_10_enc)\n",
        "\n",
        "print('Accuracy Score :\\n{}'.format(acc_score_ANN_90_10))\n",
        "print('\\n\\n')\n",
        "print('Classification Report :\\n{}'.format(clf_report_ANN_90_10))"
      ],
      "metadata": {
        "colab": {
          "base_uri": "https://localhost:8080/"
        },
        "outputId": "c6c57886-54a9-4c4b-9192-6ba32e938beb",
        "id": "p3MQevLhntot"
      },
      "execution_count": null,
      "outputs": [
        {
          "output_type": "stream",
          "name": "stdout",
          "text": [
            "Accuracy Score :\n",
            "0.925\n",
            "\n",
            "\n",
            "\n",
            "Classification Report :\n",
            "              precision    recall  f1-score   support\n",
            "\n",
            "         0.0       0.94      0.91      0.93        82\n",
            "         1.0       0.91      0.94      0.92        78\n",
            "\n",
            "    accuracy                           0.93       160\n",
            "   macro avg       0.93      0.93      0.92       160\n",
            "weighted avg       0.93      0.93      0.93       160\n",
            "\n"
          ]
        }
      ]
    }
  ],
  "metadata": {
    "colab": {
      "collapsed_sections": [],
      "name": "Sigarar Utang Coffee Variety Identification using SVM and ANN.ipynb",
      "provenance": [],
      "toc_visible": true,
      "include_colab_link": true
    },
    "kernelspec": {
      "display_name": "Python 3",
      "language": "python",
      "name": "python3"
    },
    "language_info": {
      "codemirror_mode": {
        "name": "ipython",
        "version": 3
      },
      "file_extension": ".py",
      "mimetype": "text/x-python",
      "name": "python",
      "nbconvert_exporter": "python",
      "pygments_lexer": "ipython3",
      "version": "3.9.7"
    },
    "gpuClass": "standard"
  },
  "nbformat": 4,
  "nbformat_minor": 0
}