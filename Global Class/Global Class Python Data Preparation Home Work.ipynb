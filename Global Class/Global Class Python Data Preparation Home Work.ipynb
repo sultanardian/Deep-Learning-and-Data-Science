{
  "nbformat": 4,
  "nbformat_minor": 0,
  "metadata": {
    "colab": {
      "name": "Global Class - Python Data Preparation Home Work.ipynb",
      "provenance": [],
      "collapsed_sections": [],
      "toc_visible": true,
      "include_colab_link": true
    },
    "kernelspec": {
      "display_name": "Python 3",
      "name": "python3"
    },
    "language_info": {
      "name": "python"
    }
  },
  "cells": [
    {
      "cell_type": "markdown",
      "metadata": {
        "id": "view-in-github",
        "colab_type": "text"
      },
      "source": [
        "<a href=\"https://colab.research.google.com/github/sultanardian/Deep-Learning-and-Data-Science/blob/main/Global%20Class/Global%20Class%20Python%20Data%20Preparation%20Home%20Work.ipynb\" target=\"_parent\"><img src=\"https://colab.research.google.com/assets/colab-badge.svg\" alt=\"Open In Colab\"/></a>"
      ]
    },
    {
      "cell_type": "code",
      "metadata": {
        "colab": {
          "base_uri": "https://localhost:8080/"
        },
        "id": "0DPZShFzxPUr",
        "outputId": "846c43ff-b547-4210-da3c-3a4b58305e33"
      },
      "source": [
        "!pip install haversine"
      ],
      "execution_count": null,
      "outputs": [
        {
          "output_type": "stream",
          "name": "stdout",
          "text": [
            "Collecting haversine\n",
            "  Downloading haversine-2.5.1-py2.py3-none-any.whl (6.1 kB)\n",
            "Installing collected packages: haversine\n",
            "Successfully installed haversine-2.5.1\n"
          ]
        }
      ]
    },
    {
      "cell_type": "code",
      "metadata": {
        "id": "7rDJciVoYO2S"
      },
      "source": [
        "import pandas as pd\n",
        "from haversine import haversine"
      ],
      "execution_count": null,
      "outputs": []
    },
    {
      "cell_type": "code",
      "metadata": {
        "colab": {
          "base_uri": "https://localhost:8080/"
        },
        "id": "IBKc4DnWYXuE",
        "outputId": "bbc5750b-a12e-4623-8591-5f1b288df80f"
      },
      "source": [
        "raw_data = pd.read_csv('/content/drive/MyDrive/Dataset/202109-citibike-tripdata.csv')"
      ],
      "execution_count": null,
      "outputs": [
        {
          "output_type": "stream",
          "name": "stderr",
          "text": [
            "/usr/local/lib/python3.7/dist-packages/IPython/core/interactiveshell.py:2718: DtypeWarning: Columns (7) have mixed types.Specify dtype option on import or set low_memory=False.\n",
            "  interactivity=interactivity, compiler=compiler, result=result)\n"
          ]
        }
      ]
    },
    {
      "cell_type": "code",
      "metadata": {
        "colab": {
          "base_uri": "https://localhost:8080/",
          "height": 400
        },
        "id": "gpHbnluMbbwB",
        "outputId": "82c38ff3-1067-4242-ee12-04ec157a303e"
      },
      "source": [
        "raw_data.head()"
      ],
      "execution_count": null,
      "outputs": [
        {
          "output_type": "execute_result",
          "data": {
            "text/html": [
              "<div>\n",
              "<style scoped>\n",
              "    .dataframe tbody tr th:only-of-type {\n",
              "        vertical-align: middle;\n",
              "    }\n",
              "\n",
              "    .dataframe tbody tr th {\n",
              "        vertical-align: top;\n",
              "    }\n",
              "\n",
              "    .dataframe thead th {\n",
              "        text-align: right;\n",
              "    }\n",
              "</style>\n",
              "<table border=\"1\" class=\"dataframe\">\n",
              "  <thead>\n",
              "    <tr style=\"text-align: right;\">\n",
              "      <th></th>\n",
              "      <th>ride_id</th>\n",
              "      <th>rideable_type</th>\n",
              "      <th>started_at</th>\n",
              "      <th>ended_at</th>\n",
              "      <th>start_station_name</th>\n",
              "      <th>start_station_id</th>\n",
              "      <th>end_station_name</th>\n",
              "      <th>end_station_id</th>\n",
              "      <th>start_lat</th>\n",
              "      <th>start_lng</th>\n",
              "      <th>end_lat</th>\n",
              "      <th>end_lng</th>\n",
              "      <th>member_casual</th>\n",
              "    </tr>\n",
              "  </thead>\n",
              "  <tbody>\n",
              "    <tr>\n",
              "      <th>0</th>\n",
              "      <td>22C33F42C6A0E28E</td>\n",
              "      <td>classic_bike</td>\n",
              "      <td>2021-09-01 10:26:45</td>\n",
              "      <td>2021-09-01 10:43:23</td>\n",
              "      <td>Central Park West &amp; W 72 St</td>\n",
              "      <td>7141.07</td>\n",
              "      <td>E 51 St &amp; 1 Ave</td>\n",
              "      <td>6532.06</td>\n",
              "      <td>40.775794</td>\n",
              "      <td>-73.976206</td>\n",
              "      <td>40.754557</td>\n",
              "      <td>-73.965930</td>\n",
              "      <td>member</td>\n",
              "    </tr>\n",
              "    <tr>\n",
              "      <th>1</th>\n",
              "      <td>035F743147FCFCDE</td>\n",
              "      <td>classic_bike</td>\n",
              "      <td>2021-09-04 09:52:40</td>\n",
              "      <td>2021-09-04 10:09:19</td>\n",
              "      <td>William St &amp; Pine St</td>\n",
              "      <td>5065.12</td>\n",
              "      <td>NaN</td>\n",
              "      <td>NaN</td>\n",
              "      <td>40.707179</td>\n",
              "      <td>-74.008873</td>\n",
              "      <td>40.720000</td>\n",
              "      <td>-74.010000</td>\n",
              "      <td>member</td>\n",
              "    </tr>\n",
              "    <tr>\n",
              "      <th>2</th>\n",
              "      <td>9C43CF6A07DACBC6</td>\n",
              "      <td>classic_bike</td>\n",
              "      <td>2021-09-06 17:07:40</td>\n",
              "      <td>2021-09-06 17:34:44</td>\n",
              "      <td>Fulton St &amp; Broadway</td>\n",
              "      <td>5175.08</td>\n",
              "      <td>Jay St &amp; Tech Pl</td>\n",
              "      <td>4710.06</td>\n",
              "      <td>40.711066</td>\n",
              "      <td>-74.009447</td>\n",
              "      <td>40.695065</td>\n",
              "      <td>-73.987167</td>\n",
              "      <td>casual</td>\n",
              "    </tr>\n",
              "    <tr>\n",
              "      <th>3</th>\n",
              "      <td>253A1A5B20CC78EE</td>\n",
              "      <td>classic_bike</td>\n",
              "      <td>2021-09-28 16:53:43</td>\n",
              "      <td>2021-09-28 17:03:00</td>\n",
              "      <td>West Drive &amp; Prospect Park West</td>\n",
              "      <td>3651.04</td>\n",
              "      <td>Ocean Pkwy &amp; Church Ave</td>\n",
              "      <td>3125.09</td>\n",
              "      <td>40.661063</td>\n",
              "      <td>-73.979453</td>\n",
              "      <td>40.644719</td>\n",
              "      <td>-73.974515</td>\n",
              "      <td>member</td>\n",
              "    </tr>\n",
              "    <tr>\n",
              "      <th>4</th>\n",
              "      <td>5E8F164D6798CEFA</td>\n",
              "      <td>classic_bike</td>\n",
              "      <td>2021-09-19 09:37:47</td>\n",
              "      <td>2021-09-19 09:53:42</td>\n",
              "      <td>Lorimer St &amp; Broadway</td>\n",
              "      <td>4965.01</td>\n",
              "      <td>Jay St &amp; Tech Pl</td>\n",
              "      <td>4710.06</td>\n",
              "      <td>40.704118</td>\n",
              "      <td>-73.948186</td>\n",
              "      <td>40.695065</td>\n",
              "      <td>-73.987167</td>\n",
              "      <td>member</td>\n",
              "    </tr>\n",
              "  </tbody>\n",
              "</table>\n",
              "</div>"
            ],
            "text/plain": [
              "            ride_id rideable_type  ...    end_lng member_casual\n",
              "0  22C33F42C6A0E28E  classic_bike  ... -73.965930        member\n",
              "1  035F743147FCFCDE  classic_bike  ... -74.010000        member\n",
              "2  9C43CF6A07DACBC6  classic_bike  ... -73.987167        casual\n",
              "3  253A1A5B20CC78EE  classic_bike  ... -73.974515        member\n",
              "4  5E8F164D6798CEFA  classic_bike  ... -73.987167        member\n",
              "\n",
              "[5 rows x 13 columns]"
            ]
          },
          "metadata": {},
          "execution_count": 4
        }
      ]
    },
    {
      "cell_type": "markdown",
      "metadata": {
        "id": "U7I6zjcUbFmx"
      },
      "source": [
        "## 1. How many rows in the NYC bikes September 2021 data?"
      ]
    },
    {
      "cell_type": "code",
      "metadata": {
        "colab": {
          "base_uri": "https://localhost:8080/"
        },
        "id": "thfbRlgnY3vi",
        "outputId": "5fbf07f2-2bd5-4f03-bcad-43158a9f59ae"
      },
      "source": [
        "raw_data.shape[0]"
      ],
      "execution_count": null,
      "outputs": [
        {
          "output_type": "execute_result",
          "data": {
            "text/plain": [
              "3280221"
            ]
          },
          "metadata": {},
          "execution_count": 5
        }
      ]
    },
    {
      "cell_type": "markdown",
      "metadata": {
        "id": "4C458VpYbSxn"
      },
      "source": [
        "## 2. How many rows with 'electric_bike' in the NYC bikes September 2021 data?"
      ]
    },
    {
      "cell_type": "code",
      "metadata": {
        "colab": {
          "base_uri": "https://localhost:8080/"
        },
        "id": "VgjVbvaoZCdy",
        "outputId": "5605cbc6-8dcf-4be5-d15c-56cb74508359"
      },
      "source": [
        "raw_data[raw_data['rideable_type'] == 'electric_bike'].shape[0]"
      ],
      "execution_count": null,
      "outputs": [
        {
          "output_type": "execute_result",
          "data": {
            "text/plain": [
              "18"
            ]
          },
          "metadata": {},
          "execution_count": 6
        }
      ]
    },
    {
      "cell_type": "markdown",
      "metadata": {
        "id": "CdTNizrtb8i0"
      },
      "source": [
        "## 3. How many rows with 'member' and 'classic_bike' in the NYC bikes September 2021 data?"
      ]
    },
    {
      "cell_type": "code",
      "metadata": {
        "colab": {
          "base_uri": "https://localhost:8080/"
        },
        "id": "O1KyuYgrcBdv",
        "outputId": "97c32ad0-fe4d-4adc-af45-7c180b948eab"
      },
      "source": [
        "raw_data[(raw_data['rideable_type'] == 'classic_bike') & (raw_data['member_casual'] == 'member')].shape[0]"
      ],
      "execution_count": null,
      "outputs": [
        {
          "output_type": "execute_result",
          "data": {
            "text/plain": [
              "1889711"
            ]
          },
          "metadata": {},
          "execution_count": 7
        }
      ]
    },
    {
      "cell_type": "markdown",
      "metadata": {
        "id": "1etxJTSQfPRf"
      },
      "source": [
        "## 4. What is overall average trip duration (in seconds)"
      ]
    },
    {
      "cell_type": "code",
      "metadata": {
        "colab": {
          "base_uri": "https://localhost:8080/",
          "height": 400
        },
        "id": "kP-0K8clfX41",
        "outputId": "218508ca-5313-4808-f6f7-293cd32c768b"
      },
      "source": [
        "data = raw_data.copy()\n",
        "data['started_at'] = pd.to_datetime(raw_data['started_at'])\n",
        "data['ended_at'] = pd.to_datetime(raw_data['ended_at'])\n",
        "data['trip_duration(s)'] = (data['ended_at'] - data['started_at']).astype('timedelta64[s]')\n",
        "data.head()"
      ],
      "execution_count": null,
      "outputs": [
        {
          "output_type": "execute_result",
          "data": {
            "text/html": [
              "<div>\n",
              "<style scoped>\n",
              "    .dataframe tbody tr th:only-of-type {\n",
              "        vertical-align: middle;\n",
              "    }\n",
              "\n",
              "    .dataframe tbody tr th {\n",
              "        vertical-align: top;\n",
              "    }\n",
              "\n",
              "    .dataframe thead th {\n",
              "        text-align: right;\n",
              "    }\n",
              "</style>\n",
              "<table border=\"1\" class=\"dataframe\">\n",
              "  <thead>\n",
              "    <tr style=\"text-align: right;\">\n",
              "      <th></th>\n",
              "      <th>ride_id</th>\n",
              "      <th>rideable_type</th>\n",
              "      <th>started_at</th>\n",
              "      <th>ended_at</th>\n",
              "      <th>start_station_name</th>\n",
              "      <th>start_station_id</th>\n",
              "      <th>end_station_name</th>\n",
              "      <th>end_station_id</th>\n",
              "      <th>start_lat</th>\n",
              "      <th>start_lng</th>\n",
              "      <th>end_lat</th>\n",
              "      <th>end_lng</th>\n",
              "      <th>member_casual</th>\n",
              "      <th>trip_duration(s)</th>\n",
              "    </tr>\n",
              "  </thead>\n",
              "  <tbody>\n",
              "    <tr>\n",
              "      <th>0</th>\n",
              "      <td>22C33F42C6A0E28E</td>\n",
              "      <td>classic_bike</td>\n",
              "      <td>2021-09-01 10:26:45</td>\n",
              "      <td>2021-09-01 10:43:23</td>\n",
              "      <td>Central Park West &amp; W 72 St</td>\n",
              "      <td>7141.07</td>\n",
              "      <td>E 51 St &amp; 1 Ave</td>\n",
              "      <td>6532.06</td>\n",
              "      <td>40.775794</td>\n",
              "      <td>-73.976206</td>\n",
              "      <td>40.754557</td>\n",
              "      <td>-73.965930</td>\n",
              "      <td>member</td>\n",
              "      <td>998.0</td>\n",
              "    </tr>\n",
              "    <tr>\n",
              "      <th>1</th>\n",
              "      <td>035F743147FCFCDE</td>\n",
              "      <td>classic_bike</td>\n",
              "      <td>2021-09-04 09:52:40</td>\n",
              "      <td>2021-09-04 10:09:19</td>\n",
              "      <td>William St &amp; Pine St</td>\n",
              "      <td>5065.12</td>\n",
              "      <td>NaN</td>\n",
              "      <td>NaN</td>\n",
              "      <td>40.707179</td>\n",
              "      <td>-74.008873</td>\n",
              "      <td>40.720000</td>\n",
              "      <td>-74.010000</td>\n",
              "      <td>member</td>\n",
              "      <td>999.0</td>\n",
              "    </tr>\n",
              "    <tr>\n",
              "      <th>2</th>\n",
              "      <td>9C43CF6A07DACBC6</td>\n",
              "      <td>classic_bike</td>\n",
              "      <td>2021-09-06 17:07:40</td>\n",
              "      <td>2021-09-06 17:34:44</td>\n",
              "      <td>Fulton St &amp; Broadway</td>\n",
              "      <td>5175.08</td>\n",
              "      <td>Jay St &amp; Tech Pl</td>\n",
              "      <td>4710.06</td>\n",
              "      <td>40.711066</td>\n",
              "      <td>-74.009447</td>\n",
              "      <td>40.695065</td>\n",
              "      <td>-73.987167</td>\n",
              "      <td>casual</td>\n",
              "      <td>1624.0</td>\n",
              "    </tr>\n",
              "    <tr>\n",
              "      <th>3</th>\n",
              "      <td>253A1A5B20CC78EE</td>\n",
              "      <td>classic_bike</td>\n",
              "      <td>2021-09-28 16:53:43</td>\n",
              "      <td>2021-09-28 17:03:00</td>\n",
              "      <td>West Drive &amp; Prospect Park West</td>\n",
              "      <td>3651.04</td>\n",
              "      <td>Ocean Pkwy &amp; Church Ave</td>\n",
              "      <td>3125.09</td>\n",
              "      <td>40.661063</td>\n",
              "      <td>-73.979453</td>\n",
              "      <td>40.644719</td>\n",
              "      <td>-73.974515</td>\n",
              "      <td>member</td>\n",
              "      <td>557.0</td>\n",
              "    </tr>\n",
              "    <tr>\n",
              "      <th>4</th>\n",
              "      <td>5E8F164D6798CEFA</td>\n",
              "      <td>classic_bike</td>\n",
              "      <td>2021-09-19 09:37:47</td>\n",
              "      <td>2021-09-19 09:53:42</td>\n",
              "      <td>Lorimer St &amp; Broadway</td>\n",
              "      <td>4965.01</td>\n",
              "      <td>Jay St &amp; Tech Pl</td>\n",
              "      <td>4710.06</td>\n",
              "      <td>40.704118</td>\n",
              "      <td>-73.948186</td>\n",
              "      <td>40.695065</td>\n",
              "      <td>-73.987167</td>\n",
              "      <td>member</td>\n",
              "      <td>955.0</td>\n",
              "    </tr>\n",
              "  </tbody>\n",
              "</table>\n",
              "</div>"
            ],
            "text/plain": [
              "            ride_id rideable_type  ... member_casual trip_duration(s)\n",
              "0  22C33F42C6A0E28E  classic_bike  ...        member            998.0\n",
              "1  035F743147FCFCDE  classic_bike  ...        member            999.0\n",
              "2  9C43CF6A07DACBC6  classic_bike  ...        casual           1624.0\n",
              "3  253A1A5B20CC78EE  classic_bike  ...        member            557.0\n",
              "4  5E8F164D6798CEFA  classic_bike  ...        member            955.0\n",
              "\n",
              "[5 rows x 14 columns]"
            ]
          },
          "metadata": {},
          "execution_count": 8
        }
      ]
    },
    {
      "cell_type": "code",
      "metadata": {
        "colab": {
          "base_uri": "https://localhost:8080/"
        },
        "id": "RMHIaFGFozJb",
        "outputId": "2a5ce010-9174-4601-d1c2-50a8b9771282"
      },
      "source": [
        "round(data['trip_duration(s)'].mean())"
      ],
      "execution_count": null,
      "outputs": [
        {
          "output_type": "execute_result",
          "data": {
            "text/plain": [
              "1059"
            ]
          },
          "metadata": {},
          "execution_count": 60
        }
      ]
    },
    {
      "cell_type": "markdown",
      "metadata": {
        "id": "Lx5ddUjzfWp-"
      },
      "source": [
        "## 5. What is the average trip duration (in seconds) in the weekend?"
      ]
    },
    {
      "cell_type": "code",
      "metadata": {
        "colab": {
          "base_uri": "https://localhost:8080/",
          "height": 400
        },
        "id": "oXpST3Mopen0",
        "outputId": "ce4f7de0-9add-48ed-d55c-30889bc00458"
      },
      "source": [
        "weekend = ['Saturday', 'Sunday']\n",
        "data['is_weekend'] = data['started_at'].map(lambda x : True if x.day_name() in weekend else False)\n",
        "data.head()"
      ],
      "execution_count": null,
      "outputs": [
        {
          "output_type": "execute_result",
          "data": {
            "text/html": [
              "<div>\n",
              "<style scoped>\n",
              "    .dataframe tbody tr th:only-of-type {\n",
              "        vertical-align: middle;\n",
              "    }\n",
              "\n",
              "    .dataframe tbody tr th {\n",
              "        vertical-align: top;\n",
              "    }\n",
              "\n",
              "    .dataframe thead th {\n",
              "        text-align: right;\n",
              "    }\n",
              "</style>\n",
              "<table border=\"1\" class=\"dataframe\">\n",
              "  <thead>\n",
              "    <tr style=\"text-align: right;\">\n",
              "      <th></th>\n",
              "      <th>ride_id</th>\n",
              "      <th>rideable_type</th>\n",
              "      <th>started_at</th>\n",
              "      <th>ended_at</th>\n",
              "      <th>start_station_name</th>\n",
              "      <th>start_station_id</th>\n",
              "      <th>end_station_name</th>\n",
              "      <th>end_station_id</th>\n",
              "      <th>start_lat</th>\n",
              "      <th>start_lng</th>\n",
              "      <th>end_lat</th>\n",
              "      <th>end_lng</th>\n",
              "      <th>member_casual</th>\n",
              "      <th>trip_duration(s)</th>\n",
              "      <th>week</th>\n",
              "      <th>day_name</th>\n",
              "      <th>is_weekend</th>\n",
              "    </tr>\n",
              "  </thead>\n",
              "  <tbody>\n",
              "    <tr>\n",
              "      <th>0</th>\n",
              "      <td>22C33F42C6A0E28E</td>\n",
              "      <td>classic_bike</td>\n",
              "      <td>2021-09-01 10:26:45</td>\n",
              "      <td>2021-09-01 10:43:23</td>\n",
              "      <td>Central Park West &amp; W 72 St</td>\n",
              "      <td>7141.07</td>\n",
              "      <td>E 51 St &amp; 1 Ave</td>\n",
              "      <td>6532.06</td>\n",
              "      <td>40.775794</td>\n",
              "      <td>-73.976206</td>\n",
              "      <td>40.754557</td>\n",
              "      <td>-73.965930</td>\n",
              "      <td>member</td>\n",
              "      <td>998.0</td>\n",
              "      <td>Weekday</td>\n",
              "      <td>Wednesday</td>\n",
              "      <td>False</td>\n",
              "    </tr>\n",
              "    <tr>\n",
              "      <th>1</th>\n",
              "      <td>035F743147FCFCDE</td>\n",
              "      <td>classic_bike</td>\n",
              "      <td>2021-09-04 09:52:40</td>\n",
              "      <td>2021-09-04 10:09:19</td>\n",
              "      <td>William St &amp; Pine St</td>\n",
              "      <td>5065.12</td>\n",
              "      <td>NaN</td>\n",
              "      <td>NaN</td>\n",
              "      <td>40.707179</td>\n",
              "      <td>-74.008873</td>\n",
              "      <td>40.720000</td>\n",
              "      <td>-74.010000</td>\n",
              "      <td>member</td>\n",
              "      <td>999.0</td>\n",
              "      <td>Weekend</td>\n",
              "      <td>Saturday</td>\n",
              "      <td>True</td>\n",
              "    </tr>\n",
              "    <tr>\n",
              "      <th>2</th>\n",
              "      <td>9C43CF6A07DACBC6</td>\n",
              "      <td>classic_bike</td>\n",
              "      <td>2021-09-06 17:07:40</td>\n",
              "      <td>2021-09-06 17:34:44</td>\n",
              "      <td>Fulton St &amp; Broadway</td>\n",
              "      <td>5175.08</td>\n",
              "      <td>Jay St &amp; Tech Pl</td>\n",
              "      <td>4710.06</td>\n",
              "      <td>40.711066</td>\n",
              "      <td>-74.009447</td>\n",
              "      <td>40.695065</td>\n",
              "      <td>-73.987167</td>\n",
              "      <td>casual</td>\n",
              "      <td>1624.0</td>\n",
              "      <td>Weekday</td>\n",
              "      <td>Monday</td>\n",
              "      <td>False</td>\n",
              "    </tr>\n",
              "    <tr>\n",
              "      <th>3</th>\n",
              "      <td>253A1A5B20CC78EE</td>\n",
              "      <td>classic_bike</td>\n",
              "      <td>2021-09-28 16:53:43</td>\n",
              "      <td>2021-09-28 17:03:00</td>\n",
              "      <td>West Drive &amp; Prospect Park West</td>\n",
              "      <td>3651.04</td>\n",
              "      <td>Ocean Pkwy &amp; Church Ave</td>\n",
              "      <td>3125.09</td>\n",
              "      <td>40.661063</td>\n",
              "      <td>-73.979453</td>\n",
              "      <td>40.644719</td>\n",
              "      <td>-73.974515</td>\n",
              "      <td>member</td>\n",
              "      <td>557.0</td>\n",
              "      <td>Weekday</td>\n",
              "      <td>Tuesday</td>\n",
              "      <td>False</td>\n",
              "    </tr>\n",
              "    <tr>\n",
              "      <th>4</th>\n",
              "      <td>5E8F164D6798CEFA</td>\n",
              "      <td>classic_bike</td>\n",
              "      <td>2021-09-19 09:37:47</td>\n",
              "      <td>2021-09-19 09:53:42</td>\n",
              "      <td>Lorimer St &amp; Broadway</td>\n",
              "      <td>4965.01</td>\n",
              "      <td>Jay St &amp; Tech Pl</td>\n",
              "      <td>4710.06</td>\n",
              "      <td>40.704118</td>\n",
              "      <td>-73.948186</td>\n",
              "      <td>40.695065</td>\n",
              "      <td>-73.987167</td>\n",
              "      <td>member</td>\n",
              "      <td>955.0</td>\n",
              "      <td>Weekend</td>\n",
              "      <td>Sunday</td>\n",
              "      <td>True</td>\n",
              "    </tr>\n",
              "  </tbody>\n",
              "</table>\n",
              "</div>"
            ],
            "text/plain": [
              "            ride_id rideable_type  ...   day_name is_weekend\n",
              "0  22C33F42C6A0E28E  classic_bike  ...  Wednesday      False\n",
              "1  035F743147FCFCDE  classic_bike  ...   Saturday       True\n",
              "2  9C43CF6A07DACBC6  classic_bike  ...     Monday      False\n",
              "3  253A1A5B20CC78EE  classic_bike  ...    Tuesday      False\n",
              "4  5E8F164D6798CEFA  classic_bike  ...     Sunday       True\n",
              "\n",
              "[5 rows x 17 columns]"
            ]
          },
          "metadata": {},
          "execution_count": 15
        }
      ]
    },
    {
      "cell_type": "code",
      "metadata": {
        "colab": {
          "base_uri": "https://localhost:8080/"
        },
        "id": "TLVhlLHkuU1f",
        "outputId": "1e33a84e-6c98-4332-96c4-869f6e89b898"
      },
      "source": [
        "round(data[data['is_weekend'] == True]['trip_duration(s)'].mean())"
      ],
      "execution_count": null,
      "outputs": [
        {
          "output_type": "execute_result",
          "data": {
            "text/plain": [
              "1227"
            ]
          },
          "metadata": {},
          "execution_count": 61
        }
      ]
    },
    {
      "cell_type": "markdown",
      "metadata": {
        "id": "cEy8jGfeuoDH"
      },
      "source": [
        "## 6. What is the average trip duration (in seconds) in Monday?"
      ]
    },
    {
      "cell_type": "code",
      "metadata": {
        "colab": {
          "base_uri": "https://localhost:8080/",
          "height": 400
        },
        "id": "IEEv_eZeuld_",
        "outputId": "f06e7d5c-be37-4c24-a1f3-8ea8c3053335"
      },
      "source": [
        "data['day_name'] = data['started_at'].map(lambda x : x.day_name())\n",
        "data.head()"
      ],
      "execution_count": null,
      "outputs": [
        {
          "output_type": "execute_result",
          "data": {
            "text/html": [
              "<div>\n",
              "<style scoped>\n",
              "    .dataframe tbody tr th:only-of-type {\n",
              "        vertical-align: middle;\n",
              "    }\n",
              "\n",
              "    .dataframe tbody tr th {\n",
              "        vertical-align: top;\n",
              "    }\n",
              "\n",
              "    .dataframe thead th {\n",
              "        text-align: right;\n",
              "    }\n",
              "</style>\n",
              "<table border=\"1\" class=\"dataframe\">\n",
              "  <thead>\n",
              "    <tr style=\"text-align: right;\">\n",
              "      <th></th>\n",
              "      <th>ride_id</th>\n",
              "      <th>rideable_type</th>\n",
              "      <th>started_at</th>\n",
              "      <th>ended_at</th>\n",
              "      <th>start_station_name</th>\n",
              "      <th>start_station_id</th>\n",
              "      <th>end_station_name</th>\n",
              "      <th>end_station_id</th>\n",
              "      <th>start_lat</th>\n",
              "      <th>start_lng</th>\n",
              "      <th>end_lat</th>\n",
              "      <th>end_lng</th>\n",
              "      <th>member_casual</th>\n",
              "      <th>trip_duration(s)</th>\n",
              "      <th>week</th>\n",
              "      <th>day_name</th>\n",
              "      <th>is_weekend</th>\n",
              "    </tr>\n",
              "  </thead>\n",
              "  <tbody>\n",
              "    <tr>\n",
              "      <th>0</th>\n",
              "      <td>22C33F42C6A0E28E</td>\n",
              "      <td>classic_bike</td>\n",
              "      <td>2021-09-01 10:26:45</td>\n",
              "      <td>2021-09-01 10:43:23</td>\n",
              "      <td>Central Park West &amp; W 72 St</td>\n",
              "      <td>7141.07</td>\n",
              "      <td>E 51 St &amp; 1 Ave</td>\n",
              "      <td>6532.06</td>\n",
              "      <td>40.775794</td>\n",
              "      <td>-73.976206</td>\n",
              "      <td>40.754557</td>\n",
              "      <td>-73.965930</td>\n",
              "      <td>member</td>\n",
              "      <td>998.0</td>\n",
              "      <td>Weekday</td>\n",
              "      <td>Wednesday</td>\n",
              "      <td>False</td>\n",
              "    </tr>\n",
              "    <tr>\n",
              "      <th>1</th>\n",
              "      <td>035F743147FCFCDE</td>\n",
              "      <td>classic_bike</td>\n",
              "      <td>2021-09-04 09:52:40</td>\n",
              "      <td>2021-09-04 10:09:19</td>\n",
              "      <td>William St &amp; Pine St</td>\n",
              "      <td>5065.12</td>\n",
              "      <td>NaN</td>\n",
              "      <td>NaN</td>\n",
              "      <td>40.707179</td>\n",
              "      <td>-74.008873</td>\n",
              "      <td>40.720000</td>\n",
              "      <td>-74.010000</td>\n",
              "      <td>member</td>\n",
              "      <td>999.0</td>\n",
              "      <td>Weekend</td>\n",
              "      <td>Saturday</td>\n",
              "      <td>True</td>\n",
              "    </tr>\n",
              "    <tr>\n",
              "      <th>2</th>\n",
              "      <td>9C43CF6A07DACBC6</td>\n",
              "      <td>classic_bike</td>\n",
              "      <td>2021-09-06 17:07:40</td>\n",
              "      <td>2021-09-06 17:34:44</td>\n",
              "      <td>Fulton St &amp; Broadway</td>\n",
              "      <td>5175.08</td>\n",
              "      <td>Jay St &amp; Tech Pl</td>\n",
              "      <td>4710.06</td>\n",
              "      <td>40.711066</td>\n",
              "      <td>-74.009447</td>\n",
              "      <td>40.695065</td>\n",
              "      <td>-73.987167</td>\n",
              "      <td>casual</td>\n",
              "      <td>1624.0</td>\n",
              "      <td>Weekday</td>\n",
              "      <td>Monday</td>\n",
              "      <td>False</td>\n",
              "    </tr>\n",
              "    <tr>\n",
              "      <th>3</th>\n",
              "      <td>253A1A5B20CC78EE</td>\n",
              "      <td>classic_bike</td>\n",
              "      <td>2021-09-28 16:53:43</td>\n",
              "      <td>2021-09-28 17:03:00</td>\n",
              "      <td>West Drive &amp; Prospect Park West</td>\n",
              "      <td>3651.04</td>\n",
              "      <td>Ocean Pkwy &amp; Church Ave</td>\n",
              "      <td>3125.09</td>\n",
              "      <td>40.661063</td>\n",
              "      <td>-73.979453</td>\n",
              "      <td>40.644719</td>\n",
              "      <td>-73.974515</td>\n",
              "      <td>member</td>\n",
              "      <td>557.0</td>\n",
              "      <td>Weekday</td>\n",
              "      <td>Tuesday</td>\n",
              "      <td>False</td>\n",
              "    </tr>\n",
              "    <tr>\n",
              "      <th>4</th>\n",
              "      <td>5E8F164D6798CEFA</td>\n",
              "      <td>classic_bike</td>\n",
              "      <td>2021-09-19 09:37:47</td>\n",
              "      <td>2021-09-19 09:53:42</td>\n",
              "      <td>Lorimer St &amp; Broadway</td>\n",
              "      <td>4965.01</td>\n",
              "      <td>Jay St &amp; Tech Pl</td>\n",
              "      <td>4710.06</td>\n",
              "      <td>40.704118</td>\n",
              "      <td>-73.948186</td>\n",
              "      <td>40.695065</td>\n",
              "      <td>-73.987167</td>\n",
              "      <td>member</td>\n",
              "      <td>955.0</td>\n",
              "      <td>Weekend</td>\n",
              "      <td>Sunday</td>\n",
              "      <td>True</td>\n",
              "    </tr>\n",
              "  </tbody>\n",
              "</table>\n",
              "</div>"
            ],
            "text/plain": [
              "            ride_id rideable_type  ...   day_name is_weekend\n",
              "0  22C33F42C6A0E28E  classic_bike  ...  Wednesday      False\n",
              "1  035F743147FCFCDE  classic_bike  ...   Saturday       True\n",
              "2  9C43CF6A07DACBC6  classic_bike  ...     Monday      False\n",
              "3  253A1A5B20CC78EE  classic_bike  ...    Tuesday      False\n",
              "4  5E8F164D6798CEFA  classic_bike  ...     Sunday       True\n",
              "\n",
              "[5 rows x 17 columns]"
            ]
          },
          "metadata": {},
          "execution_count": 17
        }
      ]
    },
    {
      "cell_type": "code",
      "metadata": {
        "colab": {
          "base_uri": "https://localhost:8080/"
        },
        "id": "p1kpwcbVv2CL",
        "outputId": "f69f42ae-cb49-4df7-b736-23e75b5e5813"
      },
      "source": [
        "round(data[data['day_name'] == 'Monday']['trip_duration(s)'].mean())"
      ],
      "execution_count": null,
      "outputs": [
        {
          "output_type": "execute_result",
          "data": {
            "text/plain": [
              "1048"
            ]
          },
          "metadata": {},
          "execution_count": 62
        }
      ]
    },
    {
      "cell_type": "markdown",
      "metadata": {
        "id": "AP5py4SGwCQm"
      },
      "source": [
        "## 7. What is the overall average distace (in km) for non circle trip?"
      ]
    },
    {
      "cell_type": "code",
      "metadata": {
        "id": "9CvBBO_mwrjq"
      },
      "source": [
        "def average_distance(datas):\n",
        "    return haversine((datas['start_lat'], datas['start_lng']), ((datas['end_lat'], datas['end_lng'])))"
      ],
      "execution_count": null,
      "outputs": []
    },
    {
      "cell_type": "code",
      "metadata": {
        "id": "J1CDvRdVo-TI"
      },
      "source": [
        "data['is_circle'] = data.apply(lambda x : True if x['start_station_id'] == x['end_station_id'] else False, axis = 1)\n",
        "data['distance'] = data.apply(average_distance, axis = 1)"
      ],
      "execution_count": null,
      "outputs": []
    },
    {
      "cell_type": "code",
      "metadata": {
        "colab": {
          "base_uri": "https://localhost:8080/"
        },
        "id": "Q5m0mgyiqnFW",
        "outputId": "e4acc573-f185-46ed-9994-6b049d60e7ac"
      },
      "source": [
        "round(data[data['is_circle'] == False]['distance'].mean())"
      ],
      "execution_count": null,
      "outputs": [
        {
          "output_type": "execute_result",
          "data": {
            "text/plain": [
              "2"
            ]
          },
          "metadata": {},
          "execution_count": 63
        }
      ]
    },
    {
      "cell_type": "markdown",
      "metadata": {
        "id": "2kTHv_CzwPuT"
      },
      "source": [
        "## 8. What is the longest distance trip (in km)"
      ]
    },
    {
      "cell_type": "code",
      "metadata": {
        "colab": {
          "base_uri": "https://localhost:8080/"
        },
        "id": "UNwmyF1xwMuk",
        "outputId": "b8a855d0-dae0-4046-db25-2354db3d928f"
      },
      "source": [
        "round(data['distance'].max())"
      ],
      "execution_count": null,
      "outputs": [
        {
          "output_type": "execute_result",
          "data": {
            "text/plain": [
              "26"
            ]
          },
          "metadata": {},
          "execution_count": 65
        }
      ]
    },
    {
      "cell_type": "markdown",
      "metadata": {
        "id": "PNYDwu_vySQe"
      },
      "source": [
        "## 9. What is the average distance (in km) for non circle trip for 'member'"
      ]
    },
    {
      "cell_type": "code",
      "metadata": {
        "colab": {
          "base_uri": "https://localhost:8080/"
        },
        "id": "gAeQf9WtyQCb",
        "outputId": "fd6b9b85-29da-4da7-d7cc-822703c45a77"
      },
      "source": [
        "round(data[(data['is_circle'] == False) & (data['member_casual'] == 'member')]['distance'].mean())"
      ],
      "execution_count": null,
      "outputs": [
        {
          "output_type": "execute_result",
          "data": {
            "text/plain": [
              "2"
            ]
          },
          "metadata": {},
          "execution_count": 64
        }
      ]
    },
    {
      "cell_type": "markdown",
      "metadata": {
        "id": "0HJbF88byt6y"
      },
      "source": [
        "## 10. How many circle trip in the data"
      ]
    },
    {
      "cell_type": "code",
      "metadata": {
        "colab": {
          "base_uri": "https://localhost:8080/"
        },
        "id": "k4Ve1RyDytBP",
        "outputId": "20f4d434-158f-45b0-c44e-8c4deed275ba"
      },
      "source": [
        "data[data['is_circle'] == True].shape[0]"
      ],
      "execution_count": null,
      "outputs": [
        {
          "output_type": "execute_result",
          "data": {
            "text/plain": [
              "79029"
            ]
          },
          "metadata": {},
          "execution_count": 72
        }
      ]
    }
  ]
}