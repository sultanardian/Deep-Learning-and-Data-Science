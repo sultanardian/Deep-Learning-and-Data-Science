{
  "nbformat": 4,
  "nbformat_minor": 0,
  "metadata": {
    "colab": {
      "name": "COVID 19 Detection.ipynb",
      "provenance": [],
      "include_colab_link": true
    },
    "kernelspec": {
      "name": "python3",
      "display_name": "Python 3"
    },
    "language_info": {
      "name": "python"
    }
  },
  "cells": [
    {
      "cell_type": "markdown",
      "metadata": {
        "id": "view-in-github",
        "colab_type": "text"
      },
      "source": [
        "<a href=\"https://colab.research.google.com/github/sultanardian/Deep-Learning-and-Data-Science/blob/main/COVID-19%20Detection.ipynb\" target=\"_parent\"><img src=\"https://colab.research.google.com/assets/colab-badge.svg\" alt=\"Open In Colab\"/></a>"
      ]
    },
    {
      "cell_type": "code",
      "execution_count": null,
      "metadata": {
        "id": "m5pejX0JWT9l"
      },
      "outputs": [],
      "source": [
        "import os\n",
        "import cv2\n",
        "import numpy as np\n",
        "import matplotlib.pyplot as plt\n",
        "from google.colab.patches import cv2_imshow\n",
        "from sklearn.model_selection import train_test_split\n",
        "from tensorflow.keras.utils import to_categorical\n",
        "from tensorflow.keras.preprocessing.image import ImageDataGenerator\n",
        "from tensorflow.keras.models import Sequential\n",
        "from tensorflow.keras.layers import Conv2D, Dropout, MaxPooling2D, Dense, Flatten"
      ]
    },
    {
      "cell_type": "code",
      "source": [
        "CATS = ['CT_COVID', 'CT_NonCOVID']\n",
        "DIR = '/content/drive/MyDrive/Dataset/Covid19-1'\n",
        "\n",
        "asset = []\n",
        "img_size = 100\n",
        "\n",
        "for category in CATS:\n",
        "    folder = os.path.join(DIR, category)\n",
        "    idx = CATS.index(category)\n",
        "    \n",
        "    for img in os.listdir(folder):\n",
        "        path = os.path.join(folder, img)\n",
        "        img_raw = cv2.imread(path)\n",
        "        img_resize = cv2.resize(img_raw, (img_size, img_size))\n",
        "        asset.append([img_resize, idx])"
      ],
      "metadata": {
        "id": "2dsK6Tn4aA-b"
      },
      "execution_count": null,
      "outputs": []
    },
    {
      "cell_type": "code",
      "source": [
        "cv2_imshow(asset[0][0])"
      ],
      "metadata": {
        "colab": {
          "base_uri": "https://localhost:8080/",
          "height": 117
        },
        "id": "qbwpEurobu7Y",
        "outputId": "7db04b39-68e6-4f0c-c510-bb96a52d1030"
      },
      "execution_count": null,
      "outputs": [
        {
          "output_type": "display_data",
          "data": {
            "image/png": "[encoded data removed]",
            "text/plain": [
              "<PIL.Image.Image image mode=RGB size=100x100 at 0x7F78590B3590>"
            ]
          },
          "metadata": {}
        }
      ]
    },
    {
      "cell_type": "code",
      "source": [
        "asset[0][0]"
      ],
      "metadata": {
        "colab": {
          "base_uri": "https://localhost:8080/"
        },
        "id": "Yhnr9zGxc7Lp",
        "outputId": "9b11aa0f-bbb8-49a0-c21f-fee7ccabcefe"
      },
      "execution_count": null,
      "outputs": [
        {
          "output_type": "execute_result",
          "data": {
            "text/plain": [
              "array([[[248, 248, 248],\n",
              "        [246, 246, 246],\n",
              "        [248, 248, 248],\n",
              "        ...,\n",
              "        [252, 252, 252],\n",
              "        [251, 251, 251],\n",
              "        [254, 254, 254]],\n",
              "\n",
              "       [[254, 254, 254],\n",
              "        [ 77,  77,  77],\n",
              "        [ 43,  43,  43],\n",
              "        ...,\n",
              "        [ 45,  45,  45],\n",
              "        [253, 253, 253],\n",
              "        [255, 255, 255]],\n",
              "\n",
              "       [[255, 255, 255],\n",
              "        [ 79,  79,  79],\n",
              "        [ 56,  56,  56],\n",
              "        ...,\n",
              "        [ 53,  53,  53],\n",
              "        [253, 253, 253],\n",
              "        [255, 255, 255]],\n",
              "\n",
              "       ...,\n",
              "\n",
              "       [[255, 255, 255],\n",
              "        [255, 255, 255],\n",
              "        [255, 255, 255],\n",
              "        ...,\n",
              "        [255, 255, 255],\n",
              "        [255, 255, 255],\n",
              "        [255, 255, 255]],\n",
              "\n",
              "       [[255, 255, 255],\n",
              "        [255, 255, 255],\n",
              "        [255, 255, 255],\n",
              "        ...,\n",
              "        [255, 255, 255],\n",
              "        [255, 255, 255],\n",
              "        [255, 255, 255]],\n",
              "\n",
              "       [[255, 255, 255],\n",
              "        [255, 255, 255],\n",
              "        [255, 255, 255],\n",
              "        ...,\n",
              "        [255, 255, 255],\n",
              "        [255, 255, 255],\n",
              "        [255, 255, 255]]], dtype=uint8)"
            ]
          },
          "metadata": {},
          "execution_count": 14
        }
      ]
    },
    {
      "cell_type": "code",
      "source": [
        "asset[0][1]"
      ],
      "metadata": {
        "colab": {
          "base_uri": "https://localhost:8080/"
        },
        "id": "Ur2mWqWtdjEz",
        "outputId": "f981ffad-4341-49ce-c568-0f9cc1a4e9d3"
      },
      "execution_count": null,
      "outputs": [
        {
          "output_type": "execute_result",
          "data": {
            "text/plain": [
              "0"
            ]
          },
          "metadata": {},
          "execution_count": 20
        }
      ]
    },
    {
      "cell_type": "code",
      "source": [
        "X, y = [], []\n",
        "\n",
        "for img, label in asset:\n",
        "    X.append(img)\n",
        "    y.append(label)\n",
        "\n",
        "X = np.array(X)\n",
        "y = np.array(y)"
      ],
      "metadata": {
        "id": "QELp1dLccIZV"
      },
      "execution_count": null,
      "outputs": []
    },
    {
      "cell_type": "code",
      "source": [
        "X_train, X_test, y_train, y_test = train_test_split(X, y, test_size = 0.2, random_state = 42)"
      ],
      "metadata": {
        "id": "XO9IVJjscbAb"
      },
      "execution_count": null,
      "outputs": []
    },
    {
      "cell_type": "code",
      "source": [
        "X_train_new = X_train/255.0\n",
        "X_test_new = X_test/255.0\n",
        "\n",
        "y_train_new = to_categorical(y_train)\n",
        "y_test_new = to_categorical(y_test)"
      ],
      "metadata": {
        "id": "0M7Qcg6ccwNE"
      },
      "execution_count": null,
      "outputs": []
    },
    {
      "cell_type": "code",
      "source": [
        "X_train_new[0][0]"
      ],
      "metadata": {
        "colab": {
          "base_uri": "https://localhost:8080/"
        },
        "id": "0bjNUK4zdwdv",
        "outputId": "90e305bd-d2f4-40cd-f4ad-b5f1720eb705"
      },
      "execution_count": null,
      "outputs": [
        {
          "output_type": "execute_result",
          "data": {
            "text/plain": [
              "array([[0.        , 0.        , 0.        ],\n",
              "       [0.        , 0.        , 0.        ],\n",
              "       [0.        , 0.        , 0.        ],\n",
              "       [0.        , 0.        , 0.        ],\n",
              "       [0.        , 0.        , 0.        ],\n",
              "       [0.        , 0.        , 0.        ],\n",
              "       [0.        , 0.        , 0.        ],\n",
              "       [0.        , 0.        , 0.        ],\n",
              "       [0.        , 0.        , 0.        ],\n",
              "       [0.        , 0.        , 0.        ],\n",
              "       [0.        , 0.        , 0.        ],\n",
              "       [0.        , 0.        , 0.        ],\n",
              "       [0.25098039, 0.25098039, 0.25098039],\n",
              "       [0.23137255, 0.23137255, 0.23137255],\n",
              "       [0.21568627, 0.21568627, 0.21568627],\n",
              "       [0.22745098, 0.22745098, 0.22745098],\n",
              "       [0.24313725, 0.24313725, 0.24313725],\n",
              "       [0.2       , 0.2       , 0.2       ],\n",
              "       [0.21176471, 0.21176471, 0.21176471],\n",
              "       [0.21960784, 0.21960784, 0.21960784],\n",
              "       [0.21176471, 0.21176471, 0.21176471],\n",
              "       [0.21568627, 0.21568627, 0.21568627],\n",
              "       [0.22745098, 0.22745098, 0.22745098],\n",
              "       [0.27058824, 0.27058824, 0.27058824],\n",
              "       [0.43921569, 0.43921569, 0.43921569],\n",
              "       [0.52941176, 0.52941176, 0.52941176],\n",
              "       [0.75294118, 0.75294118, 0.75294118],\n",
              "       [0.88235294, 0.88235294, 0.88235294],\n",
              "       [0.91764706, 0.91764706, 0.91764706],\n",
              "       [0.89411765, 0.89411765, 0.89411765],\n",
              "       [0.90980392, 0.90980392, 0.90980392],\n",
              "       [0.90588235, 0.90588235, 0.90588235],\n",
              "       [0.85098039, 0.85098039, 0.85098039],\n",
              "       [0.84313725, 0.84313725, 0.84313725],\n",
              "       [0.83137255, 0.83137255, 0.83137255],\n",
              "       [0.81176471, 0.81176471, 0.81176471],\n",
              "       [0.81568627, 0.81568627, 0.81568627],\n",
              "       [0.81568627, 0.81568627, 0.81568627],\n",
              "       [0.82352941, 0.82352941, 0.82352941],\n",
              "       [0.83137255, 0.83137255, 0.83137255],\n",
              "       [0.81176471, 0.81176471, 0.81176471],\n",
              "       [0.81960784, 0.81960784, 0.81960784],\n",
              "       [0.8       , 0.8       , 0.8       ],\n",
              "       [0.8       , 0.8       , 0.8       ],\n",
              "       [0.78039216, 0.78039216, 0.78039216],\n",
              "       [0.79607843, 0.79607843, 0.79607843],\n",
              "       [0.79215686, 0.79215686, 0.79215686],\n",
              "       [0.75686275, 0.75686275, 0.75686275],\n",
              "       [0.78823529, 0.78823529, 0.78823529],\n",
              "       [0.78823529, 0.78823529, 0.78823529],\n",
              "       [0.8       , 0.8       , 0.8       ],\n",
              "       [0.81960784, 0.81960784, 0.81960784],\n",
              "       [0.79215686, 0.79215686, 0.79215686],\n",
              "       [0.80392157, 0.80392157, 0.80392157],\n",
              "       [0.83921569, 0.83921569, 0.83921569],\n",
              "       [0.8       , 0.8       , 0.8       ],\n",
              "       [0.8       , 0.8       , 0.8       ],\n",
              "       [0.78039216, 0.78039216, 0.78039216],\n",
              "       [0.81176471, 0.81176471, 0.81176471],\n",
              "       [0.8       , 0.8       , 0.8       ],\n",
              "       [0.78823529, 0.78823529, 0.78823529],\n",
              "       [0.80784314, 0.80784314, 0.80784314],\n",
              "       [0.79607843, 0.79607843, 0.79607843],\n",
              "       [0.81176471, 0.81176471, 0.81176471],\n",
              "       [0.78823529, 0.78823529, 0.78823529],\n",
              "       [0.79607843, 0.79607843, 0.79607843],\n",
              "       [0.78431373, 0.78431373, 0.78431373],\n",
              "       [0.80392157, 0.80392157, 0.80392157],\n",
              "       [0.81960784, 0.81960784, 0.81960784],\n",
              "       [0.78431373, 0.78431373, 0.78431373],\n",
              "       [0.8       , 0.8       , 0.8       ],\n",
              "       [0.77647059, 0.77647059, 0.77647059],\n",
              "       [0.78039216, 0.78039216, 0.78039216],\n",
              "       [0.81176471, 0.81176471, 0.81176471],\n",
              "       [0.85882353, 0.85882353, 0.85882353],\n",
              "       [0.87843137, 0.87843137, 0.87843137],\n",
              "       [0.90196078, 0.90196078, 0.90196078],\n",
              "       [0.89803922, 0.89803922, 0.89803922],\n",
              "       [0.64313725, 0.64313725, 0.64313725],\n",
              "       [0.30980392, 0.30980392, 0.30980392],\n",
              "       [0.22352941, 0.22352941, 0.22352941],\n",
              "       [0.22745098, 0.22745098, 0.22745098],\n",
              "       [0.22352941, 0.22352941, 0.22352941],\n",
              "       [0.23921569, 0.23921569, 0.23921569],\n",
              "       [0.25098039, 0.25098039, 0.25098039],\n",
              "       [0.24313725, 0.24313725, 0.24313725],\n",
              "       [0.23921569, 0.23921569, 0.23921569],\n",
              "       [0.27843137, 0.27843137, 0.27843137],\n",
              "       [0.        , 0.        , 0.        ],\n",
              "       [0.        , 0.        , 0.        ],\n",
              "       [0.        , 0.        , 0.        ],\n",
              "       [0.        , 0.        , 0.        ],\n",
              "       [0.        , 0.        , 0.        ],\n",
              "       [0.        , 0.        , 0.        ],\n",
              "       [0.        , 0.        , 0.        ],\n",
              "       [0.        , 0.        , 0.        ],\n",
              "       [0.        , 0.        , 0.        ],\n",
              "       [0.        , 0.        , 0.        ],\n",
              "       [0.        , 0.        , 0.        ],\n",
              "       [0.        , 0.        , 0.        ]])"
            ]
          },
          "metadata": {},
          "execution_count": 25
        }
      ]
    },
    {
      "cell_type": "code",
      "source": [
        "y_train_new[0]"
      ],
      "metadata": {
        "colab": {
          "base_uri": "https://localhost:8080/"
        },
        "id": "1Qz04MuieCDQ",
        "outputId": "87e567b2-f580-43e3-80f0-f4d228e396c2"
      },
      "execution_count": null,
      "outputs": [
        {
          "output_type": "execute_result",
          "data": {
            "text/plain": [
              "array([1., 0.], dtype=float32)"
            ]
          },
          "metadata": {},
          "execution_count": 26
        }
      ]
    },
    {
      "cell_type": "code",
      "source": [
        "y_test_new[100]"
      ],
      "metadata": {
        "colab": {
          "base_uri": "https://localhost:8080/"
        },
        "id": "s3qhWkpfeF0Z",
        "outputId": "a11cfcf4-0827-4151-877a-7682e98597ea"
      },
      "execution_count": null,
      "outputs": [
        {
          "output_type": "execute_result",
          "data": {
            "text/plain": [
              "array([0., 1.], dtype=float32)"
            ]
          },
          "metadata": {},
          "execution_count": 33
        }
      ]
    },
    {
      "cell_type": "code",
      "source": [
        "X_train.shape"
      ],
      "metadata": {
        "colab": {
          "base_uri": "https://localhost:8080/"
        },
        "id": "q-bMVVPlgFfh",
        "outputId": "435ebb98-ebb1-4058-80cd-c27e7801e199"
      },
      "execution_count": null,
      "outputs": [
        {
          "output_type": "execute_result",
          "data": {
            "text/plain": [
              "(596, 100, 100, 3)"
            ]
          },
          "metadata": {},
          "execution_count": 40
        }
      ]
    },
    {
      "cell_type": "code",
      "source": [
        "train_generator = ImageDataGenerator(\n",
        "    validation_split = 0.2,\n",
        "    zoom_range = 10,\n",
        "    rotation_range = 15,\n",
        "    rescale = 1/255,\n",
        "    horizontal_flip = True\n",
        ")\n",
        "\n",
        "test_generator = ImageDataGenerator(\n",
        "    rescale = 1/255\n",
        ")"
      ],
      "metadata": {
        "id": "I_7t6CrLeVzg"
      },
      "execution_count": null,
      "outputs": []
    },
    {
      "cell_type": "code",
      "source": [
        "train = train_generator.flow(X_train, y_train_new, subset = 'training')\n",
        "validation = train_generator.flow(X_train, y_train_new, subset = 'validation')\n",
        "test = test_generator.flow(X_test, y_test_new)"
      ],
      "metadata": {
        "id": "lUuW6dUTfCq3"
      },
      "execution_count": null,
      "outputs": []
    },
    {
      "cell_type": "code",
      "source": [
        "model = Sequential()\n",
        "\n",
        "model.add(Conv2D(filters = 32, kernel_size = 5, input_shape = (img_size, img_size, 3), activation = 'relu'))\n",
        "model.add(MaxPooling2D(pool_size = 3))\n",
        "\n",
        "model.add(Conv2D(filters = 64, kernel_size = 5, activation = 'relu'))\n",
        "model.add(MaxPooling2D(pool_size = 3))\n",
        "\n",
        "model.add(Conv2D(filters = 128, kernel_size = 5, activation = 'relu'))\n",
        "model.add(MaxPooling2D(pool_size = 3))\n",
        "\n",
        "model.add(Flatten())\n",
        "\n",
        "model.add(Dense(units = 64, activation = 'relu'))\n",
        "model.add(Dropout(0.5))\n",
        "model.add(Dense(units = 2, activation = 'sigmoid'))\n",
        "\n",
        "model.compile(optimizer = 'adam', loss = 'categorical_crossentropy', metrics = ['accuracy'])\n",
        "\n",
        "model.summary()"
      ],
      "metadata": {
        "colab": {
          "base_uri": "https://localhost:8080/"
        },
        "id": "UkhMoCc8faHS",
        "outputId": "9db59a4d-26d7-4f62-d5e5-9567b6892431"
      },
      "execution_count": null,
      "outputs": [
        {
          "output_type": "stream",
          "name": "stdout",
          "text": [
            "Model: \"sequential_2\"\n",
            "_________________________________________________________________\n",
            " Layer (type)                Output Shape              Param #   \n",
            "=================================================================\n",
            " conv2d_4 (Conv2D)           (None, 96, 96, 32)        2432      \n",
            "                                                                 \n",
            " max_pooling2d_4 (MaxPooling  (None, 32, 32, 32)       0         \n",
            " 2D)                                                             \n",
            "                                                                 \n",
            " conv2d_5 (Conv2D)           (None, 28, 28, 64)        51264     \n",
            "                                                                 \n",
            " max_pooling2d_5 (MaxPooling  (None, 9, 9, 64)         0         \n",
            " 2D)                                                             \n",
            "                                                                 \n",
            " conv2d_6 (Conv2D)           (None, 5, 5, 128)         204928    \n",
            "                                                                 \n",
            " max_pooling2d_6 (MaxPooling  (None, 1, 1, 128)        0         \n",
            " 2D)                                                             \n",
            "                                                                 \n",
            " flatten_1 (Flatten)         (None, 128)               0         \n",
            "                                                                 \n",
            " dense_2 (Dense)             (None, 64)                8256      \n",
            "                                                                 \n",
            " dropout_1 (Dropout)         (None, 64)                0         \n",
            "                                                                 \n",
            " dense_3 (Dense)             (None, 2)                 130       \n",
            "                                                                 \n",
            "=================================================================\n",
            "Total params: 267,010\n",
            "Trainable params: 267,010\n",
            "Non-trainable params: 0\n",
            "_________________________________________________________________\n"
          ]
        }
      ]
    },
    {
      "cell_type": "code",
      "source": [
        "history = model.fit(x = train, validation_data = validation, epochs = 10)"
      ],
      "metadata": {
        "colab": {
          "base_uri": "https://localhost:8080/"
        },
        "id": "8bRbgVwFhp4v",
        "outputId": "60c7720a-1ce9-4b38-bf1a-319ebf1a1e1e"
      },
      "execution_count": null,
      "outputs": [
        {
          "output_type": "stream",
          "name": "stdout",
          "text": [
            "Epoch 1/10\n",
            "15/15 [==============================] - 9s 592ms/step - loss: 0.6657 - accuracy: 0.6080 - val_loss: 0.6713 - val_accuracy: 0.5882\n",
            "Epoch 2/10\n",
            "15/15 [==============================] - 9s 573ms/step - loss: 0.6662 - accuracy: 0.5954 - val_loss: 0.6772 - val_accuracy: 0.6050\n",
            "Epoch 3/10\n",
            "15/15 [==============================] - 9s 570ms/step - loss: 0.6695 - accuracy: 0.5618 - val_loss: 0.6772 - val_accuracy: 0.5042\n",
            "Epoch 4/10\n",
            "15/15 [==============================] - 9s 578ms/step - loss: 0.6875 - accuracy: 0.5451 - val_loss: 0.6901 - val_accuracy: 0.5042\n",
            "Epoch 5/10\n",
            "15/15 [==============================] - 9s 570ms/step - loss: 0.6725 - accuracy: 0.5765 - val_loss: 0.6908 - val_accuracy: 0.4958\n",
            "Epoch 6/10\n",
            "15/15 [==============================] - 9s 569ms/step - loss: 0.6636 - accuracy: 0.6080 - val_loss: 0.6819 - val_accuracy: 0.6134\n",
            "Epoch 7/10\n",
            "15/15 [==============================] - 9s 569ms/step - loss: 0.6676 - accuracy: 0.5996 - val_loss: 0.6814 - val_accuracy: 0.5714\n",
            "Epoch 8/10\n",
            "15/15 [==============================] - 9s 570ms/step - loss: 0.6661 - accuracy: 0.5744 - val_loss: 0.6826 - val_accuracy: 0.5378\n",
            "Epoch 9/10\n",
            "15/15 [==============================] - 9s 574ms/step - loss: 0.6732 - accuracy: 0.5660 - val_loss: 0.6651 - val_accuracy: 0.6218\n",
            "Epoch 10/10\n",
            "15/15 [==============================] - 9s 569ms/step - loss: 0.6621 - accuracy: 0.5870 - val_loss: 0.6699 - val_accuracy: 0.6471\n"
          ]
        }
      ]
    },
    {
      "cell_type": "code",
      "source": [
        "model.evaluate(test)"
      ],
      "metadata": {
        "colab": {
          "base_uri": "https://localhost:8080/"
        },
        "id": "cIFKD3KfiSCF",
        "outputId": "846e3c5d-9147-49a6-ac5b-8f498dd2a0e2"
      },
      "execution_count": null,
      "outputs": [
        {
          "output_type": "stream",
          "name": "stdout",
          "text": [
            "5/5 [==============================] - 1s 114ms/step - loss: 0.7008 - accuracy: 0.5133\n"
          ]
        },
        {
          "output_type": "execute_result",
          "data": {
            "text/plain": [
              "[0.7007600665092468, 0.5133333206176758]"
            ]
          },
          "metadata": {},
          "execution_count": 44
        }
      ]
    }
  ]
}