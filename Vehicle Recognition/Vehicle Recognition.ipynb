{
 "cells": [
  {
   "cell_type": "code",
   "execution_count": 2,
   "id": "d3ab6992",
   "metadata": {},
   "outputs": [],
   "source": [
    "import cv2\n",
    "import numpy as np\n",
    "import argparse\n",
    "import time\n",
    "from collections import OrderedDict\n",
    "from scipy.spatial import distance as dist"
   ]
  },
  {
   "cell_type": "code",
   "execution_count": 3,
   "id": "c9c473dd",
   "metadata": {},
   "outputs": [],
   "source": [
    "clusters = []"
   ]
  },
  {
   "cell_type": "code",
   "execution_count": 4,
   "id": "7c8c3db9",
   "metadata": {},
   "outputs": [],
   "source": [
    "modelConfiguration = \"D:\\Repository\\darknet\\cfg\\yolov3.cfg\"\n",
    "modelWeights = \"D:\\Repository\\darknet\\yolov3.weights\"\n",
    "cocoFile = \"D:\\Repository\\darknet\\cfg\\coco.names\""
   ]
  },
  {
   "cell_type": "code",
   "execution_count": 5,
   "id": "969a428e",
   "metadata": {},
   "outputs": [],
   "source": [
    "def load_yolo():\n",
    "    net = cv2.dnn.readNet(modelWeights, modelConfiguration)\n",
    "    classes = []\n",
    "    with open(cocoFile, 'r') as f:\n",
    "        classes = [line.strip() for line in f.readlines()]\n",
    "        \n",
    "    layer_names = net.getLayerNames()\n",
    "    \n",
    "    output_layers = [layer_names[i - 1] for i in net.getUnconnectedOutLayers()]\n",
    "    np.random.seed(1)\n",
    "    colors = np.random.uniform(0, 255, size = (len(classes), 3))\n",
    "    return net, classes, colors, output_layers\n",
    "\n",
    "\n",
    "def detect_objects(img, net, output_layers):\n",
    "    blob = cv2.dnn.blobFromImage(img, scalefactor = 1/255, size = (384, 384), mean = [0, 0, 0], swapRB = True, crop = False)\n",
    "    net.setInput(blob)\n",
    "    outputs = net.forward(output_layers)\n",
    "    return blob, outputs\n",
    "\n",
    "\n",
    "def get_box_dimension(outputs, height, width):\n",
    "    global clusters\n",
    "    boxes = []\n",
    "    confs = []\n",
    "    class_ids = []\n",
    "    for output in outputs:\n",
    "        for detect in output:\n",
    "            scores = detect[5:]\n",
    "            class_id = np.argmax(scores)\n",
    "            conf = scores[class_id]\n",
    "            if conf > 0.5:\n",
    "                center_x = int(detect[0] * width)\n",
    "                center_y = int(detect[1] * height)\n",
    "                w = int(detect[2] * width)\n",
    "                h = int(detect[3] * height)\n",
    "                x = int(center_x - w/2)\n",
    "                y = int(center_y - h/2)\n",
    "                \n",
    "                class_ids.append(class_id)\n",
    "                boxes.append([x, y, w, h])\n",
    "                confs.append(float(conf))\n",
    "                \n",
    "    return boxes, confs, class_ids\n",
    "\n",
    "\n",
    "def draw_labels(boxes, confs, colors, class_ids, classes, img):\n",
    "    cv2.line(img, (0, 500), (1280, 500), (0, 255, 0), 1)\n",
    "    indexes = cv2.dnn.NMSBoxes(boxes, confs, 0.5, 0.4)\n",
    "#     print('indexes', indexes)\n",
    "#     print('boxes', boxes)\n",
    "    font = cv2.FONT_HERSHEY_PLAIN\n",
    "    \n",
    "#     for idx, i in enumerate(boxes):\n",
    "# #         color = colors[i]\n",
    "#         label = 'index : {}'.format(str(idx))\n",
    "#         cv2.rectangle(img, (i[0], i[1]), (i[0] + i[2], i[1] + i[3]), (255, 0 ,0), 2)\n",
    "#         cv2.putText(img, label, (i[0], i[1] - 5), font, 1, (255, 0 ,0), 1)\n",
    "        \n",
    "    for i in range(len(boxes)):\n",
    "        if i in indexes:\n",
    "            x, y, w, h = boxes[i]\n",
    "            label = '{} index : {}'.format(str(classes[class_ids[i]]), str(i))\n",
    "            color = (255, 0 ,0)\n",
    "            cv2.rectangle(img, (x, y), (x + w, y + h), color, 2)\n",
    "            cv2.putText(img, label, (x, y - 5), font, 1, color, 1)\n",
    "    cv2.imshow('Image', img)"
   ]
  },
  {
   "cell_type": "code",
   "execution_count": 10,
   "id": "b061f773",
   "metadata": {},
   "outputs": [],
   "source": [
    "def start_video(video_path):\n",
    "    model, classes, colors, output_layers = load_yolo()\n",
    "    confidence = 0.5\n",
    "    ct = CentroidTracker()\n",
    "    cap = cv2.VideoCapture(video_path)\n",
    "    while True:\n",
    "        _, frame = cap.read()\n",
    "        height, width, channels = frame.shape\n",
    "        blob, outputs = detect_objects(frame, model, output_layers)\n",
    "        boxes, confs, class_ids = get_box_dimension(outputs, height, width)\n",
    "        \n",
    "        draw_labels(boxes, confs, colors, class_ids, classes, frame)\n",
    "        \n",
    "        if cv2.waitKey(1) & 0xFF == ord('q'):\n",
    "            break\n",
    "    cap.release()\n",
    "    cv2.destroyAllWindows()\n",
    "    \n",
    "start_video('traffic.mp4')"
   ]
  }
 ],
 "metadata": {
  "kernelspec": {
   "display_name": "Python 3 (ipykernel)",
   "language": "python",
   "name": "python3"
  },
  "language_info": {
   "codemirror_mode": {
    "name": "ipython",
    "version": 3
   },
   "file_extension": ".py",
   "mimetype": "text/x-python",
   "name": "python",
   "nbconvert_exporter": "python",
   "pygments_lexer": "ipython3",
   "version": "3.9.7"
  }
 },
 "nbformat": 4,
 "nbformat_minor": 5
}
